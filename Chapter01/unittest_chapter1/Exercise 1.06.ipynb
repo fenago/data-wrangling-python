{
 "cells": [
  {
   "cell_type": "code",
   "execution_count": null,
   "metadata": {},
   "outputs": [],
   "source": [
    "def test_exercise_7_1(x) -> bool:\n",
    "    return x == {'Solar Capital Ltd.': '920.44M',\n",
    "                 \"Zoe's Kitchen, Inc.\": '262.32M',\n",
    "                 'Toyota Motor Corp Ltd Ord': '156.02B',\n",
    "                 'Nuveen Virginia Quality Municipal Income Fund': '238.33M',\n",
    "                 'Kinross Gold Corporation': '5.1B',\n",
    "                 'Vulcan Materials Company': '17.1B',\n",
    "                 'Hi-Crush Partners LP': '955.69M',\n",
    "                 'Lennox International, Inc.': '8.05B',\n",
    "                 'WMIH Corp.': '300M',\n",
    "                 'Comerica Incorporated': 'n/a'}"
   ]
  },
  {
   "cell_type": "code",
   "execution_count": null,
   "metadata": {},
   "outputs": [],
   "source": [
    "def test_exercise_7_2(x) -> bool:\n",
    "    return x == {'Solar Capital Ltd.': ['920.44', 'M'],\n",
    "                 \"Zoe's Kitchen, Inc.\": ['262.32', 'M'],\n",
    "                 'Toyota Motor Corp Ltd Ord': ['156.02', 'B'],\n",
    "                 'Nuveen Virginia Quality Municipal Income Fund': ['238.33', 'M'],\n",
    "                 'Kinross Gold Corporation': ['5.1', 'B'],\n",
    "                 'Vulcan Materials Company': ['17.1', 'B'],\n",
    "                 'Hi-Crush Partners LP': ['955.69', 'M'],\n",
    "                 'Lennox International, Inc.': ['8.05', 'B'],\n",
    "                 'WMIH Corp.': ['300', 'M'],\n",
    "                 'Comerica Incorporated': ['n/', 'a']}"
   ]
  }
 ],
 "metadata": {
  "kernelspec": {
   "display_name": "Python 3",
   "language": "python",
   "name": "python3"
  },
  "language_info": {
   "codemirror_mode": {
    "name": "ipython",
    "version": 3
   },
   "file_extension": ".py",
   "mimetype": "text/x-python",
   "name": "python",
   "nbconvert_exporter": "python",
   "pygments_lexer": "ipython3",
   "version": "3.7.3"
  }
 },
 "nbformat": 4,
 "nbformat_minor": 2
}
