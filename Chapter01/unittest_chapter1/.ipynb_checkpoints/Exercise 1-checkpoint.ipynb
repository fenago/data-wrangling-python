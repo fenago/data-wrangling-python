{
 "cells": [
  {
   "cell_type": "code",
   "execution_count": null,
   "metadata": {},
   "outputs": [],
   "source": [
    "def test_exercise_1_1(x) -> bool:\n",
    "    return x == ['218-68-9955',\n",
    "                 '165-73-3124',\n",
    "                 '432-47-4043',\n",
    "                 '563-93-1393',\n",
    "                 '153-93-3401',\n",
    "                 '670-09-7369',\n",
    "                 '123-05-9652',\n",
    "                 '812-13-2476',\n",
    "                 '726-13-1007',\n",
    "                 '825-05-4836']"
   ]
  },
  {
   "cell_type": "code",
   "execution_count": null,
   "metadata": {},
   "outputs": [],
   "source": [
    "def test_exercise_1_2(x) -> bool:\n",
    "    return x == '218-68-9955'"
   ]
  },
  {
   "cell_type": "code",
   "execution_count": null,
   "metadata": {},
   "outputs": [],
   "source": [
    "def test_exercise_1_3(x) -> bool:\n",
    "    return x == '563-93-1393'"
   ]
  },
  {
   "cell_type": "code",
   "execution_count": null,
   "metadata": {},
   "outputs": [],
   "source": [
    "def test_exercise_1_4(x) -> bool:\n",
    "    return x == '825-05-4836'"
   ]
  },
  {
   "cell_type": "code",
   "execution_count": null,
   "metadata": {},
   "outputs": [],
   "source": [
    "def test_exercise_1_5(x) -> bool:\n",
    "    return x == '825-05-4836'"
   ]
  },
  {
   "cell_type": "code",
   "execution_count": null,
   "metadata": {},
   "outputs": [],
   "source": [
    "def test_exercise_1_6(x) -> bool:\n",
    "    return x == ['165-73-3124', '432-47-4043']"
   ]
  },
  {
   "cell_type": "code",
   "execution_count": null,
   "metadata": {},
   "outputs": [],
   "source": [
    "def test_exercise_1_7(x) -> bool:\n",
    "    return x == ['726-13-1007', '825-05-4836']"
   ]
  },
  {
   "cell_type": "code",
   "execution_count": null,
   "metadata": {},
   "outputs": [],
   "source": [
    "def test_exercise_1_8(x) -> bool:\n",
    "    return x == ['218-68-9955',\n",
    "                 '165-73-3124',\n",
    "                 '432-47-4043',\n",
    "                 '563-93-1393',\n",
    "                 '153-93-3401',\n",
    "                 '670-09-7369',\n",
    "                 '123-05-9652',\n",
    "                 '812-13-2476']"
   ]
  },
  {
   "cell_type": "code",
   "execution_count": null,
   "metadata": {},
   "outputs": [],
   "source": [
    "def test_exercise_1_9(x) -> bool:\n",
    "    return x == ['825-05-4836',\n",
    "                 '726-13-1007',\n",
    "                 '812-13-2476',\n",
    "                 '123-05-9652',\n",
    "                 '670-09-7369',\n",
    "                 '153-93-3401',\n",
    "                 '563-93-1393',\n",
    "                 '432-47-4043',\n",
    "                 '165-73-3124',\n",
    "                 '218-68-9955']"
   ]
  }
 ],
 "metadata": {
  "kernelspec": {
   "display_name": "Python 3",
   "language": "python",
   "name": "python3"
  },
  "language_info": {
   "codemirror_mode": {
    "name": "ipython",
    "version": 3
   },
   "file_extension": ".py",
   "mimetype": "text/x-python",
   "name": "python",
   "nbconvert_exporter": "python",
   "pygments_lexer": "ipython3",
   "version": "3.7.3"
  }
 },
 "nbformat": 4,
 "nbformat_minor": 2
}
