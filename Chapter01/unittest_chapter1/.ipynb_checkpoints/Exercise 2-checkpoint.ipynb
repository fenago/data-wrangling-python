{
 "cells": [
  {
   "cell_type": "code",
   "execution_count": null,
   "metadata": {},
   "outputs": [],
   "source": [
    "def test_exercise_2_1(x) -> bool:\n",
    "    return x == ['218-68-9955',\n",
    "                 '165-73-3124',\n",
    "                 '432-47-4043',\n",
    "                 '563-93-1393',\n",
    "                 '153-93-3401',\n",
    "                 '670-09-7369',\n",
    "                 '123-05-9652',\n",
    "                 '812-13-2476',\n",
    "                 '726-13-1007',\n",
    "                 '825-05-4836']"
   ]
  },
  {
   "cell_type": "code",
   "execution_count": null,
   "metadata": {},
   "outputs": [],
   "source": [
    "def test_exercise_2_2(x) -> bool:\n",
    "    return x == ['soc: 218-68-9955',\n",
    "                 'soc: 165-73-3124',\n",
    "                 'soc: 432-47-4043',\n",
    "                 'soc: 563-93-1393',\n",
    "                 'soc: 153-93-3401',\n",
    "                 'soc: 670-09-7369',\n",
    "                 'soc: 123-05-9652',\n",
    "                 'soc: 812-13-2476',\n",
    "                 'soc: 726-13-1007',\n",
    "                 'soc: 825-05-4836']"
   ]
  },
  {
   "cell_type": "code",
   "execution_count": null,
   "metadata": {},
   "outputs": [],
   "source": [
    "def test_exercise_2_4(x) -> bool:\n",
    "    return x == ['soc: 218-68-9955',\n",
    "                 'soc: 165-73-3124',\n",
    "                 'soc: 563-93-1393',\n",
    "                 'soc: 153-93-3401',\n",
    "                 'soc: 123-05-9652',\n",
    "                 'soc: 825-05-4836']"
   ]
  },
  {
   "cell_type": "code",
   "execution_count": null,
   "metadata": {},
   "outputs": [],
   "source": [
    "def test_exercise_2_5(x) -> bool:\n",
    "    return x == ['102-90-0314',\n",
    "                 '247-17-2338',\n",
    "                 '318-22-2760',\n",
    "                 '218-68-9955',\n",
    "                 '165-73-3124',\n",
    "                 '432-47-4043',\n",
    "                 '563-93-1393',\n",
    "                 '153-93-3401',\n",
    "                 '670-09-7369',\n",
    "                 '123-05-9652',\n",
    "                 '812-13-2476',\n",
    "                 '726-13-1007',\n",
    "                 '825-05-4836']"
   ]
  },
  {
   "cell_type": "code",
   "execution_count": null,
   "metadata": {},
   "outputs": [],
   "source": [
    "def test_exercise_2_6(x) -> bool:\n",
    "    return x == ['218-68-9955',\n",
    "                 '165-73-3124',\n",
    "                 '432-47-4043',\n",
    "                 '563-93-1393',\n",
    "                 '153-93-3401',\n",
    "                 '670-09-7369',\n",
    "                 '123-05-9652',\n",
    "                 '812-13-2476',\n",
    "                 '726-13-1007',\n",
    "                 '825-05-4836',\n",
    "                 '102-90-0314',\n",
    "                 '247-17-2338',\n",
    "                 '318-22-2760']"
   ]
  }
 ],
 "metadata": {
  "kernelspec": {
   "display_name": "Python 3",
   "language": "python",
   "name": "python3"
  },
  "language_info": {
   "codemirror_mode": {
    "name": "ipython",
    "version": 3
   },
   "file_extension": ".py",
   "mimetype": "text/x-python",
   "name": "python",
   "nbconvert_exporter": "python",
   "pygments_lexer": "ipython3",
   "version": "3.7.3"
  }
 },
 "nbformat": 4,
 "nbformat_minor": 2
}
