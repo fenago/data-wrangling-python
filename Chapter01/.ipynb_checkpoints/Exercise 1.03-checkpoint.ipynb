{
 "cells": [
  {
   "cell_type": "markdown",
   "metadata": {},
   "source": [
    "1. Iterate over a list"
   ]
  },
  {
   "cell_type": "code",
   "execution_count": 10,
   "metadata": {},
   "outputs": [
    {
     "data": {
      "text/plain": [
       "['Escalade ',\n",
       " ' X5 M',\n",
       " '“D150',\n",
       " 'Camaro',\n",
       " 'F350',\n",
       " 'Aurora',\n",
       " 'S8',\n",
       " 'E350',\n",
       " 'Tiburon',\n",
       " 'F-Series Super Duty ']"
      ]
     },
     "execution_count": 10,
     "metadata": {},
     "output_type": "execute_result"
    }
   ],
   "source": [
    "import pandas as pd\n",
    "car_models = list(pd.read_csv(\"car_models.csv\"))\n",
    "car_models"
   ]
  },
  {
   "cell_type": "code",
   "execution_count": 11,
   "metadata": {},
   "outputs": [
    {
     "name": "stdout",
     "output_type": "stream",
     "text": [
      "Escalade \n",
      " X5 M\n",
      "“D150\n",
      "Camaro\n",
      "F350\n",
      "Aurora\n",
      "S8\n",
      "E350\n",
      "Tiburon\n",
      "F-Series Super Duty \n"
     ]
    }
   ],
   "source": [
    "list_1 = [x for x in car_models] \n",
    "for i in range(0, len(list_1)): \n",
    "    print(list_1[i]) "
   ]
  },
  {
   "cell_type": "code",
   "execution_count": 4,
   "metadata": {},
   "outputs": [
    {
     "name": "stdout",
     "output_type": "stream",
     "text": [
      "Escalade\n",
      "X5 M\n",
      "D150\n",
      "Camaro\n",
      "F350\n",
      "Aurora\n",
      "S8\n",
      "E350\n",
      "Tiburon\n",
      "F-Series Super Duty\n"
     ]
    }
   ],
   "source": [
    "for i in list_1: \n",
    "    print(i)"
   ]
  },
  {
   "cell_type": "markdown",
   "metadata": {},
   "source": [
    "2. Check whether the integers 25 and -45 are in the list using the in operator"
   ]
  },
  {
   "cell_type": "code",
   "execution_count": 8,
   "metadata": {},
   "outputs": [
    {
     "data": {
      "text/plain": [
       "True"
      ]
     },
     "execution_count": 8,
     "metadata": {},
     "output_type": "execute_result"
    }
   ],
   "source": [
    " \"D150\"  in list_1 "
   ]
  },
  {
   "cell_type": "code",
   "execution_count": 9,
   "metadata": {},
   "outputs": [
    {
     "data": {
      "text/plain": [
       "False"
      ]
     },
     "execution_count": 9,
     "metadata": {},
     "output_type": "execute_result"
    }
   ],
   "source": [
    " \"Mustang\" in list_1 "
   ]
  },
  {
   "cell_type": "code",
   "execution_count": null,
   "metadata": {},
   "outputs": [],
   "source": []
  }
 ],
 "metadata": {
  "kernelspec": {
   "display_name": "Python 3",
   "language": "python",
   "name": "python3"
  },
  "language_info": {
   "codemirror_mode": {
    "name": "ipython",
    "version": 3
   },
   "file_extension": ".py",
   "mimetype": "text/x-python",
   "name": "python",
   "nbconvert_exporter": "python",
   "pygments_lexer": "ipython3",
   "version": "3.7.3"
  }
 },
 "nbformat": 4,
 "nbformat_minor": 2
}
