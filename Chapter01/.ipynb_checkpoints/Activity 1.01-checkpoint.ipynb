{
 "cells": [
  {
   "cell_type": "code",
   "execution_count": 1,
   "metadata": {},
   "outputs": [],
   "source": [
    "import random"
   ]
  },
  {
   "cell_type": "code",
   "execution_count": 2,
   "metadata": {},
   "outputs": [],
   "source": [
    "random_number_list = [random.randint(0, 100) for x in range(0, 100)]"
   ]
  },
  {
   "cell_type": "code",
   "execution_count": 3,
   "metadata": {},
   "outputs": [
    {
     "data": {
      "text/plain": [
       "[92,\n",
       " 62,\n",
       " 18,\n",
       " 96,\n",
       " 46,\n",
       " 3,\n",
       " 65,\n",
       " 85,\n",
       " 3,\n",
       " 75,\n",
       " 39,\n",
       " 90,\n",
       " 75,\n",
       " 69,\n",
       " 52,\n",
       " 61,\n",
       " 63,\n",
       " 19,\n",
       " 34,\n",
       " 53,\n",
       " 58,\n",
       " 37,\n",
       " 36,\n",
       " 78,\n",
       " 15,\n",
       " 98,\n",
       " 76,\n",
       " 87,\n",
       " 56,\n",
       " 6,\n",
       " 7,\n",
       " 35,\n",
       " 42,\n",
       " 54,\n",
       " 0,\n",
       " 45,\n",
       " 12,\n",
       " 27,\n",
       " 29,\n",
       " 59,\n",
       " 83,\n",
       " 81,\n",
       " 66,\n",
       " 30,\n",
       " 5,\n",
       " 62,\n",
       " 1,\n",
       " 28,\n",
       " 66,\n",
       " 14,\n",
       " 10,\n",
       " 47,\n",
       " 47,\n",
       " 19,\n",
       " 38,\n",
       " 10,\n",
       " 16,\n",
       " 77,\n",
       " 17,\n",
       " 84,\n",
       " 14,\n",
       " 60,\n",
       " 19,\n",
       " 58,\n",
       " 16,\n",
       " 67,\n",
       " 9,\n",
       " 97,\n",
       " 41,\n",
       " 70,\n",
       " 89,\n",
       " 75,\n",
       " 75,\n",
       " 28,\n",
       " 21,\n",
       " 2,\n",
       " 49,\n",
       " 13,\n",
       " 9,\n",
       " 14,\n",
       " 78,\n",
       " 54,\n",
       " 27,\n",
       " 4,\n",
       " 36,\n",
       " 52,\n",
       " 69,\n",
       " 47,\n",
       " 36,\n",
       " 59,\n",
       " 73,\n",
       " 70,\n",
       " 1,\n",
       " 96,\n",
       " 52,\n",
       " 72,\n",
       " 43,\n",
       " 87,\n",
       " 31,\n",
       " 91]"
      ]
     },
     "execution_count": 3,
     "metadata": {},
     "output_type": "execute_result"
    }
   ],
   "source": [
    "random_number_list"
   ]
  },
  {
   "cell_type": "code",
   "execution_count": 4,
   "metadata": {},
   "outputs": [
    {
     "data": {
      "text/plain": [
       "[18,\n",
       " 96,\n",
       " 3,\n",
       " 3,\n",
       " 75,\n",
       " 39,\n",
       " 90,\n",
       " 75,\n",
       " 69,\n",
       " 63,\n",
       " 36,\n",
       " 78,\n",
       " 15,\n",
       " 87,\n",
       " 6,\n",
       " 42,\n",
       " 54,\n",
       " 0,\n",
       " 45,\n",
       " 12,\n",
       " 27,\n",
       " 81,\n",
       " 66,\n",
       " 30,\n",
       " 66,\n",
       " 84,\n",
       " 60,\n",
       " 9,\n",
       " 75,\n",
       " 75,\n",
       " 21,\n",
       " 9,\n",
       " 78,\n",
       " 54,\n",
       " 27,\n",
       " 36,\n",
       " 69,\n",
       " 36,\n",
       " 96,\n",
       " 72,\n",
       " 87]"
      ]
     },
     "execution_count": 4,
     "metadata": {},
     "output_type": "execute_result"
    }
   ],
   "source": [
    "list_with_divisible_by_3 = [a for a in random_number_list if a % 3 == 0]\n",
    "list_with_divisible_by_3\n"
   ]
  },
  {
   "cell_type": "code",
   "execution_count": 5,
   "metadata": {},
   "outputs": [
    {
     "data": {
      "text/plain": [
       "59"
      ]
     },
     "execution_count": 5,
     "metadata": {},
     "output_type": "execute_result"
    }
   ],
   "source": [
    "length_of_random_list = len(random_number_list)\n",
    "length_of_3_divisible_list = len(list_with_divisible_by_3)\n",
    "difference = length_of_random_list - length_of_3_divisible_list\n",
    "difference\n"
   ]
  },
  {
   "cell_type": "code",
   "execution_count": 6,
   "metadata": {},
   "outputs": [
    {
     "data": {
      "text/plain": [
       "[71, 74, 62, 68, 63, 63, 68, 66, 68, 64]"
      ]
     },
     "execution_count": 6,
     "metadata": {},
     "output_type": "execute_result"
    }
   ],
   "source": [
    "NUMBER_OF_EXPERIMENTS = 10\n",
    "difference_list = []\n",
    "for i in range(0, NUMBER_OF_EXPERIMENTS):\n",
    "    random_number_list = [random.randint(0, 100) for x in range(0, 100)]\n",
    "    list_with_divisible_by_3 = [a for a in random_number_list if a % 3 == 0]\n",
    "    \n",
    "    length_of_random_list = len(random_number_list)\n",
    "    length_of_3_divisible_list = len(list_with_divisible_by_3)\n",
    "    difference = length_of_random_list - length_of_3_divisible_list\n",
    "    difference_list.append(difference)\n",
    "difference_list\n"
   ]
  },
  {
   "cell_type": "code",
   "execution_count": 7,
   "metadata": {},
   "outputs": [
    {
     "data": {
      "text/plain": [
       "66.7"
      ]
     },
     "execution_count": 7,
     "metadata": {},
     "output_type": "execute_result"
    }
   ],
   "source": [
    "avg_diff = sum(difference_list) / float(len(difference_list))\n",
    "avg_diff\n"
   ]
  },
  {
   "cell_type": "code",
   "execution_count": null,
   "metadata": {},
   "outputs": [],
   "source": []
  }
 ],
 "metadata": {
  "kernelspec": {
   "display_name": "Python 3",
   "language": "python",
   "name": "python3"
  },
  "language_info": {
   "codemirror_mode": {
    "name": "ipython",
    "version": 3
   },
   "file_extension": ".py",
   "mimetype": "text/x-python",
   "name": "python",
   "nbconvert_exporter": "python",
   "pygments_lexer": "ipython3",
   "version": "3.7.3"
  }
 },
 "nbformat": 4,
 "nbformat_minor": 2
}
