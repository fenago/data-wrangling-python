{
 "cells": [
  {
   "cell_type": "markdown",
   "metadata": {},
   "source": [
    "1. generate a random list with duplicate values"
   ]
  },
  {
   "cell_type": "code",
   "execution_count": 2,
   "metadata": {},
   "outputs": [],
   "source": [
    "import random\n",
    "list_1 = [random.randint(0, 30) for x in range (0, 100)] \n"
   ]
  },
  {
   "cell_type": "markdown",
   "metadata": {},
   "source": [
    "2. Create a unique valued list from list_1"
   ]
  },
  {
   "cell_type": "code",
   "execution_count": 3,
   "metadata": {},
   "outputs": [
    {
     "data": {
      "text/plain": [
       "[13,\n",
       " 8,\n",
       " 11,\n",
       " 3,\n",
       " 10,\n",
       " 23,\n",
       " 15,\n",
       " 4,\n",
       " 12,\n",
       " 1,\n",
       " 21,\n",
       " 26,\n",
       " 27,\n",
       " 30,\n",
       " 14,\n",
       " 19,\n",
       " 28,\n",
       " 20,\n",
       " 25,\n",
       " 16,\n",
       " 0,\n",
       " 5,\n",
       " 17,\n",
       " 2,\n",
       " 18,\n",
       " 24,\n",
       " 29,\n",
       " 6,\n",
       " 9]"
      ]
     },
     "execution_count": 3,
     "metadata": {},
     "output_type": "execute_result"
    }
   ],
   "source": [
    "list(dict.fromkeys(list_1).keys()) "
   ]
  },
  {
   "cell_type": "code",
   "execution_count": null,
   "metadata": {},
   "outputs": [],
   "source": []
  }
 ],
 "metadata": {
  "kernelspec": {
   "display_name": "Python 3",
   "language": "python",
   "name": "python3"
  },
  "language_info": {
   "codemirror_mode": {
    "name": "ipython",
    "version": 3
   },
   "file_extension": ".py",
   "mimetype": "text/x-python",
   "name": "python",
   "nbconvert_exporter": "python",
   "pygments_lexer": "ipython3",
   "version": "3.7.3"
  }
 },
 "nbformat": 4,
 "nbformat_minor": 2
}
