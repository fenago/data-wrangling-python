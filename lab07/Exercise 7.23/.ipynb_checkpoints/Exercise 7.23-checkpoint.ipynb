{
 "cells": [
  {
   "cell_type": "code",
   "execution_count": null,
   "metadata": {},
   "outputs": [],
   "source": [
    "import re\n",
    "def print_match(s):\n",
    "    if prog.search(s)==None:\n",
    "        print(\"No match\")\n",
    "    else:\n",
    "        print(prog.search(s).group())\n",
    "prog = re.compile(r'A{3}')\n",
    "print_match(\"ccAAAdd\")\n",
    "print_match(\"ccAAAAdd\")\n",
    "print_match(\"ccAAdd\")\n"
   ]
  },
  {
   "cell_type": "code",
   "execution_count": null,
   "metadata": {},
   "outputs": [],
   "source": [
    "prog = re.compile(r'A{2,4}B')\n",
    "\n",
    "print_match(\"ccAAABdd\")\n",
    "print_match(\"ccABdd\")\n",
    "print_match(\"ccAABBBdd\")\n",
    "print_match(\"ccAAAAAAABdd\")\n"
   ]
  },
  {
   "cell_type": "code",
   "execution_count": null,
   "metadata": {},
   "outputs": [],
   "source": [
    "prog = re.compile(r'A{,3}B')\n",
    "\n",
    "print_match(\"ccAAABdd\")\n",
    "print_match(\"ccABdd\")\n",
    "print_match(\"ccAABBBdd\")\n",
    "print_match(\"ccAAAAAAABdd\")\n"
   ]
  },
  {
   "cell_type": "code",
   "execution_count": null,
   "metadata": {},
   "outputs": [],
   "source": [
    "prog = re.compile(r'A{3,}B')\n",
    "\n",
    "print_match(\"ccAAABdd\")\n",
    "print_match(\"ccABdd\")\n",
    "print_match(\"ccAABBBdd\")\n",
    "print_match(\"ccAAAAAAABdd\")\n"
   ]
  },
  {
   "cell_type": "code",
   "execution_count": null,
   "metadata": {},
   "outputs": [],
   "source": [
    "prog = re.compile(r'A{2,4}')\n",
    "print_match(\"AAAAAAA\")\n",
    "prog = re.compile(r'A{2,4}?')\n",
    "print_match(\"AAAAAAA\")\n"
   ]
  },
  {
   "cell_type": "code",
   "execution_count": null,
   "metadata": {},
   "outputs": [],
   "source": []
  }
 ],
 "metadata": {
  "kernelspec": {
   "display_name": "Python 3",
   "language": "python",
   "name": "python3"
  },
  "language_info": {
   "codemirror_mode": {
    "name": "ipython",
    "version": 3
   },
   "file_extension": ".py",
   "mimetype": "text/x-python",
   "name": "python",
   "nbconvert_exporter": "python",
   "pygments_lexer": "ipython3",
   "version": "3.8.6"
  }
 },
 "nbformat": 4,
 "nbformat_minor": 2
}
