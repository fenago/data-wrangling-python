{
 "cells": [
  {
   "cell_type": "code",
   "execution_count": null,
   "metadata": {},
   "outputs": [],
   "source": [
    "import re\n",
    "def print_match(s):\n",
    "    if prog.search(s)==None:\n",
    "        print(\"No match\")\n",
    "    else:\n",
    "        print(prog.search(s).group())\n"
   ]
  },
  {
   "cell_type": "code",
   "execution_count": null,
   "metadata": {},
   "outputs": [],
   "source": [
    "prog = re.compile(r'ab*')\n",
    "\n",
    "print_match(\"a\")\n",
    "print_match(\"ab\")\n",
    "print_match(\"abbb\")\n",
    "print_match(\"b\")\n",
    "print_match(\"bbab\")\n",
    "print_match(\"something_abb_something\") \n"
   ]
  },
  {
   "cell_type": "code",
   "execution_count": null,
   "metadata": {},
   "outputs": [],
   "source": [
    "prog = re.compile(r'ab+')\n",
    "\n",
    "print_match(\"a\")\n",
    "print_match(\"ab\")\n",
    "print_match(\"abbb\")\n",
    "print_match(\"b\")\n",
    "print_match(\"bbab\")\n",
    "print_match(\"something_abb_something\") \n"
   ]
  },
  {
   "cell_type": "code",
   "execution_count": null,
   "metadata": {},
   "outputs": [],
   "source": [
    "prog = re.compile(r'ab?')\n",
    "\n",
    "print_match(\"a\")\n",
    "print_match(\"ab\")\n",
    "print_match(\"abbb\")\n",
    "print_match(\"b\")\n",
    "print_match(\"bbab\")\n",
    "print_match(\"something_abb_something\") \n"
   ]
  },
  {
   "cell_type": "code",
   "execution_count": null,
   "metadata": {},
   "outputs": [],
   "source": []
  }
 ],
 "metadata": {
  "kernelspec": {
   "display_name": "Python 3",
   "language": "python",
   "name": "python3"
  },
  "language_info": {
   "codemirror_mode": {
    "name": "ipython",
    "version": 3
   },
   "file_extension": ".py",
   "mimetype": "text/x-python",
   "name": "python",
   "nbconvert_exporter": "python",
   "pygments_lexer": "ipython3",
   "version": "3.8.6"
  }
 },
 "nbformat": 4,
 "nbformat_minor": 2
}
