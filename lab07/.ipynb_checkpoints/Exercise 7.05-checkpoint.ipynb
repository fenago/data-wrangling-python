{
 "cells": [
  {
   "cell_type": "raw",
   "metadata": {},
   "source": [
    "# 1.Open the Wikipedia page using this link https://en.wikipedia.org/wiki/Main_Page\n",
    "2.In the Mozilla Firefox browser, we can easily do this by right-clicking and selecting the \"Inspect Element\" option (in Chrome we do the same, except the menu option is called “inspect” only):\n"
   ]
  },
  {
   "cell_type": "markdown",
   "metadata": {},
   "source": [
    "As you hover over this with the mouse, you will see different portions of the page being highlighted. By doing this, it is easy to find out which precise block of markup text is responsible for the textual information we are interested in. Here, we can see that a certain <ul> block contains the text."
   ]
  },
  {
   "cell_type": "markdown",
   "metadata": {},
   "source": [
    "Now, it is prudent to find the <div> tag that contains this <ul> block within it. By looking around the same screen as before, we can find the <div> and its ID:"
   ]
  },
  {
   "cell_type": "code",
   "execution_count": null,
   "metadata": {},
   "outputs": [],
   "source": [
    "text_list=[] #Empty list\n",
    "for d in soup.find_all('div'):\n",
    "        if (d.get('id')=='mp-otd'):\n",
    "            for i in d.find_all('ul'):\n",
    "                text_list.append(i.text)\n"
   ]
  },
  {
   "cell_type": "code",
   "execution_count": null,
   "metadata": {},
   "outputs": [],
   "source": [
    "for i in text_list:\n",
    "    print(i)\n",
    "    print('-'*100)\n"
   ]
  }
 ],
 "metadata": {
  "kernelspec": {
   "display_name": "Python 3",
   "language": "python",
   "name": "python3"
  },
  "language_info": {
   "codemirror_mode": {
    "name": "ipython",
    "version": 3
   },
   "file_extension": ".py",
   "mimetype": "text/x-python",
   "name": "python",
   "nbconvert_exporter": "python",
   "pygments_lexer": "ipython3",
   "version": "3.7.3"
  }
 },
 "nbformat": 4,
 "nbformat_minor": 2
}
