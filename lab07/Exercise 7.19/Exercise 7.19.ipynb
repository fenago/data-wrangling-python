{
 "cells": [
  {
   "cell_type": "code",
   "execution_count": null,
   "metadata": {},
   "outputs": [],
   "source": [
    "import re\n",
    "prog = re.compile(r'py.')\n",
    "print(prog.search('pygmy').group())\n",
    "print(prog.search('Jupyter').group()) \n"
   ]
  },
  {
   "cell_type": "code",
   "execution_count": null,
   "metadata": {},
   "outputs": [],
   "source": [
    "prog = re.compile(r'c\\wm')\n",
    "print(prog.search('comedy').group())\n",
    "print(prog.search('camera').group())\n",
    "print(prog.search('pac_man').group())\n",
    "print(prog.search('pac2man').group()) \n"
   ]
  },
  {
   "cell_type": "code",
   "execution_count": null,
   "metadata": {},
   "outputs": [],
   "source": [
    "prog = re.compile(r'4\\W1')\n",
    "print(prog.search('4/1 was a wonderful day!').group())\n",
    "print(prog.search('4-1 was a wonderful day!').group())\n",
    "print(prog.search('4.1 was a wonderful day!').group())\n",
    "print(prog.search('Remember the wonderful day 04/1?').group()) \n"
   ]
  },
  {
   "cell_type": "code",
   "execution_count": null,
   "metadata": {},
   "outputs": [],
   "source": [
    "prog = re.compile(r'Data\\swrangling')\n",
    "print(prog.search(\"Data wrangling is cool\").group())\n",
    "print(\"-\"*80)\n",
    "print(\"Data\\twrangling is the full string\")\n",
    "print(prog.search(\"Data\\twrangling is the full string\").group())\n",
    "print(\"-\"*80)\n",
    "print(\"Data\\nwrangling is the full string\")\n",
    "print(prog.search(\"Data\\nwrangling\").group()) \n"
   ]
  },
  {
   "cell_type": "code",
   "execution_count": null,
   "metadata": {},
   "outputs": [],
   "source": [
    "prog = re.compile(r\"score was \\d\\d\")\n",
    "print(prog.search(\"My score was 67\").group())\n",
    "print(prog.search(\"Your score was 73\").group()) \n"
   ]
  },
  {
   "cell_type": "code",
   "execution_count": null,
   "metadata": {},
   "outputs": [],
   "source": []
  }
 ],
 "metadata": {
  "kernelspec": {
   "display_name": "Python 3",
   "language": "python",
   "name": "python3"
  },
  "language_info": {
   "codemirror_mode": {
    "name": "ipython",
    "version": 3
   },
   "file_extension": ".py",
   "mimetype": "text/x-python",
   "name": "python",
   "nbconvert_exporter": "python",
   "pygments_lexer": "ipython3",
   "version": "3.8.6"
  }
 },
 "nbformat": 4,
 "nbformat_minor": 2
}
