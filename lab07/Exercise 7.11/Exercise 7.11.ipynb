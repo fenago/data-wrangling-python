{
 "cells": [
  {
   "cell_type": "markdown",
   "metadata": {},
   "source": [
    "1.Read from the website http://www.recipepuppy.com/"
   ]
  },
  {
   "cell_type": "code",
   "execution_count": null,
   "metadata": {},
   "outputs": [],
   "source": [
    "import  requests, urllib.parse\n",
    "\n",
    "serviceurl = 'http://www.recipepuppy.com/api/?'\n",
    "item = str(input('Enter the name of a food item (enter \\'quit\\' to quit): '))\n",
    "url = serviceurl + urllib.parse.urlencode({'q':item})+'&p=1&format=xml'\n",
    "uh = requests.get(url)\n",
    "data = uh.text\n",
    "print('Retrieved', len(data), 'characters')"
   ]
  },
  {
   "cell_type": "code",
   "execution_count": null,
   "metadata": {},
   "outputs": [],
   "source": [
    "data.find(\"<!DOCTYPE html PUBLIC\") "
   ]
  },
  {
   "cell_type": "code",
   "execution_count": null,
   "metadata": {},
   "outputs": [],
   "source": [
    "end_marker = data.find(\"<!DOCTYPE html PUBLIC\")\n",
    "xml_text = data[:end_marker]\n"
   ]
  },
  {
   "cell_type": "code",
   "execution_count": null,
   "metadata": {},
   "outputs": [],
   "source": [
    "import xml.etree.ElementTree as ET\n",
    "end_marker = data.find(\"<!DOCTYPE html PUBLIC\") if data.find(\"<!DOCTYPE html PUBLIC\") != -1 else len(data)\n",
    "xml_text = data[:end_marker]\n",
    "tree3 = ET.fromstring(xml_text)\n"
   ]
  },
  {
   "cell_type": "code",
   "execution_count": null,
   "metadata": {},
   "outputs": [],
   "source": [
    "for elem in tree3.iter():\n",
    "    print(elem.text)\n"
   ]
  },
  {
   "cell_type": "code",
   "execution_count": null,
   "metadata": {},
   "outputs": [],
   "source": [
    "print(data)"
   ]
  },
  {
   "cell_type": "code",
   "execution_count": null,
   "metadata": {},
   "outputs": [],
   "source": [
    "for e in tree3.iter():\n",
    "    h=e.find('href')\n",
    "    t=e.find('title')\n",
    "    if h!=None and t!=None:\n",
    "        print(\"Receipe Link for:\",t.text)\n",
    "        print(h.text)\n",
    "        print(\"-\"*100)\n"
   ]
  }
 ],
 "metadata": {
  "kernelspec": {
   "display_name": "Python 3",
   "language": "python",
   "name": "python3"
  },
  "language_info": {
   "codemirror_mode": {
    "name": "ipython",
    "version": 3
   },
   "file_extension": ".py",
   "mimetype": "text/x-python",
   "name": "python",
   "nbconvert_exporter": "python",
   "pygments_lexer": "ipython3",
   "version": "3.8.6"
  }
 },
 "nbformat": 4,
 "nbformat_minor": 2
}
