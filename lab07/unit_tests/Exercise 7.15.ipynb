{
 "cells": [
  {
   "cell_type": "code",
   "execution_count": null,
   "metadata": {},
   "outputs": [],
   "source": [
    "def test_exercise_99_1a(x) -> bool:\n",
    "    prog = re.compile(r'ing') \n",
    "    return prog == x"
   ]
  },
  {
   "cell_type": "code",
   "execution_count": null,
   "metadata": {},
   "outputs": [],
   "source": [
    "def test_exercise_99_1b(x) -> bool:\n",
    "    words = ['Spring','Cycling','Ringtone'] \n",
    "    return words == x"
   ]
  },
  {
   "cell_type": "code",
   "execution_count": null,
   "metadata": {},
   "outputs": [],
   "source": [
    "def test_exercise_99_2a(x) -> bool:\n",
    "    prog = re.compile(r'ing') \n",
    "    words = ['Spring','Cycling','Ringtone'] \n",
    "    for w in words: \n",
    "        mt = prog.search(w) \n",
    "        # Span returns a tuple of start and end positions of the match \n",
    "        start_pos = mt.span()[0] # Starting position of the match \n",
    "        end_pos = mt.span()[1] # Ending position of the match \n",
    "    return w == x"
   ]
  },
  {
   "cell_type": "code",
   "execution_count": null,
   "metadata": {},
   "outputs": [],
   "source": [
    "def test_exercise_99_2b(x) -> bool:\n",
    "    prog = re.compile(r'ing') \n",
    "    words = ['Spring','Cycling','Ringtone'] \n",
    "    for w in words: \n",
    "        mt = prog.search(w) \n",
    "        # Span returns a tuple of start and end positions of the match \n",
    "        start_pos = mt.span()[0] # Starting position of the match \n",
    "        end_pos = mt.span()[1] # Ending position of the match \n",
    "    return start_pos == x"
   ]
  },
  {
   "cell_type": "code",
   "execution_count": null,
   "metadata": {},
   "outputs": [],
   "source": [
    "def test_exercise_99_2c(x) -> bool:\n",
    "    prog = re.compile(r'ing') \n",
    "    words = ['Spring','Cycling','Ringtone'] \n",
    "    for w in words: \n",
    "        mt = prog.search(w) \n",
    "        # Span returns a tuple of start and end positions of the match \n",
    "        start_pos = mt.span()[0] # Starting position of the match \n",
    "        end_pos = mt.span()[1] # Ending position of the match \n",
    "    return end_pos == x"
   ]
  }
 ],
 "metadata": {
  "kernelspec": {
   "display_name": "Python 3",
   "language": "python",
   "name": "python3"
  },
  "language_info": {
   "codemirror_mode": {
    "name": "ipython",
    "version": 3
   },
   "file_extension": ".py",
   "mimetype": "text/x-python",
   "name": "python",
   "nbconvert_exporter": "python",
   "pygments_lexer": "ipython3",
   "version": "3.7.3"
  }
 },
 "nbformat": 4,
 "nbformat_minor": 2
}
