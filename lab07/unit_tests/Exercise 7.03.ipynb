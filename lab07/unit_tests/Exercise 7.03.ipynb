{
 "cells": [
  {
   "cell_type": "code",
   "execution_count": null,
   "metadata": {},
   "outputs": [],
   "source": [
    "def test_exercise_84_1(x) -> bool:\n",
    "    import requests \n",
    "    from bs4 import BeautifulSoup \n",
    "    wiki_home = \"https://en.wikipedia.org/wiki/Main_Page\"\n",
    "    response = requests.get(wiki_home)\n",
    "    def decode_content(r,encoding): \n",
    "        return (r.content.decode(encoding)) \n",
    "    contents = decode_content(response,encoding_check(response)) \n",
    "    soup = BeautifulSoup(contents, 'html.parser')\n",
    "    return soup == x"
   ]
  },
  {
   "cell_type": "code",
   "execution_count": null,
   "metadata": {},
   "outputs": [],
   "source": [
    "def test_exercise_84_2(x) -> bool:\n",
    "    import requests \n",
    "    from bs4 import BeautifulSoup \n",
    "    wiki_home = \"https://en.wikipedia.org/wiki/Main_Page\"\n",
    "    response = requests.get(wiki_home)\n",
    "    def decode_content(r,encoding): \n",
    "        return (r.content.decode(encoding)) \n",
    "    contents = decode_content(response,encoding_check(response)) \n",
    "    soup = BeautifulSoup(contents, 'html.parser')\n",
    "    txt_dump=soup.text\n",
    "    return txt_dump == x"
   ]
  },
  {
   "cell_type": "code",
   "execution_count": null,
   "metadata": {},
   "outputs": [],
   "source": [
    "def test_exercise_84_3(x) -> bool:\n",
    "    return \"str\" == x"
   ]
  },
  {
   "cell_type": "code",
   "execution_count": null,
   "metadata": {},
   "outputs": [],
   "source": [
    "def test_exercise_84_4(x) -> bool:\n",
    "    import requests \n",
    "    from bs4 import BeautifulSoup \n",
    "    wiki_home = \"https://en.wikipedia.org/wiki/Main_Page\"\n",
    "    response = requests.get(wiki_home)\n",
    "    def decode_content(r,encoding): \n",
    "        return (r.content.decode(encoding)) \n",
    "    contents = decode_content(response,encoding_check(response)) \n",
    "    soup = BeautifulSoup(contents, 'html.parser')\n",
    "    txt_dump=soup.text\n",
    "    return txt_dump[10000:11000] == x"
   ]
  }
 ],
 "metadata": {
  "kernelspec": {
   "display_name": "Python 3",
   "language": "python",
   "name": "python3"
  },
  "language_info": {
   "codemirror_mode": {
    "name": "ipython",
    "version": 3
   },
   "file_extension": ".py",
   "mimetype": "text/x-python",
   "name": "python",
   "nbconvert_exporter": "python",
   "pygments_lexer": "ipython3",
   "version": "3.7.3"
  }
 },
 "nbformat": 4,
 "nbformat_minor": 2
}
