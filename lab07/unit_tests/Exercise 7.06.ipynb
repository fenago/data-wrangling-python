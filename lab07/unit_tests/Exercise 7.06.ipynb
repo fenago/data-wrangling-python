{
 "cells": [
  {
   "cell_type": "code",
   "execution_count": 6,
   "metadata": {},
   "outputs": [],
   "source": [
    "def wiki_on_this_day(url=\"https://en.wikipedia.org/wiki/Main_Page\"):\n",
    "    \"\"\"\n",
    "    Extracts the text corresponding to the \"On this day\" section on the Wikipedia Home Page.\n",
    "    Accepts the Wikipedia Home Page URL as a string, a default URL is provided.\n",
    "    \"\"\"\n",
    "    import requests\n",
    "    from bs4 import BeautifulSoup\n",
    "    \n",
    "    wiki_home = str(url)\n",
    "    response = requests.get(wiki_home)\n",
    "    \n",
    "    def status_check(r):\n",
    "        if r.status_code==200:\n",
    "            return 1\n",
    "        else:\n",
    "            return -1\n",
    "    def encoding_check(r): \n",
    "        return (r.encoding)\n",
    "    def decode_content(r,encoding): \n",
    "        return (r.content.decode(encoding))\n",
    "    status = status_check(response)\n",
    "    if status==1:\n",
    "        contents = decode_content(response,encoding_check(response))\n",
    "    else:\n",
    "        print(\"Sorry could not reach the web page!\")\n",
    "        return -1\n",
    "    \n",
    "    soup = BeautifulSoup(contents, 'html.parser')\n",
    "    text_list=[]\n",
    "    \n",
    "    for d in soup.find_all('div'):\n",
    "            if (d.get('id')=='mp-otd'):\n",
    "                for i in d.find_all('ul'):\n",
    "                    text_list.append(i.text)\n",
    "    \n",
    "    return (text_list[0])"
   ]
  },
  {
   "cell_type": "code",
   "execution_count": 7,
   "metadata": {},
   "outputs": [
    {
     "name": "stdout",
     "output_type": "stream",
     "text": [
      "1913 – At a ceremony at Kurrajong Hill, Lady Denman, the wife of Governor-General Lord Denman, announced that the future capital of Australia would be named Canberra.\n",
      "1930 – Mahatma Gandhi (pictured with Sarojini Naidu) began the Salt March, a 24-day nonviolent walk to defy the British salt tax in colonial India.\n",
      "1940 – The Moscow Peace Treaty was signed, ending the Winter War between Finland and the Soviet Union.\n",
      "1989 – Tim Berners-Lee submitted a memorandum at CERN with details of an information-management system, the first proposal for what would become the World Wide Web.\n"
     ]
    }
   ],
   "source": [
    "print(wiki_on_this_day())"
   ]
  },
  {
   "cell_type": "code",
   "execution_count": 8,
   "metadata": {},
   "outputs": [
    {
     "name": "stdout",
     "output_type": "stream",
     "text": [
      "Sorry could not reach the web page!\n",
      "-1\n"
     ]
    }
   ],
   "source": [
    "print(wiki_on_this_day(\"https://en.wikipedia.org/wiki/Main_Page1\"))"
   ]
  },
  {
   "cell_type": "code",
   "execution_count": null,
   "metadata": {},
   "outputs": [],
   "source": []
  }
 ],
 "metadata": {
  "kernelspec": {
   "display_name": "Python 3",
   "language": "python",
   "name": "python3"
  },
  "language_info": {
   "codemirror_mode": {
    "name": "ipython",
    "version": 3
   },
   "file_extension": ".py",
   "mimetype": "text/x-python",
   "name": "python",
   "nbconvert_exporter": "python",
   "pygments_lexer": "ipython3",
   "version": "3.7.3"
  }
 },
 "nbformat": 4,
 "nbformat_minor": 2
}
