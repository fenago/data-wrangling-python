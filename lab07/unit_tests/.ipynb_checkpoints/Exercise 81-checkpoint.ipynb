{
 "cells": [
  {
   "cell_type": "code",
   "execution_count": null,
   "metadata": {},
   "outputs": [],
   "source": [
    "def test_exercise_81__1(x) -> bool:\n",
    "    import requests\n",
    "    if \"requests\" not in sys.modules:\n",
    "        return False\n",
    "    else:\n",
    "        return True"
   ]
  },
  {
   "cell_type": "code",
   "execution_count": null,
   "metadata": {},
   "outputs": [],
   "source": [
    "def test_exercise_81__2(x) -> bool:\n",
    "    return \"https://en.wikipedia.org/wiki/Main_Page\" == x"
   ]
  },
  {
   "cell_type": "code",
   "execution_count": null,
   "metadata": {},
   "outputs": [],
   "source": [
    "def test_exercise_81__3(x) -> bool:\n",
    "    import requests \n",
    "    wiki_home = \"https://en.wikipedia.org/wiki/Main_Page\"\n",
    "    response = requests.get(wiki_home)\n",
    "    return response == x"
   ]
  },
  {
   "cell_type": "code",
   "execution_count": null,
   "metadata": {},
   "outputs": [],
   "source": [
    "def test_exercise_81__4(x) -> bool:\n",
    "    return \"requests.models.Response\" == x"
   ]
  }
 ],
 "metadata": {
  "kernelspec": {
   "display_name": "Python 3",
   "language": "python",
   "name": "python3"
  },
  "language_info": {
   "codemirror_mode": {
    "name": "ipython",
    "version": 3
   },
   "file_extension": ".py",
   "mimetype": "text/x-python",
   "name": "python",
   "nbconvert_exporter": "python",
   "pygments_lexer": "ipython3",
   "version": "3.7.3"
  }
 },
 "nbformat": 4,
 "nbformat_minor": 2
}
