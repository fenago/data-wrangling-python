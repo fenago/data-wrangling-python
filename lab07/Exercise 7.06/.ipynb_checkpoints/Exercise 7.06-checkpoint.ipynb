{
 "cells": [
  {
   "cell_type": "code",
   "execution_count": null,
   "metadata": {},
   "outputs": [],
   "source": [
    "def wiki_on_this_day(url=\"https://en.wikipedia.org/wiki/Main_Page\"):\n",
    "    \"\"\"\n",
    "    Extracts the text corresponding to the \"On this day\" section on the Wikipedia Home Page.\n",
    "    Accepts the Wikipedia Home Page URL as a string, a default URL is provided.\n",
    "    \"\"\"\n",
    "    import requests\n",
    "    from bs4 import BeautifulSoup\n",
    "    \n",
    "    wiki_home = str(url)\n",
    "    response = requests.get(wiki_home)\n",
    "    \n",
    "    def status_check(r):\n",
    "        if r.status_code==200:\n",
    "            return 1\n",
    "        else:\n",
    "            return -1\n",
    "    def encoding_check(r): \n",
    "        return (r.encoding)\n",
    "    def decode_content(r,encoding): \n",
    "        return (r.content.decode(encoding))\n",
    "    status = status_check(response)\n",
    "    if status==1:\n",
    "        contents = decode_content(response,encoding_check(response))\n",
    "    else:\n",
    "        print(\"Sorry could not reach the web page!\")\n",
    "        return -1\n",
    "    \n",
    "    soup = BeautifulSoup(contents, 'html.parser')\n",
    "    text_list=[]\n",
    "    \n",
    "    for d in soup.find_all('div'):\n",
    "            if (d.get('id')=='mp-otd'):\n",
    "                for i in d.find_all('ul'):\n",
    "                    text_list.append(i.text)\n",
    "    \n",
    "    return (text_list[0])"
   ]
  },
  {
   "cell_type": "code",
   "execution_count": null,
   "metadata": {},
   "outputs": [],
   "source": [
    "print(wiki_on_this_day())"
   ]
  },
  {
   "cell_type": "code",
   "execution_count": null,
   "metadata": {},
   "outputs": [],
   "source": [
    "print(wiki_on_this_day(\"https://en.wikipedia.org/wiki/Main_Page1\"))"
   ]
  },
  {
   "cell_type": "code",
   "execution_count": null,
   "metadata": {},
   "outputs": [],
   "source": []
  }
 ],
 "metadata": {
  "kernelspec": {
   "display_name": "Python 3",
   "language": "python",
   "name": "python3"
  },
  "language_info": {
   "codemirror_mode": {
    "name": "ipython",
    "version": 3
   },
   "file_extension": ".py",
   "mimetype": "text/x-python",
   "name": "python",
   "nbconvert_exporter": "python",
   "pygments_lexer": "ipython3",
   "version": "3.8.6"
  }
 },
 "nbformat": 4,
 "nbformat_minor": 2
}
