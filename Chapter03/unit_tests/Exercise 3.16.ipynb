{
 "cells": [
  {
   "cell_type": "code",
   "execution_count": 2,
   "metadata": {},
   "outputs": [],
   "source": [
    "import pandas as pd\n",
    "def test_exercise_41_1(x) -> bool:\n",
    "    df = pd.read_csv(\"stock.csv\")\n",
    "    return x == df.head()"
   ]
  },
  {
   "cell_type": "code",
   "execution_count": null,
   "metadata": {},
   "outputs": [],
   "source": [
    "import pandas as pd\n",
    "def test_exercise_41_1(x) -> bool:\n",
    "    df = pd.read_csv(\"stock.csv\")\n",
    "    df['New'] = df['Price'] + df['Price'] \n",
    "    df['New (Sum of X and Z)'] = df['New'] + df['Price']\n",
    "    return x == df"
   ]
  },
  {
   "cell_type": "code",
   "execution_count": null,
   "metadata": {},
   "outputs": [],
   "source": [
    "import pandas as pd\n",
    "def test_exercise_41_2(x) -> bool:\n",
    "    df = pd.read_csv(\"stock.csv\")\n",
    "    df['New'] = df['Price'] + df['Price'] \n",
    "    df['New (Sum of X and Z)'] = df['New'] + df['Price']\n",
    "    return x == df.drop('New', axis=1)"
   ]
  },
  {
   "cell_type": "code",
   "execution_count": null,
   "metadata": {},
   "outputs": [],
   "source": [
    "import pandas as pd\n",
    "def test_exercise_41_3(x) -> bool:\n",
    "    df = pd.read_csv(\"stock.csv\")\n",
    "    df['New'] = df['Price'] + df['Price'] \n",
    "    df['New (Sum of X and Z)'] = df['New'] + df['Price']\n",
    "    return x == df.drop(1) \n"
   ]
  },
  {
   "cell_type": "code",
   "execution_count": null,
   "metadata": {},
   "outputs": [],
   "source": [
    "import pandas as pd\n",
    "def test_exercise_41_4(x) -> bool:\n",
    "    df = pd.read_csv(\"stock.csv\")\n",
    "    df['New'] = df['Price'] + df['Price'] \n",
    "    df['New (Sum of X and Z)'] = df['New'] + df['Price']\n",
    "    return x == df.drop('New (Sum of X and Z)', axis=1, inplace=True) \n",
    "\n"
   ]
  }
 ],
 "metadata": {
  "kernelspec": {
   "display_name": "Python 3",
   "language": "python",
   "name": "python3"
  },
  "language_info": {
   "codemirror_mode": {
    "name": "ipython",
    "version": 3
   },
   "file_extension": ".py",
   "mimetype": "text/x-python",
   "name": "python",
   "nbconvert_exporter": "python",
   "pygments_lexer": "ipython3",
   "version": "3.7.3"
  }
 },
 "nbformat": 4,
 "nbformat_minor": 2
}
