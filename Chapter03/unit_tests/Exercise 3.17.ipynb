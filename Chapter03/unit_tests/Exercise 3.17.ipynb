{
 "cells": [
  {
   "cell_type": "code",
   "execution_count": null,
   "metadata": {},
   "outputs": [],
   "source": [
    "def test_exercise_42_1(x) -> bool:\n",
    "    return x == ['Ann','Brandon','Chen','David','Emily','Farook', \n",
    "\n",
    "          'Gagan','Hamish','Imran','Joseph','Katherine','Lily']"
   ]
  },
  {
   "cell_type": "code",
   "execution_count": null,
   "metadata": {},
   "outputs": [],
   "source": [
    "def test_exercise_42_2(x) -> bool:\n",
    "    import sys\n",
    "    if \"matplotlib\" in sys.modules:\n",
    "        return False\n",
    "    else:\n",
    "        return True"
   ]
  },
  {
   "cell_type": "code",
   "execution_count": null,
   "metadata": {},
   "outputs": [],
   "source": [
    "import matplotlib.pyplot as plt \n",
    "def test_exercise_42_3(x) -> bool:\n",
    "    return x == plt.scatter(age,weight) "
   ]
  },
  {
   "cell_type": "code",
   "execution_count": null,
   "metadata": {},
   "outputs": [],
   "source": [
    "import matplotlib.pyplot as plt \n",
    "def test_exercise_42_4(x) -> bool:\n",
    "    plt.figure(figsize=(8,6)) \n",
    "    plt.title(\"Plot of Age vs. Weight (in kgs)\",fontsize=20) \n",
    "    plt.xlabel(\"Age (years)\",fontsize=16) \n",
    "    plt.ylabel(\"Weight (kgs)\",fontsize=16) \n",
    "    plt.grid (True) \n",
    "    plt.ylim(0,100) \n",
    "    plt.xticks([i*5 for i in range(12)],fontsize=15) \n",
    "    plt.yticks(fontsize=15) \n",
    "    plt.scatter(x=age,y=weight,c='orange',s=150,edgecolors='k') \n",
    "    plt.text(x=20,y=85,s=\"Weights after 18-20 years of age\",fontsize=15) \n",
    "    plt.vlines(x=20,ymin=0,ymax=80,linestyles='dashed',color='blue',lw=3) \n",
    "    plt.legend(['Weight in kgs'],loc=2,fontsize=12) \n",
    "    return x == plt"
   ]
  }
 ],
 "metadata": {
  "kernelspec": {
   "display_name": "Python 3",
   "language": "python",
   "name": "python3"
  },
  "language_info": {
   "codemirror_mode": {
    "name": "ipython",
    "version": 3
   },
   "file_extension": ".py",
   "mimetype": "text/x-python",
   "name": "python",
   "nbconvert_exporter": "python",
   "pygments_lexer": "ipython3",
   "version": "3.7.3"
  }
 },
 "nbformat": 4,
 "nbformat_minor": 2
}
