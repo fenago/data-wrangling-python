{
 "cells": [
  {
   "cell_type": "code",
   "execution_count": null,
   "metadata": {},
   "outputs": [],
   "source": [
    "import numpy as np\n",
    "import pandasd as pd\n",
    "def test_exercise_38_1(x) -> bool:\n",
    "    my_data = [10,20,30] \n",
    "    array_1 = np.array(my_data) \n",
    "    return x == pd.Series(array_1)"
   ]
  },
  {
   "cell_type": "code",
   "execution_count": null,
   "metadata": {},
   "outputs": [],
   "source": [
    "import numpy as np\n",
    "import pandasd as pd\n",
    "def test_exercise_38_2(x) -> bool:\n",
    "    labels = ['a','b','c'] \n",
    "    return x == pd.Series(labels)"
   ]
  },
  {
   "cell_type": "code",
   "execution_count": null,
   "metadata": {},
   "outputs": [],
   "source": [
    "import numpy as np\n",
    "import pandasd as pd\n",
    "def test_exercise_38_3(x) -> bool:\n",
    "    return x ==pd.Series(data=[sum,print,len])\n"
   ]
  },
  {
   "cell_type": "code",
   "execution_count": null,
   "metadata": {},
   "outputs": [],
   "source": [
    "import numpy as np\n",
    "import pandasd as pd\n",
    "def test_exercise_38_4(x) -> bool:\n",
    "    d = {'a':10,'b':20,'c':30} \n",
    "    return x == pd.Series(data=[d.keys, d.items, d.values])"
   ]
  }
 ],
 "metadata": {
  "kernelspec": {
   "display_name": "Python 3",
   "language": "python",
   "name": "python3"
  },
  "language_info": {
   "codemirror_mode": {
    "name": "ipython",
    "version": 3
   },
   "file_extension": ".py",
   "mimetype": "text/x-python",
   "name": "python",
   "nbconvert_exporter": "python",
   "pygments_lexer": "ipython3",
   "version": "3.7.3"
  }
 },
 "nbformat": 4,
 "nbformat_minor": 2
}
