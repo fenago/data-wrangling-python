{
 "cells": [
  {
   "cell_type": "code",
   "execution_count": null,
   "metadata": {},
   "outputs": [],
   "source": [
    "import pandas as pd\n",
    "import numpy as np\n",
    "\n",
    "def test_exercise_31_1(x) -> bool:\n",
    "    df = pd.read_csv(\"..\\numbers2.csv\",header=None) \n",
    "    list_2D = df.values\n",
    "    mat1 = np.array(list_2D) \n",
    "    return x == mat1"
   ]
  },
  {
   "cell_type": "code",
   "execution_count": null,
   "metadata": {},
   "outputs": [],
   "source": [
    "\n",
    "import numpy as np\n",
    "\n",
    "def test_exercise_31_2(x) -> bool:\n",
    "    tuple_2D = np.array([(1.5,2,3), (4,5,6)]) \n",
    "    mat_tuple = np.array(tuple_2D) \n",
    "    return x == mat_tuple"
   ]
  },
  {
   "cell_type": "code",
   "execution_count": null,
   "metadata": {},
   "outputs": [],
   "source": []
  }
 ],
 "metadata": {
  "kernelspec": {
   "display_name": "Python 3",
   "language": "python",
   "name": "python3"
  },
  "language_info": {
   "codemirror_mode": {
    "name": "ipython",
    "version": 3
   },
   "file_extension": ".py",
   "mimetype": "text/x-python",
   "name": "python",
   "nbconvert_exporter": "python",
   "pygments_lexer": "ipython3",
   "version": "3.7.3"
  }
 },
 "nbformat": 4,
 "nbformat_minor": 2
}
