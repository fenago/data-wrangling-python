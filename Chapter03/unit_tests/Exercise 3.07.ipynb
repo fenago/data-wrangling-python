{
 "cells": [
  {
   "cell_type": "code",
   "execution_count": null,
   "metadata": {},
   "outputs": [],
   "source": [
    "import pandas as pd \n",
    "import numpy as np\n",
    "\n",
    "def test_exercise_32_1(x) -> bool:\n",
    "    df = pd.read_csv(\"numbers2.csv\",header=None)  \n",
    "    list_2D = df.values \n",
    "    mat1 = np.array(list_2D) \n",
    "    return x == mat1"
   ]
  },
  {
   "cell_type": "code",
   "execution_count": null,
   "metadata": {},
   "outputs": [],
   "source": [
    "import pandas as pd \n",
    "import numpy as np\n",
    "\n",
    "def test_exercise_32_1(x) -> bool:\n",
    "    df = pd.read_csv(\"numbers2.csv\",header=None)  \n",
    "    list_2D = df.values \n",
    "    mat1 = np.array(list_2D) \n",
    "    return x == mat1.ndim"
   ]
  },
  {
   "cell_type": "code",
   "execution_count": 1,
   "metadata": {},
   "outputs": [],
   "source": [
    "import pandas as pd \n",
    "import numpy as np\n",
    "\n",
    "def test_exercise_32_2(x) -> bool:\n",
    "    df = pd.read_csv(\"numbers2.csv\",header=None)  \n",
    "    list_2D = df.values \n",
    "    mat1 = np.array(list_2D) \n",
    "    return x == mat1.size"
   ]
  },
  {
   "cell_type": "code",
   "execution_count": null,
   "metadata": {},
   "outputs": [],
   "source": [
    "import pandas as pd \n",
    "import numpy as np\n",
    "\n",
    "def test_exercise_32_3(x) -> bool:\n",
    "    df = pd.read_csv(\"numbers2.csv\",header=None)  \n",
    "    list_2D = df.values \n",
    "    mat1 = np.array(list_2D) \n",
    "    return x == mat1.shape"
   ]
  },
  {
   "cell_type": "code",
   "execution_count": null,
   "metadata": {},
   "outputs": [],
   "source": [
    "import pandas as pd \n",
    "import numpy as np\n",
    "\n",
    "def test_exercise_32_4(x) -> bool:\n",
    "    df = pd.read_csv(\"numbers2.csv\",header=None)  \n",
    "    list_2D = df.values \n",
    "    mat1 = np.array(list_2D) \n",
    "    return x == mat1.dtype"
   ]
  }
 ],
 "metadata": {
  "kernelspec": {
   "display_name": "Python 3",
   "language": "python",
   "name": "python3"
  },
  "language_info": {
   "codemirror_mode": {
    "name": "ipython",
    "version": 3
   },
   "file_extension": ".py",
   "mimetype": "text/x-python",
   "name": "python",
   "nbconvert_exporter": "python",
   "pygments_lexer": "ipython3",
   "version": "3.7.3"
  }
 },
 "nbformat": 4,
 "nbformat_minor": 2
}
