{
 "cells": [
  {
   "cell_type": "code",
   "execution_count": null,
   "metadata": {},
   "outputs": [],
   "source": [
    "import numpy as np\n",
    "def test_exercise_39_1(x) -> bool:\n",
    "    return x == np.random.randint(1,10,size=20).reshape(5,4) "
   ]
  },
  {
   "cell_type": "code",
   "execution_count": null,
   "metadata": {},
   "outputs": [],
   "source": [
    "import pandas as pd\n",
    "def test_exercise_39_2(x) -> bool:\n",
    "    row_labels = ['A','B','C','D','E'] \n",
    "    column_headings = ['W','X','Y','Z'] \n",
    "    return x == pd.DataFrame(data=matrix_data, index=row_labels, columns=column_headings) "
   ]
  },
  {
   "cell_type": "code",
   "execution_count": null,
   "metadata": {},
   "outputs": [],
   "source": [
    "import numpy as np\n",
    "def test_exercise_39_4(x) -> bool:\n",
    "    return x == {'a' : [10, 20],'b' : [30, 40],'c' : [50, 60]} "
   ]
  },
  {
   "cell_type": "code",
   "execution_count": null,
   "metadata": {},
   "outputs": [],
   "source": [
    "import numpy as np\n",
    "def test_exercise_39_5(x) -> bool:\n",
    "    d = {'a' : [10, 20],'b' : [30, 40],'c' : [50, 60]} \n",
    "    return x == pd.DataFrame(data=d,index=['X','Y']) "
   ]
  }
 ],
 "metadata": {
  "kernelspec": {
   "display_name": "Python 3",
   "language": "python",
   "name": "python3"
  },
  "language_info": {
   "codemirror_mode": {
    "name": "ipython",
    "version": 3
   },
   "file_extension": ".py",
   "mimetype": "text/x-python",
   "name": "python",
   "nbconvert_exporter": "python",
   "pygments_lexer": "ipython3",
   "version": "3.7.3"
  }
 },
 "nbformat": 4,
 "nbformat_minor": 2
}
