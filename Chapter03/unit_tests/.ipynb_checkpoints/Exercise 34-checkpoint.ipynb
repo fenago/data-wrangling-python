{
 "cells": [
  {
   "cell_type": "code",
   "execution_count": 1,
   "metadata": {},
   "outputs": [],
   "source": [
    "import numpy as np\n",
    "def test_exercise_34_1(x) -> bool:\n",
    "    return x == np.random.randint(1,100,30) "
   ]
  },
  {
   "cell_type": "code",
   "execution_count": 2,
   "metadata": {},
   "outputs": [],
   "source": [
    "import numpy as np\n",
    "def test_exercise_34_1(x) -> bool:\n",
    "    a = np.random.randint(1,100,30) \n",
    "    return x == a.reshape(2,3,5) "
   ]
  },
  {
   "cell_type": "code",
   "execution_count": null,
   "metadata": {},
   "outputs": [],
   "source": [
    "import numpy as np\n",
    "def test_exercise_34_1(x) -> bool:\n",
    "    a = np.random.randint(1,100,30) \n",
    "    return x == a.reshape(6,5) "
   ]
  },
  {
   "cell_type": "code",
   "execution_count": null,
   "metadata": {},
   "outputs": [],
   "source": [
    "import numpy as np\n",
    "def test_exercise_34_2(x) -> bool:\n",
    "    return x == np.random.randint(1,100,30).shape"
   ]
  },
  {
   "cell_type": "code",
   "execution_count": null,
   "metadata": {},
   "outputs": [],
   "source": [
    "import numpy as np\n",
    "def test_exercise_34_2(x) -> bool:\n",
    "    a = np.random.randint(1,100,30) \n",
    "    return x == a.reshape(2,3,5).shape"
   ]
  },
  {
   "cell_type": "code",
   "execution_count": null,
   "metadata": {},
   "outputs": [],
   "source": [
    "import numpy as np\n",
    "def test_exercise_34_2(x) -> bool:\n",
    "    a = np.random.randint(1,100,30) \n",
    "    return x == a.reshape(6,5).shape"
   ]
  }
 ],
 "metadata": {
  "kernelspec": {
   "display_name": "Python 3",
   "language": "python",
   "name": "python3"
  },
  "language_info": {
   "codemirror_mode": {
    "name": "ipython",
    "version": 3
   },
   "file_extension": ".py",
   "mimetype": "text/x-python",
   "name": "python",
   "nbconvert_exporter": "python",
   "pygments_lexer": "ipython3",
   "version": "3.7.3"
  }
 },
 "nbformat": 4,
 "nbformat_minor": 2
}
