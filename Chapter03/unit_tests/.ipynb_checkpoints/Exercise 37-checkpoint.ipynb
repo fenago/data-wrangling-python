{
 "cells": [
  {
   "cell_type": "code",
   "execution_count": null,
   "metadata": {},
   "outputs": [],
   "source": [
    "def test_exercise_37_1(x) -> bool:\n",
    "    return x == {'a':10,'b':20,'c':30} "
   ]
  },
  {
   "cell_type": "code",
   "execution_count": null,
   "metadata": {},
   "outputs": [],
   "source": [
    "def test_exercise_37_2(x) -> bool:\n",
    "    import sys\n",
    "    if \"pandas\" in sys.modules:\n",
    "        return False\n",
    "    else:\n",
    "        return True"
   ]
  },
  {
   "cell_type": "code",
   "execution_count": 1,
   "metadata": {},
   "outputs": [],
   "source": [
    "import pandas as pd \n",
    "def test_exercise_37_3(x) -> bool:\n",
    "    return x == pd.Series(data=[10,20,30]) "
   ]
  },
  {
   "cell_type": "code",
   "execution_count": null,
   "metadata": {},
   "outputs": [],
   "source": [
    "import pandas as pd \n",
    "def test_exercise_37_4(x) -> bool:\n",
    "    return x == pd.Series(data=[10,20,30], index = ['a','b','c'] ) "
   ]
  },
  {
   "cell_type": "code",
   "execution_count": null,
   "metadata": {},
   "outputs": [],
   "source": [
    "import pandas as pd \n",
    "def test_exercise_37_5(x) -> bool:\n",
    "    my_data = [10,20,30] \n",
    "    array_1 = np.array(my_data) \n",
    "    return x == pd.Series(data=array_1, index = ['a','b','c'] ) "
   ]
  },
  {
   "cell_type": "code",
   "execution_count": null,
   "metadata": {},
   "outputs": [],
   "source": [
    "import pandas as pd \n",
    "def test_exercise_37_5(x) -> bool:\n",
    "    d = {'a':10,'b':20,'c':30}    \n",
    "    return x ==pd.Series(d)\n"
   ]
  }
 ],
 "metadata": {
  "kernelspec": {
   "display_name": "Python 3",
   "language": "python",
   "name": "python3"
  },
  "language_info": {
   "codemirror_mode": {
    "name": "ipython",
    "version": 3
   },
   "file_extension": ".py",
   "mimetype": "text/x-python",
   "name": "python",
   "nbconvert_exporter": "python",
   "pygments_lexer": "ipython3",
   "version": "3.7.3"
  }
 },
 "nbformat": 4,
 "nbformat_minor": 2
}
