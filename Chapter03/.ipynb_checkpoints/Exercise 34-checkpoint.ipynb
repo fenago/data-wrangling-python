{
 "cells": [
  {
   "cell_type": "markdown",
   "metadata": {},
   "source": [
    "1. Create an array of 30 random integers"
   ]
  },
  {
   "cell_type": "code",
   "execution_count": 2,
   "metadata": {},
   "outputs": [],
   "source": [
    "import numpy as np\n",
    "a = np.random.randint(1,100,30) \n",
    "\n",
    "b = a.reshape(2,3,5) \n",
    "\n",
    "c = a.reshape(6,5) "
   ]
  },
  {
   "cell_type": "markdown",
   "metadata": {},
   "source": [
    "2. Print the shape using the shape"
   ]
  },
  {
   "cell_type": "code",
   "execution_count": 3,
   "metadata": {},
   "outputs": [
    {
     "name": "stdout",
     "output_type": "stream",
     "text": [
      "Shape of a: (30,)\n",
      "Shape of b: (2, 3, 5)\n",
      "Shape of c: (6, 5)\n"
     ]
    }
   ],
   "source": [
    "print (\"Shape of a:\", a.shape) \n",
    "\n",
    "print (\"Shape of b:\", b.shape) \n",
    "\n",
    "print (\"Shape of c:\", c.shape) "
   ]
  },
  {
   "cell_type": "markdown",
   "metadata": {},
   "source": [
    "3. Print the arrays a, b, and c "
   ]
  },
  {
   "cell_type": "code",
   "execution_count": 4,
   "metadata": {},
   "outputs": [
    {
     "name": "stdout",
     "output_type": "stream",
     "text": [
      "\n",
      "a looks like\n",
      " [80  6 77 43 73 29 52 38  1 20 49 12 43 76 73  9 38 10 61 16 69 15 43 77\n",
      " 12 92 14 98 83 14]\n",
      "\n",
      "b looks like\n",
      " [[[80  6 77 43 73]\n",
      "  [29 52 38  1 20]\n",
      "  [49 12 43 76 73]]\n",
      "\n",
      " [[ 9 38 10 61 16]\n",
      "  [69 15 43 77 12]\n",
      "  [92 14 98 83 14]]]\n",
      "\n",
      "c looks like\n",
      " [[80  6 77 43 73]\n",
      " [29 52 38  1 20]\n",
      " [49 12 43 76 73]\n",
      " [ 9 38 10 61 16]\n",
      " [69 15 43 77 12]\n",
      " [92 14 98 83 14]]\n"
     ]
    }
   ],
   "source": [
    "print(\"\\na looks like\\n\",a) \n",
    "\n",
    "print(\"\\nb looks like\\n\",b) \n",
    "\n",
    "print(\"\\nc looks like\\n\",c) "
   ]
  }
 ],
 "metadata": {
  "kernelspec": {
   "display_name": "Python 3",
   "language": "python",
   "name": "python3"
  },
  "language_info": {
   "codemirror_mode": {
    "name": "ipython",
    "version": 3
   },
   "file_extension": ".py",
   "mimetype": "text/x-python",
   "name": "python",
   "nbconvert_exporter": "python",
   "pygments_lexer": "ipython3",
   "version": "3.7.3"
  }
 },
 "nbformat": 4,
 "nbformat_minor": 2
}
