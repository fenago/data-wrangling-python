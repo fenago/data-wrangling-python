{
 "cells": [
  {
   "cell_type": "code",
   "execution_count": null,
   "metadata": {},
   "outputs": [],
   "source": [
    "def stack_push(s, value): \n",
    "    return s + [value] \n",
    "\n",
    "def stack_pop(s): \n",
    "    tos = s[-1] \n",
    "    del s[-1] \n",
    "    return tos \n",
    "\n",
    " \n",
    "url_stack = [] \n",
    "url_stack"
   ]
  },
  {
   "cell_type": "code",
   "execution_count": null,
   "metadata": {},
   "outputs": [],
   "source": [
    "wikipedia_datascience = \"\"\"Data science is an interdisciplinary \n",
    "field that uses scientific methods, \n",
    "processes, algorithms and systems to extract \n",
    "knowledge [https://en.wikipedia.org/wiki/Knowledge] and i\n",
    "nsights from data [https://en.wikipedia.org/wiki/Data] in various\n",
    "forms, both structured and unstructured,similar to data mining \n",
    "[https://en.wikipedia.org/wiki/Data_mining]\"\"\""
   ]
  },
  {
   "cell_type": "code",
   "execution_count": null,
   "metadata": {},
   "outputs": [],
   "source": [
    "len(wikipedia_datascience) "
   ]
  },
  {
   "cell_type": "code",
   "execution_count": null,
   "metadata": {},
   "outputs": [],
   "source": [
    "wd_list = wikipedia_datascience.split() \n",
    "wd_list"
   ]
  },
  {
   "cell_type": "code",
   "execution_count": null,
   "metadata": {},
   "outputs": [],
   "source": [
    "len(wd_list) "
   ]
  },
  {
   "cell_type": "code",
   "execution_count": null,
   "metadata": {},
   "outputs": [],
   "source": [
    "for word in wd_list: \n",
    "    if word.startswith(\"[https://\"): \n",
    "        url_stack = stack_push(url_stack, word[1:-1])\n",
    "        print(word[1:-1])"
   ]
  },
  {
   "cell_type": "code",
   "execution_count": null,
   "metadata": {},
   "outputs": [],
   "source": [
    "print(url_stack)"
   ]
  },
  {
   "cell_type": "code",
   "execution_count": null,
   "metadata": {},
   "outputs": [],
   "source": [
    "for i in range(0, len(url_stack)): \n",
    "    print(stack_pop(url_stack)) "
   ]
  },
  {
   "cell_type": "code",
   "execution_count": null,
   "metadata": {},
   "outputs": [],
   "source": [
    "print(url_stack)"
   ]
  }
 ],
 "metadata": {
  "kernelspec": {
   "display_name": "Python 3",
   "language": "python",
   "name": "python3"
  },
  "language_info": {
   "codemirror_mode": {
    "name": "ipython",
    "version": 3
   },
   "file_extension": ".py",
   "mimetype": "text/x-python",
   "name": "python",
   "nbconvert_exporter": "python",
   "pygments_lexer": "ipython3",
   "version": "3.8.6"
  }
 },
 "nbformat": 4,
 "nbformat_minor": 2
}
