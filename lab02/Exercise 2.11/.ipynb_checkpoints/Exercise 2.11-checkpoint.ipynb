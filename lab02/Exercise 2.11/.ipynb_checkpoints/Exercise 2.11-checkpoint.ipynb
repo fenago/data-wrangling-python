{
 "cells": [
  {
   "cell_type": "code",
   "execution_count": null,
   "metadata": {},
   "outputs": [],
   "source": [
    "data_dict = {\"India\": \"Delhi\", \"France\": \"Paris\", \"UK\": \"London\", \n",
    "             \"USA\": \"Washington\"} \n",
    "\n",
    "with open(\"../datasets/data_temporary_files.txt\", \"w\") as fd: \n",
    "    for country, capital in data_dict.items(): \n",
    "        fd.write(\"The capital of {} is {}\\n\".format( \n",
    "            country, capital)) "
   ]
  },
  {
   "cell_type": "code",
   "execution_count": null,
   "metadata": {},
   "outputs": [],
   "source": [
    "with open(\"../datasets/data_temporary_files.txt\", \"r\") as fd: \n",
    "    for line in fd: \n",
    "        print(line) "
   ]
  },
  {
   "cell_type": "code",
   "execution_count": null,
   "metadata": {},
   "outputs": [],
   "source": [
    "data_dict_2 = {\"China\": \"Beijing\", \"Japan\": \"Tokyo\"} \n",
    "with open(\"../datasets/data_temporary_files.txt\", \"a\") as fd: \n",
    "    for country, capital in data_dict_2.items(): \n",
    "        print(\"The capital of {} is {}\".format( \n",
    "            country, capital), file=fd) "
   ]
  },
  {
   "cell_type": "code",
   "execution_count": null,
   "metadata": {},
   "outputs": [],
   "source": [
    "with open(\"../datasets/data_temporary_files.txt\", \"r\") as fd: \n",
    "    for line in fd: \n",
    "        print(line) "
   ]
  }
 ],
 "metadata": {
  "kernelspec": {
   "display_name": "Python 3",
   "language": "python",
   "name": "python3"
  },
  "language_info": {
   "codemirror_mode": {
    "name": "ipython",
    "version": 3
   },
   "file_extension": ".py",
   "mimetype": "text/x-python",
   "name": "python",
   "nbconvert_exporter": "python",
   "pygments_lexer": "ipython3",
   "version": "3.8.6"
  }
 },
 "nbformat": 4,
 "nbformat_minor": 2
}
