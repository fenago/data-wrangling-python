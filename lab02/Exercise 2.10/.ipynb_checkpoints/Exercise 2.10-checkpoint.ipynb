{
 "cells": [
  {
   "cell_type": "code",
   "execution_count": null,
   "metadata": {},
   "outputs": [],
   "source": [
    "with open(\"../datasets/Alice’s Adventures in Wonderland, by Lewis Carroll\",\n",
    "          encoding=\"utf8\") as fd: \n",
    "    for line in fd: \n",
    "            print(line) "
   ]
  },
  {
   "cell_type": "code",
   "execution_count": null,
   "metadata": {},
   "outputs": [],
   "source": [
    "with open(\"../datasets/Alice’s Adventures in Wonderland, by Lewis Carroll\",\n",
    "          encoding=\"utf8\") as fd: \n",
    "    for line in fd: \n",
    "        print(line) \n",
    "    print(\"Ended first loop\") \n",
    "    for line in fd: \n",
    "        print(line) "
   ]
  }
 ],
 "metadata": {
  "kernelspec": {
   "display_name": "Python 3",
   "language": "python",
   "name": "python3"
  },
  "language_info": {
   "codemirror_mode": {
    "name": "ipython",
    "version": 3
   },
   "file_extension": ".py",
   "mimetype": "text/x-python",
   "name": "python",
   "nbconvert_exporter": "python",
   "pygments_lexer": "ipython3",
   "version": "3.8.6"
  }
 },
 "nbformat": 4,
 "nbformat_minor": 2
}
