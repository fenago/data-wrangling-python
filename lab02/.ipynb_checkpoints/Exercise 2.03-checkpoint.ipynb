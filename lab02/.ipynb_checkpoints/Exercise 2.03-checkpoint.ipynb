{
 "cells": [
  {
   "cell_type": "markdown",
   "metadata": {},
   "source": [
    "1. First, define two functions, stack_push and stack_pop. "
   ]
  },
  {
   "cell_type": "code",
   "execution_count": 28,
   "metadata": {},
   "outputs": [
    {
     "data": {
      "text/plain": [
       "[]"
      ]
     },
     "execution_count": 28,
     "metadata": {},
     "output_type": "execute_result"
    }
   ],
   "source": [
    "def stack_push(s, value): \n",
    "    return s + [value] \n",
    "\n",
    "def stack_pop(s): \n",
    "    tos = s[-1] \n",
    "    del s[-1] \n",
    "    return tos \n",
    "\n",
    " \n",
    "url_stack = [] \n",
    "url_stack"
   ]
  },
  {
   "cell_type": "markdown",
   "metadata": {},
   "source": [
    "2. create a string with a few urls in it "
   ]
  },
  {
   "cell_type": "code",
   "execution_count": 29,
   "metadata": {},
   "outputs": [],
   "source": [
    "wikipedia_datascience = \"\"\"Data science is an interdisciplinary \n",
    "field that uses scientific methods, \n",
    "processes, algorithms and systems to extract \n",
    "knowledge [https://en.wikipedia.org/wiki/Knowledge] and i\n",
    "nsights from data [https://en.wikipedia.org/wiki/Data] in various\n",
    "forms, both structured and unstructured,similar to data mining \n",
    "[https://en.wikipedia.org/wiki/Data_mining]\"\"\""
   ]
  },
  {
   "cell_type": "markdown",
   "metadata": {},
   "source": [
    "3. Find the length of the string"
   ]
  },
  {
   "cell_type": "code",
   "execution_count": 30,
   "metadata": {},
   "outputs": [
    {
     "data": {
      "text/plain": [
       "347"
      ]
     },
     "execution_count": 30,
     "metadata": {},
     "output_type": "execute_result"
    }
   ],
   "source": [
    "len(wikipedia_datascience) "
   ]
  },
  {
   "cell_type": "markdown",
   "metadata": {},
   "source": [
    "4. Convert this string into a list by using the split method from the string, and then calculate its length"
   ]
  },
  {
   "cell_type": "code",
   "execution_count": 34,
   "metadata": {},
   "outputs": [
    {
     "data": {
      "text/plain": [
       "['Data',\n",
       " 'science',\n",
       " 'is',\n",
       " 'an',\n",
       " 'interdisciplinary',\n",
       " 'field',\n",
       " 'that',\n",
       " 'uses',\n",
       " 'scientific',\n",
       " 'methods,',\n",
       " 'processes,',\n",
       " 'algorithms',\n",
       " 'and',\n",
       " 'systems',\n",
       " 'to',\n",
       " 'extract',\n",
       " 'knowledge',\n",
       " '[https://en.wikipedia.org/wiki/Knowledge]',\n",
       " 'and',\n",
       " 'insights',\n",
       " 'from',\n",
       " 'data',\n",
       " '[https://en.wikipedia.org/wiki/Data]',\n",
       " 'in',\n",
       " 'various',\n",
       " 'forms,',\n",
       " 'both',\n",
       " 'structured',\n",
       " 'and',\n",
       " 'unstructured,similar',\n",
       " 'to',\n",
       " 'data',\n",
       " 'mining',\n",
       " '[https://en.wikipedia.org/wiki/Data_mining]']"
      ]
     },
     "execution_count": 34,
     "metadata": {},
     "output_type": "execute_result"
    }
   ],
   "source": [
    "wd_list = wikipedia_datascience.split() \n",
    "wd_list"
   ]
  },
  {
   "cell_type": "code",
   "execution_count": 35,
   "metadata": {},
   "outputs": [
    {
     "data": {
      "text/plain": [
       "34"
      ]
     },
     "execution_count": 35,
     "metadata": {},
     "output_type": "execute_result"
    }
   ],
   "source": [
    "len(wd_list) "
   ]
  },
  {
   "cell_type": "markdown",
   "metadata": {},
   "source": [
    "5. Use a for loop to go over each word and check whether it is a URL"
   ]
  },
  {
   "cell_type": "code",
   "execution_count": 68,
   "metadata": {},
   "outputs": [
    {
     "name": "stdout",
     "output_type": "stream",
     "text": [
      "https://en.wikipedia.org/wiki/Knowledge\n",
      "https://en.wikipedia.org/wiki/Data\n",
      "https://en.wikipedia.org/wiki/Data_mining\n"
     ]
    }
   ],
   "source": [
    "for word in wd_list: \n",
    "    if word.startswith(\"[https://\"): \n",
    "        url_stack = stack_push(url_stack, word[1:-1])\n",
    "        print(word[1:-1])"
   ]
  },
  {
   "cell_type": "markdown",
   "metadata": {},
   "source": [
    "6. Print the value of the stack"
   ]
  },
  {
   "cell_type": "code",
   "execution_count": 69,
   "metadata": {},
   "outputs": [
    {
     "name": "stdout",
     "output_type": "stream",
     "text": [
      "['https://en.wikipedia.org/wiki/Knowledge', 'https://en.wikipedia.org/wiki/Data', 'https://en.wikipedia.org/wiki/Data_mining']\n"
     ]
    }
   ],
   "source": [
    "print(url_stack)"
   ]
  },
  {
   "cell_type": "markdown",
   "metadata": {},
   "source": [
    "7. Iterate over the list and print the URLs one by one by using the stack_pop function"
   ]
  },
  {
   "cell_type": "code",
   "execution_count": 71,
   "metadata": {},
   "outputs": [
    {
     "name": "stdout",
     "output_type": "stream",
     "text": [
      "https://en.wikipedia.org/wiki/Data_mining\n",
      "https://en.wikipedia.org/wiki/Data\n",
      "https://en.wikipedia.org/wiki/Knowledge\n"
     ]
    }
   ],
   "source": [
    "for i in range(0, len(url_stack)): \n",
    "    print(stack_pop(url_stack)) "
   ]
  },
  {
   "cell_type": "markdown",
   "metadata": {},
   "source": [
    "8. Print it again to make sure that the stack is empty after the final for loop"
   ]
  },
  {
   "cell_type": "code",
   "execution_count": 72,
   "metadata": {},
   "outputs": [
    {
     "name": "stdout",
     "output_type": "stream",
     "text": [
      "[]\n"
     ]
    }
   ],
   "source": [
    "print(url_stack)"
   ]
  }
 ],
 "metadata": {
  "kernelspec": {
   "display_name": "Python 3",
   "language": "python",
   "name": "python3"
  },
  "language_info": {
   "codemirror_mode": {
    "name": "ipython",
    "version": 3
   },
   "file_extension": ".py",
   "mimetype": "text/x-python",
   "name": "python",
   "nbconvert_exporter": "python",
   "pygments_lexer": "ipython3",
   "version": "3.7.3"
  }
 },
 "nbformat": 4,
 "nbformat_minor": 2
}
