{
 "cells": [
  {
   "cell_type": "code",
   "execution_count": 1,
   "metadata": {},
   "outputs": [],
   "source": [
    "import pandas as pd     \n",
    "stack = []\n"
   ]
  },
  {
   "cell_type": "code",
   "execution_count": 2,
   "metadata": {},
   "outputs": [
    {
     "data": {
      "text/plain": [
       "['my_test@test.edu',\n",
       " 'rahul.subhramanian@test.edu',\n",
       " 'sania.test@test.edu',\n",
       " 'alec_baldwin@test.edu',\n",
       " 'albert90@test.edu',\n",
       " 'stewartj@test.edu']"
      ]
     },
     "execution_count": 2,
     "metadata": {},
     "output_type": "execute_result"
    }
   ],
   "source": [
    "stack.append('my_test@test.edu')  \n",
    "stack.append('rahul.subhramanian@test.edu')\n",
    "stack.append('sania.test@test.edu')  \n",
    "stack.append('alec_baldwin@test.edu')\n",
    "stack.append('albert90@test.edu')  \n",
    "stack.append('stewartj@test.edu')\n",
    "stack\n"
   ]
  },
  {
   "cell_type": "code",
   "execution_count": 3,
   "metadata": {},
   "outputs": [
    {
     "data": {
      "text/plain": [
       "'stewartj@test.edu'"
      ]
     },
     "execution_count": 3,
     "metadata": {},
     "output_type": "execute_result"
    }
   ],
   "source": [
    "tos = stack.pop()\n",
    "tos\n"
   ]
  },
  {
   "cell_type": "code",
   "execution_count": 4,
   "metadata": {},
   "outputs": [
    {
     "data": {
      "text/plain": [
       "['my_test@test.edu',\n",
       " 'rahul.subhramanian@test.edu',\n",
       " 'sania.test@test.edu',\n",
       " 'alec_baldwin@test.edu',\n",
       " 'albert90@test.edu',\n",
       " 'Hello@test.com']"
      ]
     },
     "execution_count": 4,
     "metadata": {},
     "output_type": "execute_result"
    }
   ],
   "source": [
    "stack.append(\"Hello@test.com\")\n",
    "stack\n"
   ]
  },
  {
   "cell_type": "code",
   "execution_count": null,
   "metadata": {},
   "outputs": [],
   "source": []
  }
 ],
 "metadata": {
  "kernelspec": {
   "display_name": "Python 3",
   "language": "python",
   "name": "python3"
  },
  "language_info": {
   "codemirror_mode": {
    "name": "ipython",
    "version": 3
   },
   "file_extension": ".py",
   "mimetype": "text/x-python",
   "name": "python",
   "nbconvert_exporter": "python",
   "pygments_lexer": "ipython3",
   "version": "3.7.3"
  }
 },
 "nbformat": 4,
 "nbformat_minor": 2
}
