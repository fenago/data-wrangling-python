{
 "cells": [
  {
   "cell_type": "code",
   "execution_count": null,
   "metadata": {},
   "outputs": [],
   "source": [
    "%%time \n",
    "queue = [] \n",
    "\n",
    "for i in range(0, 100000): \n",
    "    queue.append(i) \n",
    "print(\"Queue created\") \n",
    "queue"
   ]
  },
  {
   "cell_type": "code",
   "execution_count": null,
   "metadata": {},
   "outputs": [],
   "source": [
    "%%time \n",
    "for i in range(0, 100000): \n",
    "    queue.pop(0) \n",
    "\n",
    "print(\"Queue emptied\") \n",
    "queue"
   ]
  },
  {
   "cell_type": "code",
   "execution_count": null,
   "metadata": {},
   "outputs": [],
   "source": [
    "%%time \n",
    "\n",
    "from collections import deque \n",
    "\n",
    "queue2 = deque() \n",
    "for i in range(0, 100000): \n",
    "    queue2.append(i) \n",
    "    \n",
    "print(\"Queue created\") \n",
    "for i in range(0, 100000): \n",
    "    queue2.popleft() \n",
    "    \n",
    "print(\"Queue emptied\") "
   ]
  }
 ],
 "metadata": {
  "kernelspec": {
   "display_name": "Python 3",
   "language": "python",
   "name": "python3"
  },
  "language_info": {
   "codemirror_mode": {
    "name": "ipython",
    "version": 3
   },
   "file_extension": ".py",
   "mimetype": "text/x-python",
   "name": "python",
   "nbconvert_exporter": "python",
   "pygments_lexer": "ipython3",
   "version": "3.8.6"
  }
 },
 "nbformat": 4,
 "nbformat_minor": 2
}
