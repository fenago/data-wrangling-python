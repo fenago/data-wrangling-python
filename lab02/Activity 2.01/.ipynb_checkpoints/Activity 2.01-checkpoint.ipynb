{
 "cells": [
  {
   "cell_type": "code",
   "execution_count": null,
   "metadata": {},
   "outputs": [],
   "source": [
    "from itertools import permutations, dropwhile\n",
    "permutations?\n",
    "dropwhile?\n"
   ]
  },
  {
   "cell_type": "code",
   "execution_count": null,
   "metadata": {},
   "outputs": [],
   "source": [
    "permutations(range(3))\n"
   ]
  },
  {
   "cell_type": "code",
   "execution_count": null,
   "metadata": {},
   "outputs": [],
   "source": [
    "for number_tuple in permutations(range(3)):\n",
    "    print(number_tuple)\n",
    "    assert isinstance(number_tuple, tuple)  \n"
   ]
  },
  {
   "cell_type": "code",
   "execution_count": null,
   "metadata": {},
   "outputs": [],
   "source": [
    "for number_tuple in permutations(range(3)):\n",
    "    print(list(dropwhile(lambda x: x <= 0, number_tuple)))  \n"
   ]
  },
  {
   "cell_type": "code",
   "execution_count": null,
   "metadata": {},
   "outputs": [],
   "source": [
    "import math\n",
    "def convert_to_number(number_stack):\n",
    "    final_number = 0\n",
    "    for i in range(0, len(number_stack)):\n",
    "        final_number += (number_stack.pop() * (math.pow(10, i)))\n",
    "    return final_number\n",
    "\n",
    "for number_tuple in permutations(range(3)):\n",
    "    number_stack = list(dropwhile(lambda x: x <= 0, number_tuple))\n",
    "    print(convert_to_number(number_stack))  \n"
   ]
  },
  {
   "cell_type": "code",
   "execution_count": null,
   "metadata": {},
   "outputs": [],
   "source": []
  }
 ],
 "metadata": {
  "kernelspec": {
   "display_name": "Python 3",
   "language": "python",
   "name": "python3"
  },
  "language_info": {
   "codemirror_mode": {
    "name": "ipython",
    "version": 3
   },
   "file_extension": ".py",
   "mimetype": "text/x-python",
   "name": "python",
   "nbconvert_exporter": "python",
   "pygments_lexer": "ipython3",
   "version": "3.8.6"
  }
 },
 "nbformat": 4,
 "nbformat_minor": 2
}
