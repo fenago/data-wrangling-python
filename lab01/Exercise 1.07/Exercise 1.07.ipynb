{
 "cells": [
  {
   "cell_type": "code",
   "execution_count": null,
   "metadata": {},
   "outputs": [],
   "source": [
    "stocks = {\"Solar Capital Ltd.\":\"$920.44M\",    \n",
    "\"Zoe's Kitchen, Inc.\":\"$262.32M\",\n",
    "\"Toyota Motor Corp Ltd Ord\":\"$156.02B\",    \n",
    "\"Nuveen Virginia Quality Municipal Income Fund\":\"$238.33M\",\n",
    "\"Kinross Gold Corporation\":\"$5.1B\",\n",
    "\"Vulcan Materials Company\":\"$17.1B\",\n",
    "\"Hi-Crush Partners LP\":\"$955.69M\",\n",
    "\"Lennox International, Inc.\":\"$8.05B\",\n",
    "\"WMIH Corp.\":\"$247.66M\",\n",
    "\"Comerica Incorporated\":\"n/a\"}\n"
   ]
  },
  {
   "cell_type": "code",
   "execution_count": 31,
   "metadata": {},
   "outputs": [
    {
     "data": {
      "text/plain": [
       "{'Solar Capital Ltd.': '920.44M',\n",
       " \"Zoe's Kitchen, Inc.\": '262.32M',\n",
       " 'Toyota Motor Corp Ltd Ord': '156.02B',\n",
       " 'Nuveen Virginia Quality Municipal Income Fund': '238.33M',\n",
       " 'Kinross Gold Corporation': '5.1B',\n",
       " 'Vulcan Materials Company': '17.1B',\n",
       " 'Hi-Crush Partners LP': '955.69M',\n",
       " 'Lennox International, Inc.': '8.05B',\n",
       " 'WMIH Corp.': '300M',\n",
       " 'Comerica Incorporated': 'n/a'}"
      ]
     },
     "execution_count": 31,
     "metadata": {},
     "output_type": "execute_result"
    }
   ],
   "source": [
    "for key,val in stocks.items(): \n",
    "    stocks[key] = val.replace('$', '') \n",
    "stocks "
   ]
  },
  {
   "cell_type": "code",
   "execution_count": 32,
   "metadata": {},
   "outputs": [],
   "source": [
    "for key,val in stocks.items():    \n",
    "        mult = val[-1] \n",
    "        stocks[key] = [val[:-1],mult]  "
   ]
  },
  {
   "cell_type": "code",
   "execution_count": 33,
   "metadata": {},
   "outputs": [
    {
     "data": {
      "text/plain": [
       "{'Solar Capital Ltd.': ['920.44', 'M'],\n",
       " \"Zoe's Kitchen, Inc.\": ['262.32', 'M'],\n",
       " 'Toyota Motor Corp Ltd Ord': ['156.02', 'B'],\n",
       " 'Nuveen Virginia Quality Municipal Income Fund': ['238.33', 'M'],\n",
       " 'Kinross Gold Corporation': ['5.1', 'B'],\n",
       " 'Vulcan Materials Company': ['17.1', 'B'],\n",
       " 'Hi-Crush Partners LP': ['955.69', 'M'],\n",
       " 'Lennox International, Inc.': ['8.05', 'B'],\n",
       " 'WMIH Corp.': ['300', 'M'],\n",
       " 'Comerica Incorporated': ['n/', 'a']}"
      ]
     },
     "execution_count": 33,
     "metadata": {},
     "output_type": "execute_result"
    }
   ],
   "source": [
    "stocks"
   ]
  }
 ],
 "metadata": {
  "kernelspec": {
   "display_name": "Python 3",
   "language": "python",
   "name": "python3"
  },
  "language_info": {
   "codemirror_mode": {
    "name": "ipython",
    "version": 3
   },
   "file_extension": ".py",
   "mimetype": "text/x-python",
   "name": "python",
   "nbconvert_exporter": "python",
   "pygments_lexer": "ipython3",
   "version": "3.7.4"
  }
 },
 "nbformat": 4,
 "nbformat_minor": 2
}
