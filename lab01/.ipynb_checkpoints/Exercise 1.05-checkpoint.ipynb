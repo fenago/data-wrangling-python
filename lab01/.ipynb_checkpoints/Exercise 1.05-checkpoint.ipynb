{
 "cells": [
  {
   "cell_type": "markdown",
   "metadata": {},
   "source": [
    "1. Import random library"
   ]
  },
  {
   "cell_type": "code",
   "execution_count": 22,
   "metadata": {},
   "outputs": [],
   "source": [
    "import random "
   ]
  },
  {
   "cell_type": "markdown",
   "metadata": {},
   "source": [
    "2. Use the randint function to generate random integers and add them to a list"
   ]
  },
  {
   "cell_type": "code",
   "execution_count": 27,
   "metadata": {},
   "outputs": [
    {
     "data": {
      "text/plain": [
       "[9,\n",
       " 13,\n",
       " 24,\n",
       " 24,\n",
       " 7,\n",
       " 6,\n",
       " 8,\n",
       " 14,\n",
       " 22,\n",
       " 24,\n",
       " 28,\n",
       " 7,\n",
       " 0,\n",
       " 16,\n",
       " 22,\n",
       " 9,\n",
       " 22,\n",
       " 17,\n",
       " 20,\n",
       " 0,\n",
       " 19,\n",
       " 27,\n",
       " 6,\n",
       " 20,\n",
       " 13,\n",
       " 21,\n",
       " 30,\n",
       " 9,\n",
       " 3,\n",
       " 10,\n",
       " 8,\n",
       " 11,\n",
       " 11,\n",
       " 5,\n",
       " 23,\n",
       " 3,\n",
       " 3,\n",
       " 21,\n",
       " 9,\n",
       " 25,\n",
       " 12,\n",
       " 20,\n",
       " 0,\n",
       " 5,\n",
       " 3,\n",
       " 8,\n",
       " 16,\n",
       " 22,\n",
       " 26,\n",
       " 25,\n",
       " 5,\n",
       " 15,\n",
       " 30,\n",
       " 12,\n",
       " 1,\n",
       " 22,\n",
       " 7,\n",
       " 17,\n",
       " 4,\n",
       " 25,\n",
       " 20,\n",
       " 5,\n",
       " 15,\n",
       " 26,\n",
       " 0,\n",
       " 12,\n",
       " 14,\n",
       " 11,\n",
       " 20,\n",
       " 18,\n",
       " 26,\n",
       " 25,\n",
       " 3,\n",
       " 27,\n",
       " 4,\n",
       " 4,\n",
       " 12,\n",
       " 16,\n",
       " 0,\n",
       " 6,\n",
       " 0,\n",
       " 10,\n",
       " 17,\n",
       " 30,\n",
       " 16,\n",
       " 11,\n",
       " 7,\n",
       " 9,\n",
       " 30,\n",
       " 9,\n",
       " 13,\n",
       " 13,\n",
       " 14,\n",
       " 5,\n",
       " 19,\n",
       " 25,\n",
       " 25,\n",
       " 27,\n",
       " 25,\n",
       " 9]"
      ]
     },
     "execution_count": 27,
     "metadata": {},
     "output_type": "execute_result"
    }
   ],
   "source": [
    "list_1 = [random.randint(0, 30) for x in range (0, 100)] \n",
    "list_1 "
   ]
  },
  {
   "cell_type": "code",
   "execution_count": null,
   "metadata": {},
   "outputs": [],
   "source": [
    "list_2 = [x**2 for x in list_1]\n",
    "list_2\n"
   ]
  },
  {
   "cell_type": "code",
   "execution_count": null,
   "metadata": {},
   "outputs": [],
   "source": [
    "import math \n",
    "list_2 = [math.log(x,10) for x in list_2]\n"
   ]
  }
 ],
 "metadata": {
  "kernelspec": {
   "display_name": "Python 3",
   "language": "python",
   "name": "python3"
  },
  "language_info": {
   "codemirror_mode": {
    "name": "ipython",
    "version": 3
   },
   "file_extension": ".py",
   "mimetype": "text/x-python",
   "name": "python",
   "nbconvert_exporter": "python",
   "pygments_lexer": "ipython3",
   "version": "3.7.3"
  }
 },
 "nbformat": 4,
 "nbformat_minor": 2
}
