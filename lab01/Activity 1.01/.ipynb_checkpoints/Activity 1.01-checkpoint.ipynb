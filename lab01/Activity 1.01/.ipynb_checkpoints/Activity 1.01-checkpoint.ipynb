{
 "cells": [
  {
   "cell_type": "code",
   "execution_count": null,
   "metadata": {},
   "outputs": [],
   "source": [
    "import random"
   ]
  },
  {
   "cell_type": "code",
   "execution_count": null,
   "metadata": {},
   "outputs": [],
   "source": [
    "random_number_list = [random.randint(0, 100) for x in range(0, 100)]"
   ]
  },
  {
   "cell_type": "code",
   "execution_count": null,
   "metadata": {},
   "outputs": [],
   "source": [
    "random_number_list"
   ]
  },
  {
   "cell_type": "code",
   "execution_count": null,
   "metadata": {},
   "outputs": [],
   "source": [
    "list_with_divisible_by_3 = [a for a in random_number_list if a % 3 == 0]\n",
    "list_with_divisible_by_3\n"
   ]
  },
  {
   "cell_type": "code",
   "execution_count": null,
   "metadata": {},
   "outputs": [],
   "source": [
    "length_of_random_list = len(random_number_list)\n",
    "length_of_3_divisible_list = len(list_with_divisible_by_3)\n",
    "difference = length_of_random_list - length_of_3_divisible_list\n",
    "difference\n"
   ]
  },
  {
   "cell_type": "code",
   "execution_count": null,
   "metadata": {},
   "outputs": [],
   "source": [
    "NUMBER_OF_EXPERIMENTS = 10\n",
    "difference_list = []\n",
    "for i in range(0, NUMBER_OF_EXPERIMENTS):\n",
    "    random_number_list = [random.randint(0, 100) for x in range(0, 100)]\n",
    "    list_with_divisible_by_3 = [a for a in random_number_list if a % 3 == 0]\n",
    "    \n",
    "    length_of_random_list = len(random_number_list)\n",
    "    length_of_3_divisible_list = len(list_with_divisible_by_3)\n",
    "    difference = length_of_random_list - length_of_3_divisible_list\n",
    "    difference_list.append(difference)\n",
    "difference_list\n"
   ]
  },
  {
   "cell_type": "code",
   "execution_count": null,
   "metadata": {},
   "outputs": [],
   "source": [
    "avg_diff = sum(difference_list) / float(len(difference_list))\n",
    "avg_diff\n"
   ]
  },
  {
   "cell_type": "code",
   "execution_count": null,
   "metadata": {},
   "outputs": [],
   "source": []
  }
 ],
 "metadata": {
  "kernelspec": {
   "display_name": "Python 3",
   "language": "python",
   "name": "python3"
  },
  "language_info": {
   "codemirror_mode": {
    "name": "ipython",
    "version": 3
   },
   "file_extension": ".py",
   "mimetype": "text/x-python",
   "name": "python",
   "nbconvert_exporter": "python",
   "pygments_lexer": "ipython3",
   "version": "3.8.6"
  }
 },
 "nbformat": 4,
 "nbformat_minor": 2
}
