{
 "cells": [
  {
   "cell_type": "code",
   "execution_count": null,
   "metadata": {},
   "outputs": [],
   "source": [
    "def test_exercise_6__1(x) -> bool:\n",
    "    return x == {\"Solar Capital Ltd.\": \"$920.44M\",\n",
    "                 \"Zoe's Kitchen, Inc.\": \"$262.32M\",\n",
    "                 \"Toyota Motor Corp Ltd Ord\": \"$156.02B\",\n",
    "                 \"Nuveen Virginia Quality Municipal Income Fund\": \"$238.33M\",\n",
    "                 \"Kinross Gold Corporation\": \"$5.1B\",\n",
    "                 \"Vulcan Materials Company\": \"$17.1B\",\n",
    "                 \"Hi-Crush Partners LP\": \"$955.69M\",\n",
    "                 \"Lennox International, Inc.\": \"$8.05B\",\n",
    "                 \"WMIH Corp.\": \"$247.66M\",\n",
    "                 \"Comerica Incorporated\": \"n/a\"}"
   ]
  },
  {
   "cell_type": "code",
   "execution_count": null,
   "metadata": {},
   "outputs": [],
   "source": [
    "def test_exercise_6__2(x) -> bool:\n",
    "    return x == \"'$247.66M'\""
   ]
  },
  {
   "cell_type": "code",
   "execution_count": null,
   "metadata": {},
   "outputs": [],
   "source": [
    "def test_exercise_6__3(x) -> bool:\n",
    "    return x == \"$300M\""
   ]
  },
  {
   "cell_type": "code",
   "execution_count": null,
   "metadata": {},
   "outputs": [],
   "source": [
    "def test_exercise_6__4(x) -> bool:\n",
    "    return x == {'key1': 'Value1'}"
   ]
  }
 ],
 "metadata": {
  "kernelspec": {
   "display_name": "Python 3",
   "language": "python",
   "name": "python3"
  },
  "language_info": {
   "codemirror_mode": {
    "name": "ipython",
    "version": 3
   },
   "file_extension": ".py",
   "mimetype": "text/x-python",
   "name": "python",
   "nbconvert_exporter": "python",
   "pygments_lexer": "ipython3",
   "version": "3.7.3"
  }
 },
 "nbformat": 4,
 "nbformat_minor": 2
}
