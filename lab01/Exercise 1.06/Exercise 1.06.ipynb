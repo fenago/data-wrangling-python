{
 "cells": [
  {
   "cell_type": "code",
   "execution_count": 2,
   "metadata": {},
   "outputs": [],
   "source": [
    "stocks = {\"Solar Capital Ltd.\":\"$920.44M\",     \n",
    "\n",
    "\"Zoe's Kitchen, Inc.\":\"$262.32M\", \n",
    "\n",
    "\"Toyota Motor Corp Ltd Ord\":\"$156.02B\",     \n",
    "\n",
    "\"Nuveen Virginia Quality Municipal Income Fund\":\"$238.33M\", \n",
    "\n",
    "\"Kinross Gold Corporation\":\"$5.1B\", \n",
    "\n",
    "\"Vulcan Materials Company\":\"$17.1B\", \n",
    "\n",
    "\"Hi-Crush Partners LP\":\"$955.69M\", \n",
    "\n",
    "\"Lennox International, Inc.\":\"$8.05B\", \n",
    "\n",
    "\"WMIH Corp.\":\"$247.66M\", \n",
    "\n",
    "\"Comerica Incorporated\":\"n/a\"} "
   ]
  },
  {
   "cell_type": "code",
   "execution_count": 3,
   "metadata": {},
   "outputs": [
    {
     "data": {
      "text/plain": [
       "'$247.66M'"
      ]
     },
     "execution_count": 3,
     "metadata": {},
     "output_type": "execute_result"
    }
   ],
   "source": [
    "stocks[\"WMIH Corp.\"] "
   ]
  },
  {
   "cell_type": "code",
   "execution_count": 4,
   "metadata": {},
   "outputs": [],
   "source": [
    "stocks[\"WMIH Corp.\"] = \"$300M\""
   ]
  },
  {
   "cell_type": "code",
   "execution_count": 5,
   "metadata": {},
   "outputs": [
    {
     "data": {
      "text/plain": [
       "{'key1': 'Value1'}"
      ]
     },
     "execution_count": 5,
     "metadata": {},
     "output_type": "execute_result"
    }
   ],
   "source": [
    "dict_3 = {} # Not a null set. It is a dict \n",
    "dict_3[\"key1\"] = \"Value1\" \n",
    "dict_3 "
   ]
  }
 ],
 "metadata": {
  "kernelspec": {
   "display_name": "Python 3",
   "language": "python",
   "name": "python3"
  },
  "language_info": {
   "codemirror_mode": {
    "name": "ipython",
    "version": 3
   },
   "file_extension": ".py",
   "mimetype": "text/x-python",
   "name": "python",
   "nbconvert_exporter": "python",
   "pygments_lexer": "ipython3",
   "version": "3.7.4"
  }
 },
 "nbformat": 4,
 "nbformat_minor": 2
}
