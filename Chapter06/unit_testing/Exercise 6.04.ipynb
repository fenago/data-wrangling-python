{
 "cells": [
  {
   "cell_type": "code",
   "execution_count": null,
   "metadata": {},
   "outputs": [],
   "source": [
    "def test_exercise_3_1a(x) -> bool:\n",
    "    countries = [\"India\", \"USA\", \"France\", \"UK\"] \n",
    "    return final_list_of_word == x"
   ]
  },
  {
   "cell_type": "code",
   "execution_count": null,
   "metadata": {},
   "outputs": [],
   "source": [
    "def test_exercise_3_1b(x) -> bool:\n",
    "    capitals = [\"Delhi\", \"Washington\", \"Paris\", \"London\"]  \n",
    "    return final_list_of_word == x\n"
   ]
  },
  {
   "cell_type": "code",
   "execution_count": null,
   "metadata": {},
   "outputs": [],
   "source": [
    "def test_exercise_3_2(x) -> bool:\n",
    "    countries = [\"India\", \"USA\", \"France\", \"UK\"]\n",
    "    capitals = [\"Delhi\", \"Washington\", \"Paris\", \"London\"]\n",
    "    countries_and_capitals = [t for t in zip(countries, capitals)]\n",
    "    return countries_and_capitals == x\n"
   ]
  },
  {
   "cell_type": "code",
   "execution_count": null,
   "metadata": {},
   "outputs": [],
   "source": [
    "def test_exercise_3_3(x) -> bool:\n",
    "    countries = [\"India\", \"USA\", \"France\", \"UK\"]\n",
    "    capitals = [\"Delhi\", \"Washington\", \"Paris\", \"London\"]\n",
    "    countries_and_capitals_as_dict = dict(zip(countries, capitals))\n",
    "    return countries_and_capitals_as_dict == x\n"
   ]
  }
 ],
 "metadata": {
  "kernelspec": {
   "display_name": "Python 3",
   "language": "python",
   "name": "python3"
  },
  "language_info": {
   "codemirror_mode": {
    "name": "ipython",
    "version": 3
   },
   "file_extension": ".py",
   "mimetype": "text/x-python",
   "name": "python",
   "nbconvert_exporter": "python",
   "pygments_lexer": "ipython3",
   "version": "3.7.3"
  }
 },
 "nbformat": 4,
 "nbformat_minor": 2
}
