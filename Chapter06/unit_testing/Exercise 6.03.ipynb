{
 "cells": [
  {
   "cell_type": "code",
   "execution_count": 1,
   "metadata": {},
   "outputs": [],
   "source": [
    "def test_exercise_3_1(x) -> bool:\n",
    "    words = [\"Hello\\n\", \"My name\", \"is\\n\", \"Bob\", \"How are you\", \"doing\\n\"] \n",
    "    modified_words2 = (w.strip().lower() for word in words for w in word.split(\" \")) \n",
    "    final_list_of_word = [word for word in modified_words2] \n",
    "    return final_list_of_word == x"
   ]
  },
  {
   "cell_type": "code",
   "execution_count": null,
   "metadata": {},
   "outputs": [],
   "source": [
    "def test_exercise_3_2(x) -> bool:\n",
    "    modified_words3 = [] \n",
    "    for word in words: \n",
    "        for w in word.split(\" \"): \n",
    "            modified_words3.append(w.strip().lower())  \n",
    "    return modified_words3 == x"
   ]
  },
  {
   "cell_type": "code",
   "execution_count": null,
   "metadata": {},
   "outputs": [],
   "source": []
  },
  {
   "cell_type": "code",
   "execution_count": null,
   "metadata": {},
   "outputs": [],
   "source": []
  }
 ],
 "metadata": {
  "kernelspec": {
   "display_name": "Python 3",
   "language": "python",
   "name": "python3"
  },
  "language_info": {
   "codemirror_mode": {
    "name": "ipython",
    "version": 3
   },
   "file_extension": ".py",
   "mimetype": "text/x-python",
   "name": "python",
   "nbconvert_exporter": "python",
   "pygments_lexer": "ipython3",
   "version": "3.7.3"
  }
 },
 "nbformat": 4,
 "nbformat_minor": 2
}
