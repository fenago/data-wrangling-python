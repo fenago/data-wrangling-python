{
 "cells": [
  {
   "cell_type": "code",
   "execution_count": null,
   "metadata": {},
   "outputs": [],
   "source": [
    "def test_exercise_1_1(x) -> bool:\n",
    "    return [x for x in range(100000) if x % 2 != 0] == x"
   ]
  },
  {
   "cell_type": "code",
   "execution_count": null,
   "metadata": {},
   "outputs": [],
   "source": [
    "def test_exercise_1_2(x) -> bool:\n",
    "    from sys import getsizeof\n",
    "    odd_numbers2 = [x for x in range(100000) if x % 2 != 0]\n",
    "    return getsizeof(odd_numbers2) == x"
   ]
  },
  {
   "cell_type": "code",
   "execution_count": null,
   "metadata": {},
   "outputs": [],
   "source": [
    "def test_exercise_1_3(x) -> bool:\n",
    "    from sys import getsizeof\n",
    "    odd_numbers = (x for x in range(100000) if x % 2 != 0)\n",
    "    return getsizeof(odd_numbers2) == x"
   ]
  }
 ],
 "metadata": {
  "kernelspec": {
   "display_name": "Python 3",
   "language": "python",
   "name": "python3"
  },
  "language_info": {
   "codemirror_mode": {
    "name": "ipython",
    "version": 3
   },
   "file_extension": ".py",
   "mimetype": "text/x-python",
   "name": "python",
   "nbconvert_exporter": "python",
   "pygments_lexer": "ipython3",
   "version": "3.7.3"
  }
 },
 "nbformat": 4,
 "nbformat_minor": 2
}
