{
 "cells": [
  {
   "cell_type": "code",
   "execution_count": null,
   "metadata": {},
   "outputs": [],
   "source": [
    "def test_exercise_8_1(x) -> bool:\n",
    "    ship_data = {\"Sea Princess\": {\"date\":\"12/08/20\", \"load\": 40000},  \n",
    "                 \"Sea Princess\": {\"date\":\"10/06/20\", \"load\": 30000},  \n",
    "                 \"Sea Princess\": {\"date\":\"12/04/20\", \"load\": 30000}} \n",
    "    return df_original == x"
   ]
  },
  {
   "cell_type": "code",
   "execution_count": null,
   "metadata": {},
   "outputs": [],
   "source": []
  }
 ],
 "metadata": {
  "kernelspec": {
   "display_name": "Python 3",
   "language": "python",
   "name": "python3"
  },
  "language_info": {
   "codemirror_mode": {
    "name": "ipython",
    "version": 3
   },
   "file_extension": ".py",
   "mimetype": "text/x-python",
   "name": "python",
   "nbconvert_exporter": "python",
   "pygments_lexer": "ipython3",
   "version": "3.7.3"
  }
 },
 "nbformat": 4,
 "nbformat_minor": 2
}
