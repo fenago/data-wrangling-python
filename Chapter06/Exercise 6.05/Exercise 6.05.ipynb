{
 "cells": [
  {
   "cell_type": "code",
   "execution_count": 1,
   "metadata": {},
   "outputs": [],
   "source": [
    "countries = [\"India\", \"USA\", \"France\", \"UK\", \"Brazil\", \"Japan\"]\n",
    "capitals = [\"Delhi\", \"Washington\", \"Paris\", \"London\"]"
   ]
  },
  {
   "cell_type": "code",
   "execution_count": 2,
   "metadata": {
    "scrolled": true
   },
   "outputs": [
    {
     "data": {
      "text/plain": [
       "{'India': 'Delhi',\n",
       " 'USA': 'Washington',\n",
       " 'France': 'Paris',\n",
       " 'UK': 'London',\n",
       " 'Brazil': None,\n",
       " 'Japan': None}"
      ]
     },
     "execution_count": 2,
     "metadata": {},
     "output_type": "execute_result"
    }
   ],
   "source": [
    "from itertools import zip_longest\n",
    "countries_and_capitals_as_dict_2 = dict(zip_longest(countries, capitals))\n",
    "countries_and_capitals_as_dict_2"
   ]
  }
 ],
 "metadata": {
  "kernelspec": {
   "display_name": "Python 3",
   "language": "python",
   "name": "python3"
  },
  "language_info": {
   "codemirror_mode": {
    "name": "ipython",
    "version": 3
   },
   "file_extension": ".py",
   "mimetype": "text/x-python",
   "name": "python",
   "nbconvert_exporter": "python",
   "pygments_lexer": "ipython3",
   "version": "3.7.4"
  }
 },
 "nbformat": 4,
 "nbformat_minor": 2
}
