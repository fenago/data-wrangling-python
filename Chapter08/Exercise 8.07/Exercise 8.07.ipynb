{
 "cells": [
  {
   "cell_type": "code",
   "execution_count": 1,
   "metadata": {},
   "outputs": [],
   "source": [
    "import pandas as pd"
   ]
  },
  {
   "cell_type": "code",
   "execution_count": 2,
   "metadata": {},
   "outputs": [],
   "source": [
    "columns = [\"Email\", \"First Name\", \"Last Name\", \"Age\", \"Gender\", \"Comments\"]\n",
    "data = []\n"
   ]
  },
  {
   "cell_type": "code",
   "execution_count": 4,
   "metadata": {},
   "outputs": [],
   "source": [
    "import sqlite3\n",
    "with sqlite3.connect(\"../lesson.db\") as conn:\n",
    "    cursor = conn.cursor()\n"
   ]
  },
  {
   "cell_type": "code",
   "execution_count": 5,
   "metadata": {},
   "outputs": [
    {
     "data": {
      "text/plain": [
       "<sqlite3.Cursor at 0x240e85e3110>"
      ]
     },
     "execution_count": 5,
     "metadata": {},
     "output_type": "execute_result"
    }
   ],
   "source": [
    "cursor.execute(\"PRAGMA foreign_keys = 1\")"
   ]
  },
  {
   "cell_type": "code",
   "execution_count": 6,
   "metadata": {},
   "outputs": [],
   "source": [
    "sql = \"\"\"\n",
    "  SELECT user.email, user.first_name, user.last_name, user.age, user.gender,        comments.comments FROM comments\n",
    "  JOIN user ON comments.user_id = user.email\n",
    "    WHERE user.email = 'tom@web.com'\n",
    "    \"\"\"\n"
   ]
  },
  {
   "cell_type": "code",
   "execution_count": 7,
   "metadata": {},
   "outputs": [],
   "source": [
    "rows = cursor.execute(sql)"
   ]
  },
  {
   "cell_type": "code",
   "execution_count": 8,
   "metadata": {},
   "outputs": [],
   "source": [
    "for row in rows:\n",
    "    data.append(row)\n"
   ]
  },
  {
   "cell_type": "code",
   "execution_count": 9,
   "metadata": {},
   "outputs": [],
   "source": [
    "df = pd.DataFrame(data, columns=columns)"
   ]
  },
  {
   "cell_type": "code",
   "execution_count": 10,
   "metadata": {},
   "outputs": [
    {
     "data": {
      "text/html": [
       "<div>\n",
       "<style scoped>\n",
       "    .dataframe tbody tr th:only-of-type {\n",
       "        vertical-align: middle;\n",
       "    }\n",
       "\n",
       "    .dataframe tbody tr th {\n",
       "        vertical-align: top;\n",
       "    }\n",
       "\n",
       "    .dataframe thead th {\n",
       "        text-align: right;\n",
       "    }\n",
       "</style>\n",
       "<table border=\"1\" class=\"dataframe\">\n",
       "  <thead>\n",
       "    <tr style=\"text-align: right;\">\n",
       "      <th></th>\n",
       "      <th>Email</th>\n",
       "      <th>First Name</th>\n",
       "      <th>Last Name</th>\n",
       "      <th>Age</th>\n",
       "      <th>Gender</th>\n",
       "      <th>Comments</th>\n",
       "    </tr>\n",
       "  </thead>\n",
       "  <tbody>\n",
       "    <tr>\n",
       "      <th>0</th>\n",
       "      <td>tom@web.com</td>\n",
       "      <td>Tom</td>\n",
       "      <td>Fake</td>\n",
       "      <td>39</td>\n",
       "      <td>M</td>\n",
       "      <td>This is comment 0 by Tom Fake</td>\n",
       "    </tr>\n",
       "    <tr>\n",
       "      <th>1</th>\n",
       "      <td>tom@web.com</td>\n",
       "      <td>Tom</td>\n",
       "      <td>Fake</td>\n",
       "      <td>39</td>\n",
       "      <td>M</td>\n",
       "      <td>This is comment 1 by Tom Fake</td>\n",
       "    </tr>\n",
       "    <tr>\n",
       "      <th>2</th>\n",
       "      <td>tom@web.com</td>\n",
       "      <td>Tom</td>\n",
       "      <td>Fake</td>\n",
       "      <td>39</td>\n",
       "      <td>M</td>\n",
       "      <td>This is comment 2 by Tom Fake</td>\n",
       "    </tr>\n",
       "    <tr>\n",
       "      <th>3</th>\n",
       "      <td>tom@web.com</td>\n",
       "      <td>Tom</td>\n",
       "      <td>Fake</td>\n",
       "      <td>39</td>\n",
       "      <td>M</td>\n",
       "      <td>This is comment 3 by Tom Fake</td>\n",
       "    </tr>\n",
       "    <tr>\n",
       "      <th>4</th>\n",
       "      <td>tom@web.com</td>\n",
       "      <td>Tom</td>\n",
       "      <td>Fake</td>\n",
       "      <td>39</td>\n",
       "      <td>M</td>\n",
       "      <td>This is comment 4 by Tom Fake</td>\n",
       "    </tr>\n",
       "    <tr>\n",
       "      <th>5</th>\n",
       "      <td>tom@web.com</td>\n",
       "      <td>Tom</td>\n",
       "      <td>Fake</td>\n",
       "      <td>39</td>\n",
       "      <td>M</td>\n",
       "      <td>This is comment 5 by Tom Fake</td>\n",
       "    </tr>\n",
       "    <tr>\n",
       "      <th>6</th>\n",
       "      <td>tom@web.com</td>\n",
       "      <td>Tom</td>\n",
       "      <td>Fake</td>\n",
       "      <td>39</td>\n",
       "      <td>M</td>\n",
       "      <td>This is comment 6 by Tom Fake</td>\n",
       "    </tr>\n",
       "    <tr>\n",
       "      <th>7</th>\n",
       "      <td>tom@web.com</td>\n",
       "      <td>Tom</td>\n",
       "      <td>Fake</td>\n",
       "      <td>39</td>\n",
       "      <td>M</td>\n",
       "      <td>This is comment 7 by Tom Fake</td>\n",
       "    </tr>\n",
       "    <tr>\n",
       "      <th>8</th>\n",
       "      <td>tom@web.com</td>\n",
       "      <td>Tom</td>\n",
       "      <td>Fake</td>\n",
       "      <td>39</td>\n",
       "      <td>M</td>\n",
       "      <td>This is comment 8 by Tom Fake</td>\n",
       "    </tr>\n",
       "    <tr>\n",
       "      <th>9</th>\n",
       "      <td>tom@web.com</td>\n",
       "      <td>Tom</td>\n",
       "      <td>Fake</td>\n",
       "      <td>39</td>\n",
       "      <td>M</td>\n",
       "      <td>This is comment 9 by Tom Fake</td>\n",
       "    </tr>\n",
       "  </tbody>\n",
       "</table>\n",
       "</div>"
      ],
      "text/plain": [
       "         Email First Name Last Name  Age Gender                       Comments\n",
       "0  tom@web.com        Tom      Fake   39      M  This is comment 0 by Tom Fake\n",
       "1  tom@web.com        Tom      Fake   39      M  This is comment 1 by Tom Fake\n",
       "2  tom@web.com        Tom      Fake   39      M  This is comment 2 by Tom Fake\n",
       "3  tom@web.com        Tom      Fake   39      M  This is comment 3 by Tom Fake\n",
       "4  tom@web.com        Tom      Fake   39      M  This is comment 4 by Tom Fake\n",
       "5  tom@web.com        Tom      Fake   39      M  This is comment 5 by Tom Fake\n",
       "6  tom@web.com        Tom      Fake   39      M  This is comment 6 by Tom Fake\n",
       "7  tom@web.com        Tom      Fake   39      M  This is comment 7 by Tom Fake\n",
       "8  tom@web.com        Tom      Fake   39      M  This is comment 8 by Tom Fake\n",
       "9  tom@web.com        Tom      Fake   39      M  This is comment 9 by Tom Fake"
      ]
     },
     "execution_count": 10,
     "metadata": {},
     "output_type": "execute_result"
    }
   ],
   "source": [
    "df"
   ]
  },
  {
   "cell_type": "code",
   "execution_count": null,
   "metadata": {},
   "outputs": [],
   "source": []
  }
 ],
 "metadata": {
  "kernelspec": {
   "display_name": "Python 3",
   "language": "python",
   "name": "python3"
  },
  "language_info": {
   "codemirror_mode": {
    "name": "ipython",
    "version": 3
   },
   "file_extension": ".py",
   "mimetype": "text/x-python",
   "name": "python",
   "nbconvert_exporter": "python",
   "pygments_lexer": "ipython3",
   "version": "3.7.3"
  }
 },
 "nbformat": 4,
 "nbformat_minor": 2
}
