{
 "cells": [
  {
   "cell_type": "code",
   "execution_count": null,
   "metadata": {},
   "outputs": [],
   "source": [
    "def test_exercise_2(path_to_db) -> bool:\n",
    "    import sqlite3\n",
    "    import pandas as pd\n",
    "    conn = sqlite3.connect(path_to_db)\n",
    "    df = pd.read_sql_query('''SELECT * FROM user;''', conn)\n",
    "    return \"bob@example.com\" in df[\"email\"].unique()\n",
    "    \n",
    "    "
   ]
  }
 ],
 "metadata": {
  "kernelspec": {
   "display_name": "Python 3",
   "language": "python",
   "name": "python3"
  },
  "language_info": {
   "codemirror_mode": {
    "name": "ipython",
    "version": 3
   },
   "file_extension": ".py",
   "mimetype": "text/x-python",
   "name": "python",
   "nbconvert_exporter": "python",
   "pygments_lexer": "ipython3",
   "version": "3.7.3"
  }
 },
 "nbformat": 4,
 "nbformat_minor": 2
}
