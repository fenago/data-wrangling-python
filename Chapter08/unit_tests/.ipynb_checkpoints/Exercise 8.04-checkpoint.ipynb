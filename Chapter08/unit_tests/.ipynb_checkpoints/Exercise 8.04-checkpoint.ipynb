{
 "cells": [
  {
   "cell_type": "code",
   "execution_count": null,
   "metadata": {},
   "outputs": [],
   "source": [
    "def test_exercise_4_3(path_to_db) -> bool:\n",
    "    import sqlite3\n",
    "    import pandas as pd\n",
    "    conn = sqlite3.connect(path_to_db)\n",
    "    df = pd.read_sql_query('''SELECT * FROM user;''', conn)\n",
    "    return \"m\" in df[\"gender\"].unique()\n",
    "    \n",
    "    "
   ]
  },
  {
   "cell_type": "code",
   "execution_count": null,
   "metadata": {},
   "outputs": [],
   "source": [
    "def test_exercise_4_4(path_to_db,rows ) -> bool:\n",
    "    import sqlite3\n",
    "    import pandas as pd\n",
    "    with sqlite3.connect(path_to_db) as conn: \n",
    "        cursor = conn.cursor()\n",
    "        rows_test = cursor.execute('SELECT * FROM user;')\n",
    "    return rows_test == rows"
   ]
  }
 ],
 "metadata": {
  "kernelspec": {
   "display_name": "Python 3",
   "language": "python",
   "name": "python3"
  },
  "language_info": {
   "codemirror_mode": {
    "name": "ipython",
    "version": 3
   },
   "file_extension": ".py",
   "mimetype": "text/x-python",
   "name": "python",
   "nbconvert_exporter": "python",
   "pygments_lexer": "ipython3",
   "version": "3.7.3"
  }
 },
 "nbformat": 4,
 "nbformat_minor": 2
}
