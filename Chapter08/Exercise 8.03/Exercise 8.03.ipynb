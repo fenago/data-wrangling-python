{
 "cells": [
  {
   "cell_type": "code",
   "execution_count": 2,
   "metadata": {},
   "outputs": [
    {
     "name": "stdout",
     "output_type": "stream",
     "text": [
      "('tom@web.com', 'Tom', 'Fake', '456 Fantasy lane, Fantasy City', 39)\n",
      "('bob@example.com', 'Bob', 'Codd', '123 Fantasy lane, Fantasy City', 31)\n"
     ]
    }
   ],
   "source": [
    "import sqlite3\n",
    "with sqlite3.connect(\"../lesson.db\") as conn:\n",
    "    cursor = conn.cursor()\n",
    "    rows = cursor.execute('SELECT * FROM user ORDER BY age DESC')\n",
    "    for row in rows:\n",
    "        print(row)\n"
   ]
  },
  {
   "cell_type": "code",
   "execution_count": 3,
   "metadata": {},
   "outputs": [
    {
     "name": "stdout",
     "output_type": "stream",
     "text": [
      "('bob@example.com', 'Bob', 'Codd', '123 Fantasy lane, Fantasy City', 31)\n",
      "('tom@web.com', 'Tom', 'Fake', '456 Fantasy lane, Fantasy City', 39)\n"
     ]
    }
   ],
   "source": [
    "with sqlite3.connect(\"../lesson.db\") as conn:\n",
    "    cursor = conn.cursor()\n",
    "    rows = cursor.execute('SELECT * FROM user ORDER BY age')\n",
    "    for row in rows:\n",
    "        print(row)\n"
   ]
  }
 ],
 "metadata": {
  "kernelspec": {
   "display_name": "Python 3",
   "language": "python",
   "name": "python3"
  },
  "language_info": {
   "codemirror_mode": {
    "name": "ipython",
    "version": 3
   },
   "file_extension": ".py",
   "mimetype": "text/x-python",
   "name": "python",
   "nbconvert_exporter": "python",
   "pygments_lexer": "ipython3",
   "version": "3.7.4"
  }
 },
 "nbformat": 4,
 "nbformat_minor": 2
}
