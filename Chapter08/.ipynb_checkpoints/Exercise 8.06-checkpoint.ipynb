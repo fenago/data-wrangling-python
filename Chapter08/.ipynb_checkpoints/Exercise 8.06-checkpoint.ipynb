{
 "cells": [
  {
   "cell_type": "code",
   "execution_count": null,
   "metadata": {},
   "outputs": [],
   "source": [
    "with sqlite3.connect(\"chapter.db\") as conn: \n",
    "    cursor = conn.cursor() \n",
    "    cursor.execute(\"PRAGMA foreign_keys = 1\") \n",
    "    sql = \"\"\" \n",
    "        CREATE TABLE comments ( \n",
    "            user_id text, \n",
    "            comments text, \n",
    "            FOREIGN KEY (user_id) REFERENCES user (email)  \n",
    "           ON DELETE CASCADE ON UPDATE NO ACTION \n",
    "        ) \n",
    "    \"\"\" \n",
    "    cursor.execute(sql) \n",
    "    conn.commit() "
   ]
  },
  {
   "cell_type": "code",
   "execution_count": null,
   "metadata": {},
   "outputs": [],
   "source": [
    "with sqlite3.connect(\"chapter.db\") as conn: \n",
    "    cursor = conn.cursor() \n",
    "    cursor.execute(\"PRAGMA foreign_keys = 1\") \n",
    "    sql = \"INSERT INTO comments VALUES ('{}', '{}')\" \n",
    "    rows = cursor.execute('SELECT * FROM user ORDER BY age') \n",
    "    for row in rows: \n",
    "        email = row[0] \n",
    "        print(\"Going to create rows for {}\".format(email)) \n",
    "        name = row[1] + \" \" + row[2] \n",
    "        for i in range(10): \n",
    "            comment = \"This is comment {} by {}\".format(i, name) \n",
    "            conn.cursor().execute(sql.format(email, comment)) \n",
    "    conn.commit()"
   ]
  },
  {
   "cell_type": "code",
   "execution_count": null,
   "metadata": {},
   "outputs": [],
   "source": [
    "with sqlite3.connect(\"chapter.db\") as conn: \n",
    "    cursor = conn.cursor() \n",
    "    cursor.execute(\"PRAGMA foreign_keys = 1\") \n",
    "    sql = \"\"\" \n",
    "        SELECT * FROM comments  \n",
    "        JOIN user ON comments.user_id = user.email \n",
    "        WHERE user.email='bob@example.com' \n",
    "    \"\"\" \n",
    "    rows = cursor.execute(sql) \n",
    "    for row in rows: \n",
    "        print(row)"
   ]
  },
  {
   "cell_type": "code",
   "execution_count": null,
   "metadata": {},
   "outputs": [],
   "source": [
    "with sqlite3.connect(\"chapter.db\") as conn: \n",
    "    cursor = conn.cursor() \n",
    "    cursor.execute(\"PRAGMA foreign_keys = 1\") \n",
    "    sql = \"\"\" \n",
    "       SELECT * FROM comments  \n",
    "        JOIN user ON comments.user_id = user.email \n",
    "        WHERE user.email='bob@example.com' \n",
    "\n",
    "    \"\"\" \n",
    "    rows = cursor.execute(sql) \n",
    "    for row in rows: \n",
    "        print(row)"
   ]
  },
  {
   "cell_type": "code",
   "execution_count": null,
   "metadata": {},
   "outputs": [],
   "source": [
    "with sqlite3.connect(\"chapter.db\") as conn: \n",
    "    cursor = conn.cursor() \n",
    "    cursor.execute(\"PRAGMA foreign_keys = 1\") \n",
    "    cursor.execute(\"DELETE FROM user WHERE email='bob@example.com'\") \n",
    "    conn.commit() "
   ]
  },
  {
   "cell_type": "code",
   "execution_count": null,
   "metadata": {},
   "outputs": [],
   "source": [
    "with sqlite3.connect(\"chapter.db\") as conn: \n",
    "    cursor = conn.cursor() \n",
    "    cursor.execute(\"PRAGMA foreign_keys = 1\") \n",
    "    rows = cursor.execute(\"SELECT * FROM user\") \n",
    "    for row in rows: \n",
    "        print(row) "
   ]
  },
  {
   "cell_type": "code",
   "execution_count": null,
   "metadata": {},
   "outputs": [],
   "source": [
    "with sqlite3.connect(\"chapter.db\") as conn: \n",
    "    cursor = conn.cursor() \n",
    "    cursor.execute(\"PRAGMA foreign_keys = 1\") \n",
    "    rows = cursor.execute(\"SELECT * FROM comments\") \n",
    "    for row in rows: \n",
    "        print(row)"
   ]
  }
 ],
 "metadata": {
  "kernelspec": {
   "display_name": "Python 3",
   "language": "python",
   "name": "python3"
  },
  "language_info": {
   "codemirror_mode": {
    "name": "ipython",
    "version": 3
   },
   "file_extension": ".py",
   "mimetype": "text/x-python",
   "name": "python",
   "nbconvert_exporter": "python",
   "pygments_lexer": "ipython3",
   "version": "3.7.3"
  }
 },
 "nbformat": 4,
 "nbformat_minor": 2
}
