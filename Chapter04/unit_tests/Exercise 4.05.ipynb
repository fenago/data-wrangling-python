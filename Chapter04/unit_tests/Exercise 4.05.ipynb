{
 "cells": [
  {
   "cell_type": "code",
   "execution_count": 2,
   "metadata": {},
   "outputs": [],
   "source": [
    "def test_exercise52_1(x) -> bool:\n",
    "    import numpy as np \n",
    "    import pandas as pd \n",
    "    import matplotlib.pyplot as plt \n",
    "    df_missing = pd.read_excel(\"../Sample - Superstore.xls\",sheet_name=\"Missing\") \n",
    "    df = df_missing.fillna('FILL') \n",
    "    return df.equals(x)"
   ]
  },
  {
   "cell_type": "code",
   "execution_count": null,
   "metadata": {},
   "outputs": [],
   "source": [
    "def test_exercise52_2(x) -> bool:\n",
    "    import numpy as np \n",
    "    import pandas as pd \n",
    "    import matplotlib.pyplot as plt \n",
    "    df_missing = pd.read_excel(\"../Sample - Superstore.xls\",sheet_name=\"Missing\") \n",
    "    df = df_missing[['Customer','Product']].fillna('FILL') \n",
    "    return df.equals(x)"
   ]
  },
  {
   "cell_type": "code",
   "execution_count": 3,
   "metadata": {},
   "outputs": [],
   "source": [
    "def test_exercise52_3(x) -> bool:\n",
    "    import numpy as np \n",
    "    import pandas as pd \n",
    "    import matplotlib.pyplot as plt \n",
    "    df_missing = pd.read_excel(\"../Sample - Superstore.xls\",sheet_name=\"Missing\") \n",
    "    df = df_missing['Sales'].fillna(method='ffill') \n",
    "    return df.equals(x)"
   ]
  },
  {
   "cell_type": "code",
   "execution_count": 5,
   "metadata": {},
   "outputs": [],
   "source": [
    "def test_exercise52_4(x) -> bool:\n",
    "    import numpy as np \n",
    "    import pandas as pd \n",
    "    import matplotlib.pyplot as plt \n",
    "    df_missing = pd.read_excel(\"../Sample - Superstore.xls\",sheet_name=\"Missing\") \n",
    "    df = df_missing['Sales'].fillna(method='bfill') \n",
    "    return df.equals(x)"
   ]
  },
  {
   "cell_type": "code",
   "execution_count": 6,
   "metadata": {},
   "outputs": [],
   "source": [
    "def test_exercise52_4(x) -> bool:\n",
    "    import numpy as np \n",
    "    import pandas as pd \n",
    "    import matplotlib.pyplot as plt \n",
    "    df_missing = pd.read_excel(\"../Sample - Superstore.xls\",sheet_name=\"Missing\") \n",
    "    df = df_missing['Sales'].fillna(df_missing.mean()['Sales']) \n",
    "    return df.equals(x)"
   ]
  }
 ],
 "metadata": {
  "kernelspec": {
   "display_name": "Python 3",
   "language": "python",
   "name": "python3"
  },
  "language_info": {
   "codemirror_mode": {
    "name": "ipython",
    "version": 3
   },
   "file_extension": ".py",
   "mimetype": "text/x-python",
   "name": "python",
   "nbconvert_exporter": "python",
   "pygments_lexer": "ipython3",
   "version": "3.7.3"
  }
 },
 "nbformat": 4,
 "nbformat_minor": 2
}
