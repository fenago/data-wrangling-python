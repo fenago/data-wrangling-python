{
 "cells": [
  {
   "cell_type": "code",
   "execution_count": 1,
   "metadata": {},
   "outputs": [],
   "source": [
    "def test_exercise_1(x) -> bool:\n",
    "    import sys\n",
    "    if \"numpy\" in sys.modules:\n",
    "        return False\n",
    "    else:\n",
    "        return True"
   ]
  },
  {
   "cell_type": "code",
   "execution_count": 2,
   "metadata": {},
   "outputs": [],
   "source": [
    "def test_exercise_1(x) -> bool:\n",
    "    import sys\n",
    "    if \"pandas\" in sys.modules:\n",
    "        return False\n",
    "    else:\n",
    "        return True"
   ]
  },
  {
   "cell_type": "code",
   "execution_count": 3,
   "metadata": {},
   "outputs": [],
   "source": [
    "def test_exercise_1(x) -> bool:\n",
    "    import sys\n",
    "    if \"matplotlib\" in sys.modules:\n",
    "        return False\n",
    "    else:\n",
    "        return True"
   ]
  },
  {
   "cell_type": "code",
   "execution_count": 4,
   "metadata": {},
   "outputs": [],
   "source": [
    "def test_exercise_2(x) -> bool:\n",
    "    import pandas as pd\n",
    "    df=pd.read_csv(\"adult_income_data.csv\") \n",
    "    return df.equals(x)"
   ]
  },
  {
   "cell_type": "code",
   "execution_count": 5,
   "metadata": {},
   "outputs": [],
   "source": [
    "def test_exercise_2(x) -> bool:\n",
    "    import pandas as pd\n",
    "    df=pd.read_csv(\"adult_income_data.csv\") \n",
    "    return df.head().equals(x)"
   ]
  },
  {
   "cell_type": "code",
   "execution_count": 7,
   "metadata": {},
   "outputs": [],
   "source": [
    "def test_exercise_3(x) -> bool:\n",
    "    import pandas as pd\n",
    "    df=pd.read_csv(\"adult_income_data.csv\") \n",
    "    names = [] \n",
    "    with open('adult_income_names.txt','r') as f: \n",
    "        for line in f: \n",
    "            f.readline() \n",
    "            var=line.split(\":\")[0] \n",
    "            names.append(var) \n",
    "    return names == x"
   ]
  },
  {
   "cell_type": "code",
   "execution_count": 9,
   "metadata": {},
   "outputs": [],
   "source": [
    "def test_exercise_4(x) -> bool:\n",
    "    import pandas as pd\n",
    "    df=pd.read_csv(\"adult_income_data.csv\") \n",
    "    names = [] \n",
    "    with open('adult_income_names.txt','r') as f: \n",
    "        for line in f: \n",
    "            f.readline() \n",
    "            var=line.split(\":\")[0] \n",
    "            names.append(var) \n",
    "    names.append('Income') \n",
    "    return names == x"
   ]
  },
  {
   "cell_type": "code",
   "execution_count": 10,
   "metadata": {},
   "outputs": [],
   "source": [
    "def test_exercise_5(x) -> bool:\n",
    "    import pandas as pd\n",
    "    df = pd.read_csv(\"adult_income_data.csv\",names=names)  \n",
    "    return df.head() == x"
   ]
  },
  {
   "cell_type": "code",
   "execution_count": 11,
   "metadata": {},
   "outputs": [],
   "source": [
    "def test_exercise_6(x) -> bool:\n",
    "    import pandas as pd\n",
    "    df = pd.read_csv(\"adult_income_data.csv\",names=names)  \n",
    "    return df.describe() == x"
   ]
  },
  {
   "cell_type": "code",
   "execution_count": 12,
   "metadata": {},
   "outputs": [],
   "source": [
    "def test_exercise_7(x) -> bool:\n",
    "    import pandas as pd\n",
    "    df = pd.read_csv(\"adult_income_data.csv\",names=names)  \n",
    "    return df.describe() == x"
   ]
  },
  {
   "cell_type": "code",
   "execution_count": 13,
   "metadata": {},
   "outputs": [],
   "source": [
    "def test_exercise_9(x) -> bool:\n",
    "    import pandas as pd\n",
    "    df = pd.read_csv(\"adult_income_data.csv\",names=names)  \n",
    "    return df.isnull().sum() == x"
   ]
  },
  {
   "cell_type": "code",
   "execution_count": 14,
   "metadata": {},
   "outputs": [],
   "source": [
    "def test_exercise_10(x) -> bool:\n",
    "    import pandas as pd\n",
    "    df = pd.read_csv(\"adult_income_data.csv\",names=names) \n",
    "    df_subset = df[['age','education','occupation']] \n",
    "    return df_subset.head() == x"
   ]
  },
  {
   "cell_type": "code",
   "execution_count": 15,
   "metadata": {},
   "outputs": [],
   "source": [
    "def test_exercise_12(x) -> bool:\n",
    "    import pandas as pd\n",
    "    df = pd.read_csv(\"adult_income_data.csv\",names=names) \n",
    "    df_subset = df[['age','education','occupation']] \n",
    "    def strip_whitespace(s): \n",
    "        return s.strip() \n",
    "    # Education column \n",
    "    df_subset['education_stripped'] = df['education'].apply(strip_whitespace) \n",
    "    df_subset['education'] = df_subset['education_stripped'] \n",
    "    df_subset.drop(labels = ['education_stripped'],axis=1,inplace=True) \n",
    "    # Occupation column \n",
    "    df_subset['occupation_stripped'] = df['occupation'].apply(strip_whitespace) \n",
    "    df_subset['occupation']  =df_subset['occupation_stripped'] \n",
    "    df_subset.drop(labels = ['occupation_stripped'],axis=1,inplace=True) \n",
    "    return df_subset.head().equals(x)"
   ]
  },
  {
   "cell_type": "code",
   "execution_count": null,
   "metadata": {},
   "outputs": [],
   "source": []
  }
 ],
 "metadata": {
  "kernelspec": {
   "display_name": "Python 3",
   "language": "python",
   "name": "python3"
  },
  "language_info": {
   "codemirror_mode": {
    "name": "ipython",
    "version": 3
   },
   "file_extension": ".py",
   "mimetype": "text/x-python",
   "name": "python",
   "nbconvert_exporter": "python",
   "pygments_lexer": "ipython3",
   "version": "3.7.3"
  }
 },
 "nbformat": 4,
 "nbformat_minor": 2
}
