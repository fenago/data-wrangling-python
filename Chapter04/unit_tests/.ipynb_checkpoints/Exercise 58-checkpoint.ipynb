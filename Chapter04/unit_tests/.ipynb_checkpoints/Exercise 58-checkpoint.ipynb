{
 "cells": [
  {
   "cell_type": "code",
   "execution_count": 10,
   "metadata": {},
   "outputs": [],
   "source": [
    "def test_exercise55_1a(x) -> bool:\n",
    "    import numpy as np \n",
    "    import pandas as pd \n",
    "    import matplotlib.pyplot as plt \n",
    "    df_sample = pd.read_excel(\"../Sample - Superstore.xls\") \n",
    "    df_sample = df[['Customer Name','State','Sales','Quantity']].sample(n=15)  \n",
    "    return df_sample.equals(x)"
   ]
  },
  {
   "cell_type": "code",
   "execution_count": 11,
   "metadata": {},
   "outputs": [],
   "source": [
    "def test_exercise55_1a(x) -> bool:\n",
    "    import numpy as np \n",
    "    import pandas as pd \n",
    "    import matplotlib.pyplot as plt \n",
    "    df_sample = pd.read_excel(\"../Sample - Superstore.xls\") \n",
    "    df_sample = df_sample.sort_values(by='Sales')   \n",
    "    return df_sample.equals(x)"
   ]
  },
  {
   "cell_type": "code",
   "execution_count": 12,
   "metadata": {},
   "outputs": [],
   "source": [
    "def test_exercise55_1a(x) -> bool:\n",
    "    import numpy as np \n",
    "    import pandas as pd \n",
    "    import matplotlib.pyplot as plt \n",
    "    df_sample = pd.read_excel(\"Sample - Superstore.xls\") \n",
    "    df_sample = df_sample.sort_values(by=['State','Sales'])    \n",
    "    return df_sample.equals(x)"
   ]
  }
 ],
 "metadata": {
  "kernelspec": {
   "display_name": "Python 3",
   "language": "python",
   "name": "python3"
  },
  "language_info": {
   "codemirror_mode": {
    "name": "ipython",
    "version": 3
   },
   "file_extension": ".py",
   "mimetype": "text/x-python",
   "name": "python",
   "nbconvert_exporter": "python",
   "pygments_lexer": "ipython3",
   "version": "3.7.3"
  }
 },
 "nbformat": 4,
 "nbformat_minor": 2
}
