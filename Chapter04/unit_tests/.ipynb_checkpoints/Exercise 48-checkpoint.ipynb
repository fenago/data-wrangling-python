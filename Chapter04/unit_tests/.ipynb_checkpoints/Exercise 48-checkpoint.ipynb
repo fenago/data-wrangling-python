{
 "cells": [
  {
   "cell_type": "code",
   "execution_count": 1,
   "metadata": {},
   "outputs": [],
   "source": [
    "def test_exercise_48_1(x) -> bool:\n",
    "    import sys\n",
    "    if \"xlrd\" in sys.modules:\n",
    "        return False\n",
    "    else:\n",
    "        return True"
   ]
  },
  {
   "cell_type": "code",
   "execution_count": 10,
   "metadata": {},
   "outputs": [],
   "source": [
    "def test_exercise_48_2(x) -> bool:\n",
    "    import numpy as np \n",
    "    import pandas as pd \n",
    "    import matplotlib.pyplot as plt \n",
    "    df = pd.read_excel(\"../Sample - Superstore.xls\") \n",
    "    df.head().equals(x)\n",
    "    "
   ]
  },
  {
   "cell_type": "code",
   "execution_count": 9,
   "metadata": {},
   "outputs": [
    {
     "data": {
      "text/plain": [
       "True"
      ]
     },
     "execution_count": 9,
     "metadata": {},
     "output_type": "execute_result"
    }
   ],
   "source": [
    "def test_exercise_48_3(x) -> bool:\n",
    "    import numpy as np \n",
    "    import pandas as pd \n",
    "    import matplotlib.pyplot as plt \n",
    "    df = pd.read_excel(\"../Sample - Superstore.xls\") \n",
    "    df.drop('Row ID',axis=1,inplace=True) \n",
    "    df.equals(x)"
   ]
  }
 ],
 "metadata": {
  "kernelspec": {
   "display_name": "Python 3",
   "language": "python",
   "name": "python3"
  },
  "language_info": {
   "codemirror_mode": {
    "name": "ipython",
    "version": 3
   },
   "file_extension": ".py",
   "mimetype": "text/x-python",
   "name": "python",
   "nbconvert_exporter": "python",
   "pygments_lexer": "ipython3",
   "version": "3.7.3"
  }
 },
 "nbformat": 4,
 "nbformat_minor": 2
}
