{
 "cells": [
  {
   "cell_type": "code",
   "execution_count": null,
   "metadata": {},
   "outputs": [],
   "source": [
    "ship_data = {\"Sea Princess\": {\"date\":\"12/08/20\", \"load\": 40000}, \n",
    "             \"Sea Pincess\": {\"date\":\"10/06/20\", \"load\": 30000}, \n",
    "             \"Sea Princes\": {\"date\":\"12/04/20\", \"load\": 30000}}"
   ]
  },
  {
   "cell_type": "code",
   "execution_count": null,
   "metadata": {},
   "outputs": [],
   "source": [
    "from Levenshtein import distance\n",
    "name_of_ship = \"Sea Princess\"\n",
    "for k, v in ship_data.items():\n",
    "    print(\"{} {} {}\".format(k, name_of_ship, distance(name_of_ship, k)))\n"
   ]
  }
 ],
 "metadata": {
  "kernelspec": {
   "display_name": "Python 3",
   "language": "python",
   "name": "python3"
  },
  "language_info": {
   "codemirror_mode": {
    "name": "ipython",
    "version": 3
   },
   "file_extension": ".py",
   "mimetype": "text/x-python",
   "name": "python",
   "nbconvert_exporter": "python",
   "pygments_lexer": "ipython3",
   "version": "3.8.6"
  }
 },
 "nbformat": 4,
 "nbformat_minor": 2
}
