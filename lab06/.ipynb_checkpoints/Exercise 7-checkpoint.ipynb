{
 "cells": [
  {
   "cell_type": "code",
   "execution_count": null,
   "metadata": {},
   "outputs": [],
   "source": [
    "def test_exercise_7_1(x) -> bool:\n",
    "    import pandas as pd \n",
    "    ys = [cos(i*(pi/4)) for i in range(50)] \n",
    "    ys[4] = ys[4] + 5.0 \n",
    "    ys[20] = ys[20] + 8.0 \n",
    "    df_original = pd.DataFrame(ys) \n",
    "    return df_original == x"
   ]
  },
  {
   "cell_type": "code",
   "execution_count": null,
   "metadata": {},
   "outputs": [],
   "source": [
    "def test_exercise_7_2(x) -> bool:\n",
    "    import pandas as pd \n",
    "    ys = [cos(i*(pi/4)) for i in range(50)] \n",
    "    ys[4] = ys[4] + 5.0 \n",
    "    ys[20] = ys[20] + 8.0 \n",
    "    df_original = pd.DataFrame(ys) \n",
    "    cos_arr_without_outliers = df_original[(cos_arr_z_score < 3)]\n",
    "    return cos_arr_without_outliers == x"
   ]
  }
 ],
 "metadata": {
  "kernelspec": {
   "display_name": "Python 3",
   "language": "python",
   "name": "python3"
  },
  "language_info": {
   "codemirror_mode": {
    "name": "ipython",
    "version": 3
   },
   "file_extension": ".py",
   "mimetype": "text/x-python",
   "name": "python",
   "nbconvert_exporter": "python",
   "pygments_lexer": "ipython3",
   "version": "3.7.3"
  }
 },
 "nbformat": 4,
 "nbformat_minor": 2
}
