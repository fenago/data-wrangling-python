{
 "cells": [
  {
   "cell_type": "code",
   "execution_count": null,
   "metadata": {},
   "outputs": [],
   "source": [
    "def test_exercise_5_1a(x) -> bool:\n",
    "    countries = [\"India\", \"USA\", \"France\", \"UK\", \"Brasil\", \"Japan\"] \n",
    "    return final_list_of_word == x"
   ]
  },
  {
   "cell_type": "code",
   "execution_count": null,
   "metadata": {},
   "outputs": [],
   "source": [
    "def test_exercise_5_1b(x) -> bool:\n",
    "    capitals = [\"Delhi\", \"Washington\", \"Paris\", \"London\"] \n",
    "    return final_list_of_word == x"
   ]
  },
  {
   "cell_type": "code",
   "execution_count": null,
   "metadata": {},
   "outputs": [],
   "source": [
    "def test_exercise_5_2(x) -> bool:\n",
    "    from itertools import zip_longest \n",
    "    countries = [\"India\", \"USA\", \"France\", \"UK\", \"Brasil\", \"Japan\"] \n",
    "    capitals = [\"Delhi\", \"Washington\", \"Paris\", \"London\"] \n",
    "    countries_and_capitals_as_dict_2 = dict(zip_longest(countries, capitals)) \n",
    "    return countries_and_capitals_as_dict_2 == x"
   ]
  }
 ],
 "metadata": {
  "kernelspec": {
   "display_name": "Python 3",
   "language": "python",
   "name": "python3"
  },
  "language_info": {
   "codemirror_mode": {
    "name": "ipython",
    "version": 3
   },
   "file_extension": ".py",
   "mimetype": "text/x-python",
   "name": "python",
   "nbconvert_exporter": "python",
   "pygments_lexer": "ipython3",
   "version": "3.7.3"
  }
 },
 "nbformat": 4,
 "nbformat_minor": 2
}
