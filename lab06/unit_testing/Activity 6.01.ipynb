{
 "cells": [
  {
   "cell_type": "code",
   "execution_count": null,
   "metadata": {},
   "outputs": [],
   "source": [
    "def test_exercise_1(x) -> bool:\n",
    "    import sys\n",
    "    if \"numpy\" in sys.modules:\n",
    "        return False\n",
    "    else:\n",
    "        return True"
   ]
  },
  {
   "cell_type": "code",
   "execution_count": null,
   "metadata": {},
   "outputs": [],
   "source": [
    "def test_exercise_1(x) -> bool:\n",
    "    import sys\n",
    "    if \"pandas\" in sys.modules:\n",
    "        return False\n",
    "    else:\n",
    "        return True"
   ]
  },
  {
   "cell_type": "code",
   "execution_count": null,
   "metadata": {},
   "outputs": [],
   "source": [
    "def test_exercise_1(x) -> bool:\n",
    "    import sys\n",
    "    if \"matplotlib\" in sys.modules:\n",
    "        return False\n",
    "    else:\n",
    "        return True"
   ]
  },
  {
   "cell_type": "code",
   "execution_count": null,
   "metadata": {},
   "outputs": [],
   "source": [
    "def test_exercise_2(x) -> bool:\n",
    "    import pandas as pd\n",
    "    df=pd.read_csv(\"visit_data.csv\") \n",
    "    return df.equals(x)"
   ]
  },
  {
   "cell_type": "code",
   "execution_count": null,
   "metadata": {},
   "outputs": [],
   "source": [
    "def test_exercise_3(x) -> bool:\n",
    "    import pandas as pd\n",
    "    df=pd.read_csv(\"visit_data.csv\") \n",
    "    return df.head().equals(x)"
   ]
  },
  {
   "cell_type": "code",
   "execution_count": null,
   "metadata": {},
   "outputs": [],
   "source": [
    "def test_exercise_5(x) -> bool:\n",
    "    import pandas as pd\n",
    "    df=pd.read_csv(\"visit_data.csv\")\n",
    "    # There are various ways to do this. This is just one way. We encourage you to explore other ways. \n",
    "    # But before that we need to store the previous size of the data set and we will compare it with the new size \n",
    "    size_prev = df.shape \n",
    "    df = df[np.isfinite(df['visit'])] #This is an inplace operation. After this operation the original DataFrame is lost. \n",
    "    size_after = df.shape \n",
    "    return size_after == x"
   ]
  }
 ],
 "metadata": {
  "kernelspec": {
   "display_name": "Python 3",
   "language": "python",
   "name": "python3"
  },
  "language_info": {
   "codemirror_mode": {
    "name": "ipython",
    "version": 3
   },
   "file_extension": ".py",
   "mimetype": "text/x-python",
   "name": "python",
   "nbconvert_exporter": "python",
   "pygments_lexer": "ipython3",
   "version": "3.7.3"
  }
 },
 "nbformat": 4,
 "nbformat_minor": 2
}
