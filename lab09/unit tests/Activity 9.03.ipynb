{
 "cells": [
  {
   "cell_type": "code",
   "execution_count": null,
   "metadata": {},
   "outputs": [],
   "source": [
    "def test_exercise_1(x) -> bool:\n",
    "    import numpy as np \n",
    "    import pandas as pd \n",
    "    import matplotlib.pyplot as plt \n",
    "    import warnings \n",
    "    warnings.filterwarnings('ignore')\n",
    "    link=\"https://github.com/PacktWorkshops/Data-Wrangling-with-Python/blob/master/Lesson09/Activity12-15/India_World_Bank_Info.csv\" \n",
    "    df3 = pd.read_csv(link,error_bad_lines=False,delimiter='\\t',skiprows=4)\n",
    "    df4=df3[df3['Indicator Name']=='GDP per capita (current US$)'].T  \n",
    "    df4.reset_index(inplace=True) \n",
    "    df4.drop([0,1,2],inplace=True) \n",
    "    df4.reset_index(inplace=True,drop=True) \n",
    "    df4.columns=['Year','GDP'] \n",
    "    df_gdp=df4.iloc[[i for i in range(43,57)]] \n",
    "    df_gdp.reset_index(inplace=True,drop=True) \n",
    "    primary_enrollment_with_gdp=primary_enrollment_india.merge(df_gdp,on='Year') \n",
    "    return primary_enrollment_with_gdp   == x"
   ]
  },
  {
   "cell_type": "code",
   "execution_count": null,
   "metadata": {},
   "outputs": [],
   "source": [
    "def test_exercise_2(x) -> bool:\n",
    "    import numpy as np \n",
    "    import pandas as pd \n",
    "    import matplotlib.pyplot as plt \n",
    "    import warnings \n",
    "    warnings.filterwarnings('ignore')\n",
    "    link=\"https://github.com/PacktWorkshops/Data-Wrangling-with-Python/blob/master/Lesson09/Activity12-15/India_World_Bank_Info.csv\" \n",
    "    df3 = pd.read_csv(link,error_bad_lines=False,delimiter='\\t',skiprows=4)\n",
    "    df4=df3[df3['Indicator Name']=='GDP per capita (current US$)'].T  \n",
    "    df4.reset_index(inplace=True) \n",
    "    df4.drop([0,1,2],inplace=True) \n",
    "    df4.reset_index(inplace=True,drop=True) \n",
    "    df4.columns=['Year','GDP'] \n",
    "    df_gdp=df4.iloc[[i for i in range(43,57)]] \n",
    "    df_gdp.reset_index(inplace=True,drop=True) \n",
    "    primary_enrollment_with_gdp=primary_enrollment_india.merge(df_gdp,on='Year') \n",
    "    primary_enrollment_with_gdp.drop(['Data','Footnotes','Region/Country/Area'],axis=1,inplace=True) \n",
    "    return primary_enrollment_with_gdp   == x"
   ]
  },
  {
   "cell_type": "code",
   "execution_count": null,
   "metadata": {},
   "outputs": [],
   "source": [
    "def test_exercise_2(x) -> bool:\n",
    "    import numpy as np \n",
    "    import pandas as pd \n",
    "    import matplotlib.pyplot as plt \n",
    "    import warnings \n",
    "    warnings.filterwarnings('ignore')\n",
    "    link=\"https://github.com/PacktWorkshops/Data-Wrangling-with-Python/blob/master/Lesson09/Activity12-15/India_World_Bank_Info.csv\" \n",
    "    df3 = pd.read_csv(link,error_bad_lines=False,delimiter='\\t',skiprows=4)\n",
    "    df4=df3[df3['Indicator Name']=='GDP per capita (current US$)'].T  \n",
    "    df4.reset_index(inplace=True) \n",
    "    df4.drop([0,1,2],inplace=True) \n",
    "    df4.reset_index(inplace=True,drop=True) \n",
    "    df4.columns=['Year','GDP'] \n",
    "    df_gdp=df4.iloc[[i for i in range(43,57)]] \n",
    "    df_gdp.reset_index(inplace=True,drop=True) \n",
    "    primary_enrollment_with_gdp=primary_enrollment_india.merge(df_gdp,on='Year') \n",
    "    primary_enrollment_with_gdp.drop(['Data','Footnotes','Region/Country/Area'],axis=1,inplace=True) \n",
    "    primary_enrollment_with_gdp = primary_enrollment_with_gdp[['Year','Enrollments (Thousands)','GDP']] \n",
    "      \n",
    "    return primary_enrollment_with_gdp   == x"
   ]
  }
 ],
 "metadata": {
  "kernelspec": {
   "display_name": "Python 3",
   "language": "python",
   "name": "python3"
  },
  "language_info": {
   "codemirror_mode": {
    "name": "ipython",
    "version": 3
   },
   "file_extension": ".py",
   "mimetype": "text/x-python",
   "name": "python",
   "nbconvert_exporter": "python",
   "pygments_lexer": "ipython3",
   "version": "3.7.3"
  }
 },
 "nbformat": 4,
 "nbformat_minor": 2
}
