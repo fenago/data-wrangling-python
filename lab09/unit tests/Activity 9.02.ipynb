{
 "cells": [
  {
   "cell_type": "code",
   "execution_count": null,
   "metadata": {},
   "outputs": [],
   "source": [
    "def test_exercise_1(x) -> bool:\n",
    "    import sys\n",
    "    if \"pandas\" in sys.modules:\n",
    "        return False\n",
    "    else:\n",
    "        return True"
   ]
  },
  {
   "cell_type": "code",
   "execution_count": null,
   "metadata": {},
   "outputs": [],
   "source": [
    "def test_exercise_3(x) -> bool:\n",
    "    import numpy as np \n",
    "    import pandas as pd \n",
    "    import matplotlib.pyplot as plt \n",
    "    import warnings \n",
    "    warnings.filterwarnings('ignore')\n",
    "    link=\"https://github.com/fenago/data-wrangling-python/blob/master/lab09/datasets/India_World_Bank_Info.csv\" \n",
    "    df3 = pd.read_csv(link,error_bad_lines=False)\n",
    "    return df3 == x"
   ]
  },
  {
   "cell_type": "code",
   "execution_count": null,
   "metadata": {},
   "outputs": [],
   "source": [
    "def test_exercise_4(x) -> bool:\n",
    "    import numpy as np \n",
    "    import pandas as pd \n",
    "    import matplotlib.pyplot as plt \n",
    "    import warnings \n",
    "    warnings.filterwarnings('ignore')\n",
    "    link=\"https://github.com/fenago/data-wrangling-python/blob/master/lab09/datasets/India_World_Bank_Info.csv\" \n",
    "    df3 = pd.read_csv(link,error_bad_lines=False,delimiter='\\t')\n",
    "    return df3 == x"
   ]
  },
  {
   "cell_type": "code",
   "execution_count": null,
   "metadata": {},
   "outputs": [],
   "source": [
    "def test_exercise_5(x) -> bool:\n",
    "    import numpy as np \n",
    "    import pandas as pd \n",
    "    import matplotlib.pyplot as plt \n",
    "    import warnings \n",
    "    warnings.filterwarnings('ignore')\n",
    "    link=\"https://github.com/fenago/data-wrangling-python/blob/master/lab09/datasets/India_World_Bank_Info.csv\" \n",
    "    df3 = pd.read_csv(link,error_bad_lines=False,delimiter='\\t',skiprows=4)\n",
    "    return df3 == x"
   ]
  },
  {
   "cell_type": "code",
   "execution_count": null,
   "metadata": {},
   "outputs": [],
   "source": [
    "def test_exercise_6(x) -> bool:\n",
    "    import numpy as np \n",
    "    import pandas as pd \n",
    "    import matplotlib.pyplot as plt \n",
    "    import warnings \n",
    "    warnings.filterwarnings('ignore')\n",
    "    link=\"https://github.com/fenago/data-wrangling-python/blob/master/lab09/datasets/India_World_Bank_Info.csv\" \n",
    "    df3 = pd.read_csv(link,error_bad_lines=False,delimiter='\\t',skiprows=4)\n",
    "    df4=df3[df3['Indicator Name']=='GDP per capita (current US$)'].T  \n",
    "    return df4.head(10) == x"
   ]
  },
  {
   "cell_type": "code",
   "execution_count": null,
   "metadata": {},
   "outputs": [],
   "source": [
    "def test_exercise_7(x) -> bool:\n",
    "    import numpy as np \n",
    "    import pandas as pd \n",
    "    import matplotlib.pyplot as plt \n",
    "    import warnings \n",
    "    warnings.filterwarnings('ignore')\n",
    "    link=\"https://github.com/fenago/data-wrangling-python/blob/master/lab09/datasets/India_World_Bank_Info.csv\" \n",
    "    df3 = pd.read_csv(link,error_bad_lines=False,delimiter='\\t',skiprows=4)\n",
    "    df4=df3[df3['Indicator Name']=='GDP per capita (current US$)'].T  \n",
    "    df4.reset_index(inplace=True) \n",
    "    return df4.head(10) == x"
   ]
  },
  {
   "cell_type": "code",
   "execution_count": null,
   "metadata": {},
   "outputs": [],
   "source": [
    "def test_exercise_8(x) -> bool:\n",
    "    import numpy as np \n",
    "    import pandas as pd \n",
    "    import matplotlib.pyplot as plt \n",
    "    import warnings \n",
    "    warnings.filterwarnings('ignore')\n",
    "    link=\"https://github.com/fenago/data-wrangling-python/blob/master/lab09/datasets/India_World_Bank_Info.csv\" \n",
    "    df3 = pd.read_csv(link,error_bad_lines=False,delimiter='\\t',skiprows=4)\n",
    "    df4=df3[df3['Indicator Name']=='GDP per capita (current US$)'].T  \n",
    "    df4.reset_index(inplace=True) \n",
    "    df4.drop([0,1,2],inplace=True) \n",
    "    df4.reset_index(inplace=True,drop=True) \n",
    "    return df4.head(10) == x"
   ]
  },
  {
   "cell_type": "code",
   "execution_count": null,
   "metadata": {},
   "outputs": [],
   "source": [
    "def test_exercise_9(x) -> bool:\n",
    "    import numpy as np \n",
    "    import pandas as pd \n",
    "    import matplotlib.pyplot as plt \n",
    "    import warnings \n",
    "    warnings.filterwarnings('ignore')\n",
    "    link=\"https://github.com/fenago/data-wrangling-python/blob/master/lab09/datasets/India_World_Bank_Info.csv\" \n",
    "    df3 = pd.read_csv(link,error_bad_lines=False,delimiter='\\t',skiprows=4)\n",
    "    df4=df3[df3['Indicator Name']=='GDP per capita (current US$)'].T  \n",
    "    df4.reset_index(inplace=True) \n",
    "    df4.drop([0,1,2],inplace=True) \n",
    "    df4.reset_index(inplace=True,drop=True) \n",
    "    df4.columns=['Year','GDP'] \n",
    "    return df4.head(10) == x"
   ]
  },
  {
   "cell_type": "code",
   "execution_count": null,
   "metadata": {},
   "outputs": [],
   "source": [
    "def test_exercise_10(x) -> bool:\n",
    "    import numpy as np \n",
    "    import pandas as pd \n",
    "    import matplotlib.pyplot as plt \n",
    "    import warnings \n",
    "    warnings.filterwarnings('ignore')\n",
    "    link=\"https://github.com/fenago/data-wrangling-python/blob/master/lab09/datasets/India_World_Bank_Info.csv\" \n",
    "    df3 = pd.read_csv(link,error_bad_lines=False,delimiter='\\t',skiprows=4)\n",
    "    df4=df3[df3['Indicator Name']=='GDP per capita (current US$)'].T  \n",
    "    df4.reset_index(inplace=True) \n",
    "    df4.drop([0,1,2],inplace=True) \n",
    "    df4.reset_index(inplace=True,drop=True) \n",
    "    df4.columns=['Year','GDP'] \n",
    "    return df4.tail(20)  == x"
   ]
  },
  {
   "cell_type": "code",
   "execution_count": null,
   "metadata": {},
   "outputs": [],
   "source": [
    "def test_exercise_10(x) -> bool:\n",
    "    import numpy as np \n",
    "    import pandas as pd \n",
    "    import matplotlib.pyplot as plt \n",
    "    import warnings \n",
    "    warnings.filterwarnings('ignore')\n",
    "    link=\"https://github.com/fenago/data-wrangling-python/blob/master/lab09/datasets/India_World_Bank_Info.csv\" \n",
    "    df3 = pd.read_csv(link,error_bad_lines=False,delimiter='\\t',skiprows=4)\n",
    "    df4=df3[df3['Indicator Name']=='GDP per capita (current US$)'].T  \n",
    "    df4.reset_index(inplace=True) \n",
    "    df4.drop([0,1,2],inplace=True) \n",
    "    df4.reset_index(inplace=True,drop=True) \n",
    "    df4.columns=['Year','GDP'] \n",
    "    df_gdp=df4.iloc[[i for i in range(43,57)]] \n",
    "    return df_gdp  == x"
   ]
  },
  {
   "cell_type": "code",
   "execution_count": null,
   "metadata": {},
   "outputs": [],
   "source": [
    "def test_exercise_11(x) -> bool:\n",
    "    import numpy as np \n",
    "    import pandas as pd \n",
    "    import matplotlib.pyplot as plt \n",
    "    import warnings \n",
    "    warnings.filterwarnings('ignore')\n",
    "    link=\"https://github.com/fenago/data-wrangling-python/blob/master/lab09/datasets/India_World_Bank_Info.csv\" \n",
    "    df3 = pd.read_csv(link,error_bad_lines=False,delimiter='\\t',skiprows=4)\n",
    "    df4=df3[df3['Indicator Name']=='GDP per capita (current US$)'].T  \n",
    "    df4.reset_index(inplace=True) \n",
    "    df4.drop([0,1,2],inplace=True) \n",
    "    df4.reset_index(inplace=True,drop=True) \n",
    "    df4.columns=['Year','GDP'] \n",
    "    df_gdp=df4.iloc[[i for i in range(43,57)]] \n",
    "    df_gdp.reset_index(inplace=True,drop=True) \n",
    "    return df_gdp  == x"
   ]
  },
  {
   "cell_type": "code",
   "execution_count": null,
   "metadata": {},
   "outputs": [],
   "source": [
    "def test_exercise_12(x) -> bool:\n",
    "    import numpy as np \n",
    "    import pandas as pd \n",
    "    import matplotlib.pyplot as plt \n",
    "    import warnings \n",
    "    warnings.filterwarnings('ignore')\n",
    "    link=\"https://github.com/fenago/data-wrangling-python/blob/master/lab09/datasets/India_World_Bank_Info.csv\" \n",
    "    df3 = pd.read_csv(link,error_bad_lines=False,delimiter='\\t',skiprows=4)\n",
    "    df4=df3[df3['Indicator Name']=='GDP per capita (current US$)'].T  \n",
    "    df4.reset_index(inplace=True) \n",
    "    df4.drop([0,1,2],inplace=True) \n",
    "    df4.reset_index(inplace=True,drop=True) \n",
    "    df4.columns=['Year','GDP'] \n",
    "    df_gdp=df4.iloc[[i for i in range(43,57)]] \n",
    "    df_gdp.reset_index(inplace=True,drop=True) \n",
    "    return df_gdp['Year']  == x"
   ]
  },
  {
   "cell_type": "code",
   "execution_count": null,
   "metadata": {},
   "outputs": [],
   "source": [
    "def test_exercise_13(x) -> bool:\n",
    "    import numpy as np \n",
    "    import pandas as pd \n",
    "    import matplotlib.pyplot as plt \n",
    "    import warnings \n",
    "    warnings.filterwarnings('ignore')\n",
    "    link=\"https://github.com/fenago/data-wrangling-python/blob/master/lab09/datasets/India_World_Bank_Info.csv\" \n",
    "    df3 = pd.read_csv(link,error_bad_lines=False,delimiter='\\t',skiprows=4)\n",
    "    df4=df3[df3['Indicator Name']=='GDP per capita (current US$)'].T  \n",
    "    df4.reset_index(inplace=True) \n",
    "    df4.drop([0,1,2],inplace=True) \n",
    "    df4.reset_index(inplace=True,drop=True) \n",
    "    df4.columns=['Year','GDP'] \n",
    "    df_gdp=df4.iloc[[i for i in range(43,57)]] \n",
    "    df_gdp.reset_index(inplace=True,drop=True) \n",
    "    return df_gdp['Year'].apply(int)  == x"
   ]
  }
 ],
 "metadata": {
  "kernelspec": {
   "display_name": "Python 3",
   "language": "python",
   "name": "python3"
  },
  "language_info": {
   "codemirror_mode": {
    "name": "ipython",
    "version": 3
   },
   "file_extension": ".py",
   "mimetype": "text/x-python",
   "name": "python",
   "nbconvert_exporter": "python",
   "pygments_lexer": "ipython3",
   "version": "3.7.3"
  }
 },
 "nbformat": 4,
 "nbformat_minor": 2
}
