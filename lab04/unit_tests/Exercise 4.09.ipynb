{
 "cells": [
  {
   "cell_type": "code",
   "execution_count": null,
   "metadata": {},
   "outputs": [],
   "source": [
    "def test_exercise55_1(x) -> bool:\n",
    "    import numpy as np \n",
    "    import pandas as pd \n",
    "    import matplotlib.pyplot as plt \n",
    "    df = pd.read_excel(\"../Sample - Superstore.xls\") \n",
    "    df_1=df[['Customer Name','Ship Date','Ship Mode']][0:4] \n",
    "    df = df_1.set_index(['Customer Name'],inplace=True) \n",
    "    return df.equals(x)"
   ]
  },
  {
   "cell_type": "code",
   "execution_count": null,
   "metadata": {},
   "outputs": [],
   "source": [
    "def test_exercise55_2(x) -> bool:\n",
    "    import numpy as np \n",
    "    import pandas as pd \n",
    "    import matplotlib.pyplot as plt \n",
    "    df = pd.read_excel(\"../Sample - Superstore.xls\") \n",
    "    df_2 = df[['Customer Name','Product Name','Quantity']][2:6] \n",
    "    df = df_2.set_index(['Customer Name'],inplace=True)  \n",
    "    return df.equals(x)"
   ]
  },
  {
   "cell_type": "code",
   "execution_count": null,
   "metadata": {},
   "outputs": [],
   "source": [
    "def test_exercise55_3(x) -> bool:\n",
    "    import numpy as np \n",
    "    import pandas as pd \n",
    "    import matplotlib.pyplot as plt \n",
    "    df = pd.read_excel(\"../Sample - Superstore.xls\") \n",
    "    df_1=df[['Customer Name','Ship Date','Ship Mode']][0:4] \n",
    "    df_2 = df[['Customer Name','Product Name','Quantity']][2:6] \n",
    "    df = df_1.join(df_2,how='right').drop_duplicates() \n",
    "    return df.equals(x)"
   ]
  },
  {
   "cell_type": "code",
   "execution_count": 2,
   "metadata": {},
   "outputs": [],
   "source": [
    "def test_exercise55_4(x) -> bool:\n",
    "    import numpy as np \n",
    "    import pandas as pd \n",
    "    import matplotlib.pyplot as plt \n",
    "    df = pd.read_excel(\"../Sample - Superstore.xls\") \n",
    "    df_1=df[['Customer Name','Ship Date','Ship Mode']][0:4] \n",
    "    df_2 = df[['Customer Name','Product Name','Quantity']][2:6] \n",
    "    df = df_1.join(df_2,how='inner').drop_duplicates()  \n",
    "    return df.equals(x)"
   ]
  },
  {
   "cell_type": "code",
   "execution_count": 4,
   "metadata": {},
   "outputs": [],
   "source": [
    "def test_exercise55_5(x) -> bool:\n",
    "    import numpy as np \n",
    "    import pandas as pd \n",
    "    import matplotlib.pyplot as plt \n",
    "    df = pd.read_excel(\"../Sample - Superstore.xls\") \n",
    "    df_1=df[['Customer Name','Ship Date','Ship Mode']][0:4] \n",
    "    df_2 = df[['Customer Name','Product Name','Quantity']][2:6] \n",
    "    df = df_1.join(df_2,how='outer').drop_duplicates()   \n",
    "    return df.equals(x)"
   ]
  }
 ],
 "metadata": {
  "kernelspec": {
   "display_name": "Python 3",
   "language": "python",
   "name": "python3"
  },
  "language_info": {
   "codemirror_mode": {
    "name": "ipython",
    "version": 3
   },
   "file_extension": ".py",
   "mimetype": "text/x-python",
   "name": "python",
   "nbconvert_exporter": "python",
   "pygments_lexer": "ipython3",
   "version": "3.7.3"
  }
 },
 "nbformat": 4,
 "nbformat_minor": 2
}
