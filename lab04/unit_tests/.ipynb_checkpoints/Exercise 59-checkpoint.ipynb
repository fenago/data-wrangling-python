{
 "cells": [
  {
   "cell_type": "code",
   "execution_count": 2,
   "metadata": {},
   "outputs": [],
   "source": [
    "def test_exercise55_2(x) -> bool:\n",
    "    import numpy as np \n",
    "    import pandas as pd \n",
    "    import matplotlib.pyplot as plt \n",
    "    df = pd.read_excel(\"../Sample - Superstore.xls\") \n",
    "    df_sample=df[['Customer Name','State','Sales']].sample(n=100) \n",
    "    return len(df_sample) == 100"
   ]
  },
  {
   "cell_type": "code",
   "execution_count": 5,
   "metadata": {},
   "outputs": [],
   "source": [
    "def test_exercise55_3(x) -> bool:\n",
    "    import numpy as np \n",
    "    import pandas as pd \n",
    "    import matplotlib.pyplot as plt \n",
    "    df = pd.read_excel(\"../Sample - Superstore.xls\")\n",
    "    def categorize_sales(price): \n",
    "        if price < 50: \n",
    "            return \"Low\" \n",
    "        elif price < 200: \n",
    "            return \"Medium\" \n",
    "        else: \n",
    "            return \"High\"\n",
    "    df_sample['Sales Price Category']=df_sample['Sales'].apply(categorize_sales)  \n",
    "    return 'Sales Price Category' in df.df_sample"
   ]
  },
  {
   "cell_type": "code",
   "execution_count": 6,
   "metadata": {},
   "outputs": [],
   "source": [
    "def test_exercise55_4(x) -> bool:\n",
    "    import numpy as np \n",
    "    import pandas as pd \n",
    "    import matplotlib.pyplot as plt \n",
    "    df = pd.read_excel(\"../Sample - Superstore.xls\")\n",
    "    def categorize_sales(price): \n",
    "        if price < 50: \n",
    "            return \"Low\" \n",
    "        elif price < 200: \n",
    "            return \"Medium\" \n",
    "        else: \n",
    "            return \"High\"\n",
    "    df_sample['Customer Name Length']=df_sample['Customer Name'].apply(len) \n",
    "    return 'Customer Name Length' in df.df_sample"
   ]
  },
  {
   "cell_type": "code",
   "execution_count": 10,
   "metadata": {},
   "outputs": [],
   "source": [
    "def test_exercise55_5(x) -> bool:\n",
    "    import numpy as np \n",
    "    import pandas as pd \n",
    "    import matplotlib.pyplot as plt \n",
    "    df = pd.read_excel(\"../Sample - Superstore.xls\")\n",
    "    def categorize_sales(price): \n",
    "        if price < 50: \n",
    "            return \"Low\" \n",
    "        elif price < 200: \n",
    "            return \"Medium\" \n",
    "        else: \n",
    "            return \"High\"\n",
    "    df_sample['Discounted Price']=df_sample['Sales'].apply(lambda x:0.85*x if x>200 else x)  \n",
    "    return 'Discounted Price' in df.df_sample"
   ]
  }
 ],
 "metadata": {
  "kernelspec": {
   "display_name": "Python 3",
   "language": "python",
   "name": "python3"
  },
  "language_info": {
   "codemirror_mode": {
    "name": "ipython",
    "version": 3
   },
   "file_extension": ".py",
   "mimetype": "text/x-python",
   "name": "python",
   "nbconvert_exporter": "python",
   "pygments_lexer": "ipython3",
   "version": "3.7.3"
  }
 },
 "nbformat": 4,
 "nbformat_minor": 2
}
