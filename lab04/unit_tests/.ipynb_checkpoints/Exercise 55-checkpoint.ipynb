{
 "cells": [
  {
   "cell_type": "code",
   "execution_count": null,
   "metadata": {},
   "outputs": [],
   "source": [
    "def test_exercise55_1a(x) -> bool:\n",
    "    import numpy as np \n",
    "    import pandas as pd \n",
    "    import matplotlib.pyplot as plt \n",
    "    df = pd.read_excel(\"../Sample - Superstore.xls\") \n",
    "    df_1=df[['Ship Date','Ship Mode','Customer Name']][0:4] \n",
    "    return df_1.equals(x)"
   ]
  },
  {
   "cell_type": "code",
   "execution_count": null,
   "metadata": {},
   "outputs": [],
   "source": [
    "def test_exercise55_1b(x) -> bool:\n",
    "    import numpy as np \n",
    "    import pandas as pd \n",
    "    import matplotlib.pyplot as plt \n",
    "    df = pd.read_excel(\"../Sample - Superstore.xls\") \n",
    "    df_2=df[['Customer Name','Product Name','Quantity']][0:4]  \n",
    "    return df_2.equals(x)"
   ]
  },
  {
   "cell_type": "code",
   "execution_count": null,
   "metadata": {},
   "outputs": [],
   "source": [
    "def test_exercise55_2(x) -> bool:\n",
    "    import numpy as np \n",
    "    import pandas as pd \n",
    "    import matplotlib.pyplot as plt \n",
    "    df = pd.read_excel(\"../Sample - Superstore.xls\") \n",
    "    df_1=df[['Ship Date','Ship Mode','Customer Name']][0:4] \n",
    "    df_2=df[['Customer Name','Product Name','Quantity']][0:4]  \n",
    "    df = pd.merge(df_1,df_2,on='Customer Name',how='inner')  \n",
    "    return df_2.equals(x)"
   ]
  },
  {
   "cell_type": "code",
   "execution_count": 1,
   "metadata": {},
   "outputs": [],
   "source": [
    "def test_exercise55_3(x) -> bool:\n",
    "    import numpy as np \n",
    "    import pandas as pd \n",
    "    import matplotlib.pyplot as plt \n",
    "    df = pd.read_excel(\"../Sample - Superstore.xls\") \n",
    "    df_1=df[['Ship Date','Ship Mode','Customer Name']][0:4] \n",
    "    df_2=df[['Customer Name','Product Name','Quantity']][0:4]  \n",
    "    df = pd.merge(df_1,df_2,on='Customer Name',how='inner').drop_duplicates()   \n",
    "    return df_2.equals(x)"
   ]
  },
  {
   "cell_type": "code",
   "execution_count": 3,
   "metadata": {},
   "outputs": [],
   "source": [
    "def test_exercise55_4(x) -> bool:\n",
    "    import numpy as np \n",
    "    import pandas as pd \n",
    "    import matplotlib.pyplot as plt \n",
    "    df = pd.read_excel(\"../Sample - Superstore.xls\")  \n",
    "    df = df[['Customer Name','Product Name','Quantity']][2:6]    \n",
    "    return df.equals(x)"
   ]
  },
  {
   "cell_type": "code",
   "execution_count": 4,
   "metadata": {},
   "outputs": [],
   "source": [
    "def test_exercise55_5(x) -> bool:\n",
    "    import numpy as np \n",
    "    import pandas as pd \n",
    "    import matplotlib.pyplot as plt \n",
    "    df = pd.read_excel(\"../Sample - Superstore.xls\")  \n",
    "    df_1=df[['Ship Date','Ship Mode','Customer Name']][0:4] \n",
    "    df_2=df[['Customer Name','Product Name','Quantity']][0:4]  \n",
    "    df_3=df[['Customer Name','Product Name','Quantity']][2:6] \n",
    "    df = pd.merge(df_1,df_3,on='Customer Name',how='inner').drop_duplicates()     \n",
    "    return df.equals(x)"
   ]
  },
  {
   "cell_type": "code",
   "execution_count": null,
   "metadata": {},
   "outputs": [],
   "source": [
    "def test_exercise55_6(x) -> bool:\n",
    "    import numpy as np \n",
    "    import pandas as pd \n",
    "    import matplotlib.pyplot as plt \n",
    "    df = pd.read_excel(\"../Sample - Superstore.xls\")  \n",
    "    df_1=df[['Ship Date','Ship Mode','Customer Name']][0:4] \n",
    "    df_2=df[['Customer Name','Product Name','Quantity']][0:4]  \n",
    "    df_3=df[['Customer Name','Product Name','Quantity']][2:6] \n",
    "    df = pd.merge(df_1,df_3,on='Customer Name',how='outer').drop_duplicates() \n",
    "    return df.equals(x)"
   ]
  }
 ],
 "metadata": {
  "kernelspec": {
   "display_name": "Python 3",
   "language": "python",
   "name": "python3"
  },
  "language_info": {
   "codemirror_mode": {
    "name": "ipython",
    "version": 3
   },
   "file_extension": ".py",
   "mimetype": "text/x-python",
   "name": "python",
   "nbconvert_exporter": "python",
   "pygments_lexer": "ipython3",
   "version": "3.7.3"
  }
 },
 "nbformat": 4,
 "nbformat_minor": 2
}
