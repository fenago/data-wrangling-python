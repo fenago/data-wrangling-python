{
 "cells": [
  {
   "cell_type": "code",
   "execution_count": 2,
   "metadata": {},
   "outputs": [],
   "source": [
    "def test_exercise57_1(x) -> bool:\n",
    "    import numpy as np \n",
    "    import pandas as pd \n",
    "    import matplotlib.pyplot as plt \n",
    "    df = pd.read_excel(\"../Sample - Superstore.xls\") \n",
    "    df_1 = df.sample(n=5)   \n",
    "    return df_1.equals(x)"
   ]
  },
  {
   "cell_type": "code",
   "execution_count": 4,
   "metadata": {},
   "outputs": [],
   "source": [
    "def test_exercise57_2(x) -> bool:\n",
    "    import numpy as np \n",
    "    import pandas as pd \n",
    "    import matplotlib.pyplot as plt \n",
    "    df = pd.read_excel(\"../Sample - Superstore.xls\") \n",
    "    df_1 = df.sample(frac=0.1)   \n",
    "    return df_1.equals(x)"
   ]
  },
  {
   "cell_type": "code",
   "execution_count": 5,
   "metadata": {},
   "outputs": [],
   "source": [
    "def test_exercise57_3(x) -> bool:\n",
    "    import numpy as np \n",
    "    import pandas as pd \n",
    "    import matplotlib.pyplot as plt \n",
    "    df = pd.read_excel(\"../Sample - Superstore.xls\") \n",
    "    df_1 = df.sample(frac=0.1, replace=True)   \n",
    "    return df_1.equals(x)"
   ]
  }
 ],
 "metadata": {
  "kernelspec": {
   "display_name": "Python 3",
   "language": "python",
   "name": "python3"
  },
  "language_info": {
   "codemirror_mode": {
    "name": "ipython",
    "version": 3
   },
   "file_extension": ".py",
   "mimetype": "text/x-python",
   "name": "python",
   "nbconvert_exporter": "python",
   "pygments_lexer": "ipython3",
   "version": "3.7.3"
  }
 },
 "nbformat": 4,
 "nbformat_minor": 2
}
