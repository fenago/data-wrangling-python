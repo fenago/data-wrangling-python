{
 "cells": [
  {
   "cell_type": "code",
   "execution_count": 1,
   "metadata": {},
   "outputs": [],
   "source": [
    "def test_exercise_50_1(x) -> bool:\n",
    "    import numpy as np \n",
    "    return np.matrix('22,66,140;42,70,148;30,62,125;35,68,160;25,62,152') == x"
   ]
  },
  {
   "cell_type": "code",
   "execution_count": 3,
   "metadata": {},
   "outputs": [],
   "source": [
    "def test_exercise_50_1(x) -> bool:\n",
    "    return ['A','B','C','D','E'] == x"
   ]
  },
  {
   "cell_type": "code",
   "execution_count": 5,
   "metadata": {},
   "outputs": [],
   "source": [
    "def test_exercise_50_1(x) -> bool:\n",
    "    return ['Age', 'Height', 'Weight'] == x"
   ]
  },
  {
   "cell_type": "code",
   "execution_count": null,
   "metadata": {},
   "outputs": [],
   "source": [
    "def test_exercise_50_2(x) -> bool:\n",
    "    matrix_data = np.matrix('22,66,140;42,70,148;30,62,125;35,68,160;25,62,152') \n",
    "    row_labels = ['A','B','C','D','E'] \n",
    "    column_headings = ['Age', 'Height', 'Weight']\n",
    "    df1 = pd.DataFrame(data=matrix_data,  \n",
    "                   index=row_labels, \n",
    "                   columns=column_headings) \n",
    "    return df1.equals(x)"
   ]
  },
  {
   "cell_type": "code",
   "execution_count": null,
   "metadata": {},
   "outputs": [],
   "source": [
    "def test_exercise_50_3(x) -> bool:\n",
    "    matrix_data = np.matrix('22,66,140;42,70,148;30,62,125;35,68,160;25,62,152') \n",
    "    row_labels = ['A','B','C','D','E'] \n",
    "    column_headings = ['Age', 'Height', 'Weight']\n",
    "    df1 = pd.DataFrame(data=matrix_data,  \n",
    "                   index=row_labels, \n",
    "                   columns=column_headings) \n",
    "    df1 = df1.reset_index()\n",
    "    return df1.equals(x)"
   ]
  },
  {
   "cell_type": "code",
   "execution_count": 9,
   "metadata": {},
   "outputs": [],
   "source": [
    "def test_exercise_50_4(x) -> bool:\n",
    "    matrix_data = np.matrix('22,66,140;42,70,148;30,62,125;35,68,160;25,62,152') \n",
    "    row_labels = ['A','B','C','D','E'] \n",
    "    column_headings = ['Age', 'Height', 'Weight']\n",
    "    df1 = pd.DataFrame(data=matrix_data,  \n",
    "                   index=row_labels, \n",
    "                   columns=column_headings) \n",
    "    df1 = df1.reset_index(drop=True)\n",
    "    return df1.equals(x)"
   ]
  },
  {
   "cell_type": "code",
   "execution_count": 10,
   "metadata": {},
   "outputs": [],
   "source": [
    "def test_exercise_50_5(x) -> bool:\n",
    "    matrix_data = np.matrix('22,66,140;42,70,148;30,62,125;35,68,160;25,62,152') \n",
    "    row_labels = ['A','B','C','D','E'] \n",
    "    column_headings = ['Age', 'Height', 'Weight']\n",
    "    df1 = pd.DataFrame(data=matrix_data,  \n",
    "                   index=row_labels, \n",
    "                   columns=column_headings) \n",
    "    df1['Profession'] = \"Student Teacher Engineer Doctor Nurse\".split() \n",
    "    return df1.equals(x)"
   ]
  },
  {
   "cell_type": "code",
   "execution_count": 11,
   "metadata": {},
   "outputs": [],
   "source": [
    "def test_exercise_50_6(x) -> bool:\n",
    "    matrix_data = np.matrix('22,66,140;42,70,148;30,62,125;35,68,160;25,62,152') \n",
    "    row_labels = ['A','B','C','D','E'] \n",
    "    column_headings = ['Age', 'Height', 'Weight']\n",
    "    df1 = pd.DataFrame(data=matrix_data,  \n",
    "                   index=row_labels, \n",
    "                   columns=column_headings) \n",
    "    df1 = df1.set_index('Profession') \n",
    "    return df1.equals(x)"
   ]
  }
 ],
 "metadata": {
  "kernelspec": {
   "display_name": "Python 3",
   "language": "python",
   "name": "python3"
  },
  "language_info": {
   "codemirror_mode": {
    "name": "ipython",
    "version": 3
   },
   "file_extension": ".py",
   "mimetype": "text/x-python",
   "name": "python",
   "nbconvert_exporter": "python",
   "pygments_lexer": "ipython3",
   "version": "3.7.3"
  }
 },
 "nbformat": 4,
 "nbformat_minor": 2
}
