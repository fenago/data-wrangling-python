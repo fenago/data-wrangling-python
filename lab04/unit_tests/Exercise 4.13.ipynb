{
 "cells": [
  {
   "cell_type": "code",
   "execution_count": null,
   "metadata": {},
   "outputs": [],
   "source": [
    "def test_exercise_70_1(x) -> bool:\n",
    "    from bs4 import BeautifulSoup \n",
    "    import pandas as pd \n",
    "    fd = open(\"test.html\", \"r\")  \n",
    "    soup = BeautifulSoup(fd)\n",
    "    data = soup.findAll('tr')\n",
    "    return data == x"
   ]
  },
  {
   "cell_type": "code",
   "execution_count": null,
   "metadata": {},
   "outputs": [],
   "source": [
    "def test_exercise_70_2(x) -> bool:\n",
    "    from bs4 import BeautifulSoup \n",
    "    import pandas as pd \n",
    "    fd = open(\"test.html\", \"r\")  \n",
    "    soup = BeautifulSoup(fd)\n",
    "    data = soup.findAll('tr')\n",
    "    data_without_header = data[1:] \n",
    "    headers = data[0] \n",
    "    return headers == x"
   ]
  },
  {
   "cell_type": "code",
   "execution_count": null,
   "metadata": {},
   "outputs": [],
   "source": [
    "def test_exercise_70_3(x) -> bool:\n",
    "    from bs4 import BeautifulSoup \n",
    "    import pandas as pd \n",
    "    fd = open(\"test.html\", \"r\")  \n",
    "    soup = BeautifulSoup(fd)\n",
    "    data = soup.findAll('tr')\n",
    "    data_without_header = data[1:] \n",
    "    headers = data[0]\n",
    "    col_headers = [th.getText() for th in headers.findAll('th')] \n",
    "    return col_headers == x"
   ]
  },
  {
   "cell_type": "code",
   "execution_count": null,
   "metadata": {},
   "outputs": [],
   "source": [
    "def test_exercise_70_4(x) -> bool:\n",
    "    from bs4 import BeautifulSoup \n",
    "    import pandas as pd \n",
    "    fd = open(\"test.html\", \"r\")  \n",
    "    soup = BeautifulSoup(fd)\n",
    "    data = soup.findAll('tr')\n",
    "    data_without_header = data[1:] \n",
    "    headers = data[0]\n",
    "    df_data = [[td.getText() for td in tr.findAll('td')] for tr in data_without_header]  \n",
    "    return df_data == x"
   ]
  },
  {
   "cell_type": "code",
   "execution_count": null,
   "metadata": {},
   "outputs": [],
   "source": [
    "def test_exercise_70_5(x) -> bool:\n",
    "    from bs4 import BeautifulSoup \n",
    "    import pandas as pd \n",
    "    fd = open(\"test.html\", \"r\")  \n",
    "    soup = BeautifulSoup(fd)\n",
    "    data = soup.findAll('tr')\n",
    "    data_without_header = data[1:] \n",
    "    headers = data[0]\n",
    "    col_headers = [th.getText() for th in headers.findAll('th')] \n",
    "    df_data = [[td.getText() for td in tr.findAll('td')] for tr in data_without_header]  \n",
    "    df = pd.DataFrame(df_data, columns=col_headers) \n",
    "    return df.equals(x)"
   ]
  }
 ],
 "metadata": {
  "kernelspec": {
   "display_name": "Python 3",
   "language": "python",
   "name": "python3"
  },
  "language_info": {
   "codemirror_mode": {
    "name": "ipython",
    "version": 3
   },
   "file_extension": ".py",
   "mimetype": "text/x-python",
   "name": "python",
   "nbconvert_exporter": "python",
   "pygments_lexer": "ipython3",
   "version": "3.7.3"
  }
 },
 "nbformat": 4,
 "nbformat_minor": 2
}
