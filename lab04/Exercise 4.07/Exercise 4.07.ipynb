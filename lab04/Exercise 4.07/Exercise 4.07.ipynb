{
 "cells": [
  {
   "cell_type": "code",
   "execution_count": null,
   "metadata": {
    "scrolled": true
   },
   "outputs": [],
   "source": [
    "import numpy as np \n",
    "\n",
    "import pandas as pd \n",
    "\n",
    "import matplotlib.pyplot as plt \n",
    "\n",
    "df = pd.read_excel(\"../datasets/Sample - Superstore.xls\") \n",
    "\n",
    "df.head() "
   ]
  },
  {
   "cell_type": "code",
   "execution_count": null,
   "metadata": {},
   "outputs": [],
   "source": [
    "df_1 = df[['Customer Name','State','Sales','Profit']].sample(n=4) \n",
    "\n",
    "df_2 = df[['Customer Name','State','Sales','Profit']].sample(n=4) \n",
    "\n",
    "df_3 = df[['Customer Name','State','Sales','Profit']].sample(n=4) "
   ]
  },
  {
   "cell_type": "code",
   "execution_count": null,
   "metadata": {},
   "outputs": [],
   "source": [
    "df_cat1 = pd.concat([df_1,df_2,df_3], axis=0) \n",
    "\n",
    "df_cat1 "
   ]
  },
  {
   "cell_type": "code",
   "execution_count": null,
   "metadata": {},
   "outputs": [],
   "source": [
    "df_cat2 = pd.concat([df_1,df_2,df_3], axis=1) \n",
    "\n",
    "df_cat2 "
   ]
  }
 ],
 "metadata": {
  "kernelspec": {
   "display_name": "Python 3",
   "language": "python",
   "name": "python3"
  },
  "language_info": {
   "codemirror_mode": {
    "name": "ipython",
    "version": 3
   },
   "file_extension": ".py",
   "mimetype": "text/x-python",
   "name": "python",
   "nbconvert_exporter": "python",
   "pygments_lexer": "ipython3",
   "version": "3.8.6"
  }
 },
 "nbformat": 4,
 "nbformat_minor": 2
}
