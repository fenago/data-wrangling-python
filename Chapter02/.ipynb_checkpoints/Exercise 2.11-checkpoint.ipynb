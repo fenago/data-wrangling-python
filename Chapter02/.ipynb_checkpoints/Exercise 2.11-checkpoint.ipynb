{
 "cells": [
  {
   "cell_type": "markdown",
   "metadata": {},
   "source": [
    "1. Use the write function from the file descriptor object"
   ]
  },
  {
   "cell_type": "code",
   "execution_count": 11,
   "metadata": {},
   "outputs": [],
   "source": [
    "data_dict = {\"India\": \"Delhi\", \"France\": \"Paris\", \"UK\": \"London\", \n",
    "             \"USA\": \"Washington\"} \n",
    "\n",
    "with open(\"data_temporary_files.txt\", \"w\") as fd: \n",
    "    for country, capital in data_dict.items(): \n",
    "        fd.write(\"The capital of {} is {}\\n\".format( \n",
    "            country, capital)) "
   ]
  },
  {
   "cell_type": "markdown",
   "metadata": {},
   "source": [
    "2. Read the file using "
   ]
  },
  {
   "cell_type": "code",
   "execution_count": 12,
   "metadata": {},
   "outputs": [
    {
     "name": "stdout",
     "output_type": "stream",
     "text": [
      "The capital of India is Delhi\n",
      "\n",
      "The capital of France is Paris\n",
      "\n",
      "The capital of UK is London\n",
      "\n",
      "The capital of USA is Washington\n",
      "\n"
     ]
    }
   ],
   "source": [
    "with open(\"data_temporary_files.txt\", \"r\") as fd: \n",
    "    for line in fd: \n",
    "        print(line) "
   ]
  },
  {
   "cell_type": "markdown",
   "metadata": {},
   "source": [
    "3. Use the print function to write to a file"
   ]
  },
  {
   "cell_type": "code",
   "execution_count": 15,
   "metadata": {},
   "outputs": [],
   "source": [
    "data_dict_2 = {\"China\": \"Beijing\", \"Japan\": \"Tokyo\"} \n",
    "with open(\"data_temporary_files.txt\", \"a\") as fd: \n",
    "    for country, capital in data_dict_2.items(): \n",
    "        print(\"The capital of {} is {}\".format( \n",
    "            country, capital), file=fd) "
   ]
  },
  {
   "cell_type": "markdown",
   "metadata": {},
   "source": [
    "4. Read the file "
   ]
  },
  {
   "cell_type": "code",
   "execution_count": 14,
   "metadata": {},
   "outputs": [
    {
     "name": "stdout",
     "output_type": "stream",
     "text": [
      "The capital of India is Delhi\n",
      "\n",
      "The capital of France is Paris\n",
      "\n",
      "The capital of UK is London\n",
      "\n",
      "The capital of USA is Washington\n",
      "\n",
      "The capital of China is Beijing\n",
      "\n",
      "The capital of Japan is Tokyo\n",
      "\n"
     ]
    }
   ],
   "source": [
    "with open(\"data_temporary_files.txt\", \"r\") as fd: \n",
    "    for line in fd: \n",
    "        print(line) "
   ]
  }
 ],
 "metadata": {
  "kernelspec": {
   "display_name": "Python 3",
   "language": "python",
   "name": "python3"
  },
  "language_info": {
   "codemirror_mode": {
    "name": "ipython",
    "version": 3
   },
   "file_extension": ".py",
   "mimetype": "text/x-python",
   "name": "python",
   "nbconvert_exporter": "python",
   "pygments_lexer": "ipython3",
   "version": "3.7.3"
  }
 },
 "nbformat": 4,
 "nbformat_minor": 2
}
