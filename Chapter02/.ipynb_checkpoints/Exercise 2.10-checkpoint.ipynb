{
 "cells": [
  {
   "cell_type": "markdown",
   "metadata": {},
   "source": [
    "1. Open a file and then read the file line by line and print it as we read it"
   ]
  },
  {
   "cell_type": "code",
   "execution_count": 8,
   "metadata": {},
   "outputs": [],
   "source": [
    "with open(\"Alice's Adventures in Wonderland, by Lewis Carroll\", \n",
    "          encoding=\"utf8\") as fd: \n",
    "    for line in fd: \n",
    "            print(line) "
   ]
  },
  {
   "cell_type": "markdown",
   "metadata": {},
   "source": [
    "2. Duplicate the same for loop, just after the first one"
   ]
  },
  {
   "cell_type": "code",
   "execution_count": 10,
   "metadata": {},
   "outputs": [
    {
     "name": "stdout",
     "output_type": "stream",
     "text": [
      "Ended first loop\n"
     ]
    }
   ],
   "source": [
    "with open(\"Alice's Adventures in Wonderland, by Lewis Carroll\", \n",
    "          encoding=\"utf8\") as fd: \n",
    "    for line in fd: \n",
    "        print(line) \n",
    "    print(\"Ended first loop\") \n",
    "    for line in fd: \n",
    "        print(line) "
   ]
  }
 ],
 "metadata": {
  "kernelspec": {
   "display_name": "Python 3",
   "language": "python",
   "name": "python3"
  },
  "language_info": {
   "codemirror_mode": {
    "name": "ipython",
    "version": 3
   },
   "file_extension": ".py",
   "mimetype": "text/x-python",
   "name": "python",
   "nbconvert_exporter": "python",
   "pygments_lexer": "ipython3",
   "version": "3.7.3"
  }
 },
 "nbformat": 4,
 "nbformat_minor": 2
}
