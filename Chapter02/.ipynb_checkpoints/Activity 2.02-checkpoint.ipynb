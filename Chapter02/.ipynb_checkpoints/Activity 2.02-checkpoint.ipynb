{
 "cells": [
  {
   "cell_type": "code",
   "execution_count": 1,
   "metadata": {},
   "outputs": [],
   "source": [
    "from itertools import zip_longest  "
   ]
  },
  {
   "cell_type": "code",
   "execution_count": 2,
   "metadata": {},
   "outputs": [],
   "source": [
    "def return_dict_from_csv_line(header, line):\n",
    "    # Zip them\n",
    "    zipped_line = zip_longest(header, line, fillvalue=None)\n",
    "    # Use dict comprehension to generate the final dict\n",
    "    ret_dict = {kv[0]: kv[1] for kv in zipped_line}\n",
    "    return ret_dict  \n"
   ]
  },
  {
   "cell_type": "code",
   "execution_count": null,
   "metadata": {},
   "outputs": [],
   "source": [
    "open(\"sales_record.csv\", \"r\") as fd"
   ]
  },
  {
   "cell_type": "code",
   "execution_count": null,
   "metadata": {},
   "outputs": [],
   "source": [
    "first_line = fd.readline()\n",
    "    header = first_line.replace(\"\\n\", \"\").split(\",\")\n",
    "    for i, line in enumerate(fd):\n",
    "        line = line.replace(\"\\n\", \"\").split(\",\")\n",
    "        d = return_dict_from_csv_line(header, line)\n",
    "        print(d)\n",
    "        if i > 10:\n",
    "            break  \n"
   ]
  }
 ],
 "metadata": {
  "kernelspec": {
   "display_name": "Python 3",
   "language": "python",
   "name": "python3"
  },
  "language_info": {
   "codemirror_mode": {
    "name": "ipython",
    "version": 3
   },
   "file_extension": ".py",
   "mimetype": "text/x-python",
   "name": "python",
   "nbconvert_exporter": "python",
   "pygments_lexer": "ipython3",
   "version": "3.7.3"
  }
 },
 "nbformat": 4,
 "nbformat_minor": 2
}
