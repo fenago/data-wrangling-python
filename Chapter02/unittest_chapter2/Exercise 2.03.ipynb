{
 "cells": [
  {
   "cell_type": "code",
   "execution_count": null,
   "metadata": {},
   "outputs": [],
   "source": [
    "def test_exercise_17_1(x) -> bool:\n",
    "    return x == []"
   ]
  },
  {
   "cell_type": "code",
   "execution_count": null,
   "metadata": {},
   "outputs": [],
   "source": [
    "def test_exercise_17_2(x) -> bool:\n",
    "    wikipedia_datascience = \"\"\"Data science is an interdisciplinary \n",
    "    field that uses scientific methods, \n",
    "    processes, algorithms and systems to extract \n",
    "    knowledge [https://en.wikipedia.org/wiki/Knowledge] and i\n",
    "    nsights from data [https://en.wikipedia.org/wiki/Data] in various\n",
    "    forms, both structured and unstructured,similar to data mining \n",
    "    [https://en.wikipedia.org/wiki/Data_mining]\"\"\"\n",
    "    return x == wikipedia_datascience"
   ]
  },
  {
   "cell_type": "code",
   "execution_count": null,
   "metadata": {},
   "outputs": [],
   "source": [
    "def test_exercise_17_3(x) -> bool:\n",
    "    return x == 347"
   ]
  },
  {
   "cell_type": "code",
   "execution_count": null,
   "metadata": {},
   "outputs": [],
   "source": [
    "def test_exercise_17_4a(x) -> bool:\n",
    "    wikipedia_datascience = \"\"\"Data science is an interdisciplinary \n",
    "        field that uses scientific methods, \n",
    "        processes, algorithms and systems to extract \n",
    "        knowledge [https://en.wikipedia.org/wiki/Knowledge] and i\n",
    "        nsights from data [https://en.wikipedia.org/wiki/Data] in various\n",
    "        forms, both structured and unstructured,similar to data mining \n",
    "        [https://en.wikipedia.org/wiki/Data_mining]\"\"\"\n",
    "    wd_list = wikipedia_datascience.split()\n",
    "    return x == wd_list\n"
   ]
  },
  {
   "cell_type": "code",
   "execution_count": null,
   "metadata": {},
   "outputs": [],
   "source": [
    "def test_exercise_17_4b(x) -> bool:\n",
    "    return x == 34"
   ]
  },
  {
   "cell_type": "code",
   "execution_count": null,
   "metadata": {},
   "outputs": [],
   "source": [
    "def test_exercise_17_5(x) -> bool:\n",
    "    return x == [\"https://en.wikipedia.org/wiki/Data_mining\",\n",
    "                 \"https://en.wikipedia.org/wiki/Data\",\n",
    "                 \"https://en.wikipedia.org/wiki/Knowledge\"]"
   ]
  },
  {
   "cell_type": "code",
   "execution_count": null,
   "metadata": {},
   "outputs": [],
   "source": [
    "def test_exercise_17_8(x) -> bool:\n",
    "    return x == []"
   ]
  }
 ],
 "metadata": {
  "kernelspec": {
   "display_name": "Python 3",
   "language": "python",
   "name": "python3"
  },
  "language_info": {
   "codemirror_mode": {
    "name": "ipython",
    "version": 3
   },
   "file_extension": ".py",
   "mimetype": "text/x-python",
   "name": "python",
   "nbconvert_exporter": "python",
   "pygments_lexer": "ipython3",
   "version": "3.7.3"
  }
 },
 "nbformat": 4,
 "nbformat_minor": 2
}
