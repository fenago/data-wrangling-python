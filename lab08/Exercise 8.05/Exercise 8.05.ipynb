{
 "cells": [
  {
   "cell_type": "code",
   "execution_count": 2,
   "metadata": {},
   "outputs": [
    {
     "name": "stdout",
     "output_type": "stream",
     "text": [
      "('tom@web.com', 'Tom', 'Fake', '456 Fantasy lane, Fantasy City', 39, 'M')\n",
      "('shelly@www.com', 'Shelly', 'Milar', '123, Ocean View Lane', 39, 'F')\n",
      "('bob@example.com', 'Bob', 'Codd', '123 Fantasy lane, Fantasy City', 31, 'M')\n"
     ]
    }
   ],
   "source": [
    "import sqlite3\n",
    "with sqlite3.connect(\"../lesson.db\") as conn:\n",
    "    cursor = conn.cursor()\n",
    "    cursor.execute(\"INSERT INTO user VALUES ('shelly@www.com', 'Shelly', 'Milar', '123, Ocean View Lane', 39, 'F')\")\n",
    "    conn.commit()\n",
    "    cursor = conn.cursor()\n",
    "    rows = cursor.execute('SELECT * FROM user ORDER BY age DESC')\n",
    "    for row in rows:\n",
    "        print(row)\n",
    "   "
   ]
  },
  {
   "cell_type": "code",
   "execution_count": 3,
   "metadata": {},
   "outputs": [
    {
     "name": "stdout",
     "output_type": "stream",
     "text": [
      "(1, 'F')\n",
      "(2, 'M')\n"
     ]
    }
   ],
   "source": [
    "rows = cursor.execute(\"SELECT COUNT(*), gender FROM user GROUP BY gender\")\n",
    "for row in rows:\n",
    "        print(row)\n"
   ]
  },
  {
   "cell_type": "code",
   "execution_count": null,
   "metadata": {},
   "outputs": [],
   "source": []
  }
 ],
 "metadata": {
  "kernelspec": {
   "display_name": "Python 3",
   "language": "python",
   "name": "python3"
  },
  "language_info": {
   "codemirror_mode": {
    "name": "ipython",
    "version": 3
   },
   "file_extension": ".py",
   "mimetype": "text/x-python",
   "name": "python",
   "nbconvert_exporter": "python",
   "pygments_lexer": "ipython3",
   "version": "3.7.3"
  }
 },
 "nbformat": 4,
 "nbformat_minor": 2
}
