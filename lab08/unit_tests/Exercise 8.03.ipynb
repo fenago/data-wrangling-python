{
 "cells": [
  {
   "cell_type": "code",
   "execution_count": null,
   "metadata": {},
   "outputs": [],
   "source": [
    "def test_exercise_3_1(path_to_db,rows ) -> bool:\n",
    "    import sqlite3\n",
    "    import pandas as pd\n",
    "    with sqlite3.connect(path_to_db) as conn: \n",
    "        cursor = conn.cursor()\n",
    "        rows_test = cursor.execute('SELECT * FROM user ORDER BY age DESC;')\n",
    "    return rows_test == rows\n",
    "    \n",
    "    "
   ]
  },
  {
   "cell_type": "code",
   "execution_count": null,
   "metadata": {},
   "outputs": [],
   "source": [
    "def test_exercise_3_2(path_to_db,rows ) -> bool:\n",
    "    import sqlite3\n",
    "    import pandas as pd\n",
    "    with sqlite3.connect(path_to_db) as conn: \n",
    "        cursor = conn.cursor()\n",
    "        rows_test = cursor.execute('SELECT * FROM user ORDER BY age;')\n",
    "    return rows_test == rows"
   ]
  },
  {
   "cell_type": "code",
   "execution_count": null,
   "metadata": {},
   "outputs": [],
   "source": [
    "def test_exercise_3_3(path_to_db,rows ) -> bool:\n",
    "    import sqlite3\n",
    "    import pandas as pd\n",
    "    with sqlite3.connect(path_to_db) as conn: \n",
    "        cursor = conn.cursor()\n",
    "        rows_test = cursor.execute('SELECT * FROM user ORDER BY age;')\n",
    "    return rows_test == rows"
   ]
  }
 ],
 "metadata": {
  "kernelspec": {
   "display_name": "Python 3",
   "language": "python",
   "name": "python3"
  },
  "language_info": {
   "codemirror_mode": {
    "name": "ipython",
    "version": 3
   },
   "file_extension": ".py",
   "mimetype": "text/x-python",
   "name": "python",
   "nbconvert_exporter": "python",
   "pygments_lexer": "ipython3",
   "version": "3.7.3"
  }
 },
 "nbformat": 4,
 "nbformat_minor": 2
}
