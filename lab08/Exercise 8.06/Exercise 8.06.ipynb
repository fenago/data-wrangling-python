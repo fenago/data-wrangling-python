{
 "cells": [
  {
   "cell_type": "code",
   "execution_count": 1,
   "metadata": {},
   "outputs": [],
   "source": [
    "import sqlite3\n",
    "with sqlite3.connect(\"../lesson.db\") as conn:\n",
    "    cursor = conn.cursor()\n",
    "    cursor.execute(\"PRAGMA foreign_keys = 1\")\n",
    "    sql = \"\"\"\n",
    "        CREATE TABLE comments (\n",
    "            user_id text,\n",
    "            comments text,\n",
    "            FOREIGN KEY (user_id) REFERENCES user (email) \n",
    "            ON DELETE CASCADE ON UPDATE NO ACTION\n",
    "        )\n",
    "    \"\"\"\n",
    "    cursor.execute(sql)"
   ]
  },
  {
   "cell_type": "code",
   "execution_count": 3,
   "metadata": {},
   "outputs": [
    {
     "name": "stdout",
     "output_type": "stream",
     "text": [
      "Going to create rows for bob@example.com\n",
      "Going to create rows for tom@web.com\n",
      "Going to create rows for shelly@www.com\n"
     ]
    }
   ],
   "source": [
    "with sqlite3.connect(\"../lesson.db\") as conn:\n",
    "    cursor = conn.cursor()\n",
    "    cursor.execute(\"PRAGMA foreign_keys = 1\")\n",
    "    sql = \"INSERT INTO comments VALUES ('{}', '{}')\"\n",
    "    rows = cursor.execute('SELECT * FROM user ORDER BY age')\n",
    "    for row in rows:\n",
    "        email = row[0]\n",
    "        print(\"Going to create rows for {}\".format(email))\n",
    "        name = row[1] + \" \" + row[2]\n",
    "        for i in range(10):\n",
    "            comment = \"This is comment {} by {}\".format(i, name)\n",
    "            conn.cursor().execute(sql.format(email, comment))\n",
    "    conn.commit()"
   ]
  },
  {
   "cell_type": "code",
   "execution_count": null,
   "metadata": {},
   "outputs": [],
   "source": []
  },
  {
   "cell_type": "code",
   "execution_count": 4,
   "metadata": {},
   "outputs": [
    {
     "name": "stdout",
     "output_type": "stream",
     "text": [
      "('bob@example.com', 'This is comment 0 by Bob Codd', 'bob@example.com', 'Bob', 'Codd', '123 Fantasy lane, Fantasy City', 31, 'M')\n",
      "('bob@example.com', 'This is comment 1 by Bob Codd', 'bob@example.com', 'Bob', 'Codd', '123 Fantasy lane, Fantasy City', 31, 'M')\n",
      "('bob@example.com', 'This is comment 2 by Bob Codd', 'bob@example.com', 'Bob', 'Codd', '123 Fantasy lane, Fantasy City', 31, 'M')\n",
      "('bob@example.com', 'This is comment 3 by Bob Codd', 'bob@example.com', 'Bob', 'Codd', '123 Fantasy lane, Fantasy City', 31, 'M')\n",
      "('bob@example.com', 'This is comment 4 by Bob Codd', 'bob@example.com', 'Bob', 'Codd', '123 Fantasy lane, Fantasy City', 31, 'M')\n",
      "('bob@example.com', 'This is comment 5 by Bob Codd', 'bob@example.com', 'Bob', 'Codd', '123 Fantasy lane, Fantasy City', 31, 'M')\n",
      "('bob@example.com', 'This is comment 6 by Bob Codd', 'bob@example.com', 'Bob', 'Codd', '123 Fantasy lane, Fantasy City', 31, 'M')\n",
      "('bob@example.com', 'This is comment 7 by Bob Codd', 'bob@example.com', 'Bob', 'Codd', '123 Fantasy lane, Fantasy City', 31, 'M')\n",
      "('bob@example.com', 'This is comment 8 by Bob Codd', 'bob@example.com', 'Bob', 'Codd', '123 Fantasy lane, Fantasy City', 31, 'M')\n",
      "('bob@example.com', 'This is comment 9 by Bob Codd', 'bob@example.com', 'Bob', 'Codd', '123 Fantasy lane, Fantasy City', 31, 'M')\n"
     ]
    }
   ],
   "source": [
    "with sqlite3.connect(\"../lesson.db\") as conn:\n",
    "    cursor = conn.cursor()\n",
    "    cursor.execute(\"PRAGMA foreign_keys = 1\")\n",
    "    sql = \"\"\"\n",
    "        SELECT * FROM comments \n",
    "        JOIN user ON comments.user_id = user.email\n",
    "        WHERE user.email='bob@example.com'\n",
    "    \"\"\"\n",
    "    rows = cursor.execute(sql)\n",
    "    for row in rows:\n",
    "        print(row)"
   ]
  },
  {
   "cell_type": "code",
   "execution_count": 5,
   "metadata": {},
   "outputs": [
    {
     "name": "stdout",
     "output_type": "stream",
     "text": [
      "('bob@example.com', 'This is comment 0 by Bob Codd')\n",
      "('bob@example.com', 'This is comment 1 by Bob Codd')\n",
      "('bob@example.com', 'This is comment 2 by Bob Codd')\n",
      "('bob@example.com', 'This is comment 3 by Bob Codd')\n",
      "('bob@example.com', 'This is comment 4 by Bob Codd')\n",
      "('bob@example.com', 'This is comment 5 by Bob Codd')\n",
      "('bob@example.com', 'This is comment 6 by Bob Codd')\n",
      "('bob@example.com', 'This is comment 7 by Bob Codd')\n",
      "('bob@example.com', 'This is comment 8 by Bob Codd')\n",
      "('bob@example.com', 'This is comment 9 by Bob Codd')\n"
     ]
    }
   ],
   "source": [
    "with sqlite3.connect(\"../lesson.db\") as conn:\n",
    "    cursor = conn.cursor()\n",
    "    cursor.execute(\"PRAGMA foreign_keys = 1\")\n",
    "    sql = \"\"\"\n",
    "        SELECT comments.* FROM comments\n",
    "        JOIN user ON comments.user_id = user.email\n",
    "        WHERE user.email='bob@example.com'\n",
    "    \"\"\"\n",
    "    rows = cursor.execute(sql)\n",
    "    for row in rows:\n",
    "        print(row)"
   ]
  },
  {
   "cell_type": "code",
   "execution_count": 6,
   "metadata": {},
   "outputs": [],
   "source": [
    "with sqlite3.connect(\"../lesson.db\") as conn:\n",
    "    cursor = conn.cursor()\n",
    "    cursor.execute(\"PRAGMA foreign_keys = 1\")\n",
    "    cursor.execute(\"DELETE FROM user WHERE email='bob@example.com'\")\n",
    "    conn.commit()"
   ]
  },
  {
   "cell_type": "code",
   "execution_count": 7,
   "metadata": {},
   "outputs": [
    {
     "name": "stdout",
     "output_type": "stream",
     "text": [
      "('tom@web.com', 'Tom', 'Fake', '456 Fantasy lane, Fantasy City', 39, 'M')\n",
      "('shelly@www.com', 'Shelly', 'Milar', '123, Ocean View Lane', 39, 'F')\n"
     ]
    }
   ],
   "source": [
    "with sqlite3.connect(\"../lesson.db\") as conn:\n",
    "    cursor = conn.cursor()\n",
    "    cursor.execute(\"PRAGMA foreign_keys = 1\")\n",
    "    rows = cursor.execute(\"SELECT * FROM user\")\n",
    "    for row in rows:\n",
    "        print(row)"
   ]
  },
  {
   "cell_type": "code",
   "execution_count": 8,
   "metadata": {},
   "outputs": [
    {
     "name": "stdout",
     "output_type": "stream",
     "text": [
      "('tom@web.com', 'This is comment 0 by Tom Fake')\n",
      "('tom@web.com', 'This is comment 1 by Tom Fake')\n",
      "('tom@web.com', 'This is comment 2 by Tom Fake')\n",
      "('tom@web.com', 'This is comment 3 by Tom Fake')\n",
      "('tom@web.com', 'This is comment 4 by Tom Fake')\n",
      "('tom@web.com', 'This is comment 5 by Tom Fake')\n",
      "('tom@web.com', 'This is comment 6 by Tom Fake')\n",
      "('tom@web.com', 'This is comment 7 by Tom Fake')\n",
      "('tom@web.com', 'This is comment 8 by Tom Fake')\n",
      "('tom@web.com', 'This is comment 9 by Tom Fake')\n",
      "('shelly@www.com', 'This is comment 0 by Shelly Milar')\n",
      "('shelly@www.com', 'This is comment 1 by Shelly Milar')\n",
      "('shelly@www.com', 'This is comment 2 by Shelly Milar')\n",
      "('shelly@www.com', 'This is comment 3 by Shelly Milar')\n",
      "('shelly@www.com', 'This is comment 4 by Shelly Milar')\n",
      "('shelly@www.com', 'This is comment 5 by Shelly Milar')\n",
      "('shelly@www.com', 'This is comment 6 by Shelly Milar')\n",
      "('shelly@www.com', 'This is comment 7 by Shelly Milar')\n",
      "('shelly@www.com', 'This is comment 8 by Shelly Milar')\n",
      "('shelly@www.com', 'This is comment 9 by Shelly Milar')\n"
     ]
    }
   ],
   "source": [
    "with sqlite3.connect(\"../lesson.db\") as conn:\n",
    "    cursor = conn.cursor()\n",
    "    cursor.execute(\"PRAGMA foreign_keys = 1\")\n",
    "    rows = cursor.execute(\"SELECT * FROM comments\")\n",
    "    for row in rows:\n",
    "        print(row)"
   ]
  },
  {
   "cell_type": "code",
   "execution_count": null,
   "metadata": {},
   "outputs": [],
   "source": []
  }
 ],
 "metadata": {
  "kernelspec": {
   "display_name": "Python 3",
   "language": "python",
   "name": "python3"
  },
  "language_info": {
   "codemirror_mode": {
    "name": "ipython",
    "version": 3
   },
   "file_extension": ".py",
   "mimetype": "text/x-python",
   "name": "python",
   "nbconvert_exporter": "python",
   "pygments_lexer": "ipython3",
   "version": "3.7.3"
  }
 },
 "nbformat": 4,
 "nbformat_minor": 2
}
