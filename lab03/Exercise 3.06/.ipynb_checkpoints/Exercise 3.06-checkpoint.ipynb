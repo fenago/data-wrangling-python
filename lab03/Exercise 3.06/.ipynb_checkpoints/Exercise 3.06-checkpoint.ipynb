{
 "cells": [
  {
   "cell_type": "markdown",
   "metadata": {},
   "source": [
    "1. Load the numbers2.csv file and convert it into a two-dimensional NumPy array"
   ]
  },
  {
   "cell_type": "code",
   "execution_count": null,
   "metadata": {},
   "outputs": [],
   "source": [
    "import pandas as pd\n",
    "import numpy as np\n",
    "df = pd.read_csv(\"../datasets/numbers2.csv\",header=None) \n",
    "list_2D = df.values\n",
    "mat1 = np.array(list_2D) \n",
    "\n",
    "print(\"Type/Class of this object:\",type(mat1)) \n",
    "\n",
    "print(\"Here is the matrix\\n----------\\n\",mat1,\"\\n----------\")"
   ]
  },
  {
   "cell_type": "markdown",
   "metadata": {},
   "source": [
    "2. Tuples can be converted into multi-dimensional arrays"
   ]
  },
  {
   "cell_type": "code",
   "execution_count": null,
   "metadata": {},
   "outputs": [],
   "source": [
    "tuple_2D = np.array([(1.5,2,3), (4,5,6)]) \n",
    "\n",
    "mat_tuple = np.array(tuple_2D) \n",
    "\n",
    "print (mat_tuple)"
   ]
  },
  {
   "cell_type": "code",
   "execution_count": null,
   "metadata": {},
   "outputs": [],
   "source": []
  }
 ],
 "metadata": {
  "kernelspec": {
   "display_name": "Python 3",
   "language": "python",
   "name": "python3"
  },
  "language_info": {
   "codemirror_mode": {
    "name": "ipython",
    "version": 3
   },
   "file_extension": ".py",
   "mimetype": "text/x-python",
   "name": "python",
   "nbconvert_exporter": "python",
   "pygments_lexer": "ipython3",
   "version": "3.8.6"
  }
 },
 "nbformat": 4,
 "nbformat_minor": 2
}
