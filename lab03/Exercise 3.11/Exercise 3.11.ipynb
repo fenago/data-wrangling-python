{
 "cells": [
  {
   "cell_type": "code",
   "execution_count": 1,
   "metadata": {},
   "outputs": [
    {
     "name": "stdout",
     "output_type": "stream",
     "text": [
      "\n",
      "1st Matrix of random single-digit numbers\n",
      " [[9 5 2]\n",
      " [8 8 2]\n",
      " [2 6 7]]\n",
      "\n",
      "2nd Matrix of random single-digit numbers\n",
      " [[9 7 2]\n",
      " [8 2 9]\n",
      " [5 1 8]]\n"
     ]
    }
   ],
   "source": [
    "import numpy as np\n",
    "matrix_1 = np.random.randint(1,10,9).reshape(3,3)\n",
    "matrix_2 = np.random.randint(1,10,9).reshape(3,3)\n",
    "print(\"\\n1st Matrix of random single-digit numbers\\n\",matrix_1)\n",
    "print(\"\\n2nd Matrix of random single-digit numbers\\n\",matrix_2)\n"
   ]
  },
  {
   "cell_type": "code",
   "execution_count": 2,
   "metadata": {},
   "outputs": [
    {
     "name": "stdout",
     "output_type": "stream",
     "text": [
      "\n",
      "Addition\n",
      " [[18 12  4]\n",
      " [16 10 11]\n",
      " [ 7  7 15]]\n",
      "\n",
      "Multiplication\n",
      " [[81 35  4]\n",
      " [64 16 18]\n",
      " [10  6 56]]\n",
      "\n",
      "Division\n",
      " [[1.         0.71428571 1.        ]\n",
      " [1.         4.         0.22222222]\n",
      " [0.4        6.         0.875     ]]\n",
      "\n",
      "Linear combination: 3*A - 2*B\n",
      " [[  9   1   2]\n",
      " [  8  20 -12]\n",
      " [ -4  16   5]]\n"
     ]
    }
   ],
   "source": [
    "print(\"\\nAddition\\n\", matrix_1+matrix_2)\n",
    "print(\"\\nMultiplication\\n\", matrix_1*matrix_2)\n",
    "print(\"\\nDivision\\n\", matrix_1/matrix_2)\n",
    "print(\"\\nLinear combination: 3*A - 2*B\\n\", 3*matrix_1-2*matrix_2)\n"
   ]
  },
  {
   "cell_type": "code",
   "execution_count": 3,
   "metadata": {},
   "outputs": [
    {
     "name": "stdout",
     "output_type": "stream",
     "text": [
      "\n",
      "Addition of a scalar (100)\n",
      " [[109 105 102]\n",
      " [108 108 102]\n",
      " [102 106 107]]\n",
      "\n",
      "Exponentiation, matrix cubed here\n",
      " [[729 125   8]\n",
      " [512 512   8]\n",
      " [  8 216 343]]\n",
      "\n",
      "Exponentiation, square root using 'pow' function\n",
      " [[3.         2.23606798 1.41421356]\n",
      " [2.82842712 2.82842712 1.41421356]\n",
      " [1.41421356 2.44948974 2.64575131]]\n"
     ]
    }
   ],
   "source": [
    "print(\"\\nAddition of a scalar (100)\\n\", 100+matrix_1)\n",
    "\n",
    "print(\"\\nExponentiation, matrix cubed here\\n\", matrix_1**3)\n",
    "print(\"\\nExponentiation, square root using 'pow' function\\n\",pow(matrix_1,0.5))\n"
   ]
  },
  {
   "cell_type": "code",
   "execution_count": null,
   "metadata": {},
   "outputs": [],
   "source": []
  }
 ],
 "metadata": {
  "kernelspec": {
   "display_name": "Python 3",
   "language": "python",
   "name": "python3"
  },
  "language_info": {
   "codemirror_mode": {
    "name": "ipython",
    "version": 3
   },
   "file_extension": ".py",
   "mimetype": "text/x-python",
   "name": "python",
   "nbconvert_exporter": "python",
   "pygments_lexer": "ipython3",
   "version": "3.7.4"
  }
 },
 "nbformat": 4,
 "nbformat_minor": 2
}
