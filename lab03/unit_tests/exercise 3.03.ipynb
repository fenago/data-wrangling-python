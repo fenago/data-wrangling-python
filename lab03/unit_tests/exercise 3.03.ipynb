{
 "cells": [
  {
   "cell_type": "code",
   "execution_count": 4,
   "metadata": {},
   "outputs": [],
   "source": [
    "import numpy as np\n",
    "\n",
    "def test_exercise_28_1(x) -> bool:\n",
    "    return x == np.genfromtxt('../stock.csv', delimiter=',', names=True)"
   ]
  },
  {
   "cell_type": "code",
   "execution_count": 5,
   "metadata": {},
   "outputs": [],
   "source": [
    "import numpy as np\n",
    "\n",
    "def test_exercise_28_2(x) -> bool:\n",
    "    return x == (np.genfromtxt('../stock.csv', delimiter=',', names=True) * 45)"
   ]
  },
  {
   "cell_type": "code",
   "execution_count": 6,
   "metadata": {},
   "outputs": [],
   "source": [
    "import numpy as np\n",
    "\n",
    "def test_exercise_28_3(x) -> bool:\n",
    "    return x == (np.genfromtxt('../stock.csv', delimiter=',', names=True) / 67.7)"
   ]
  },
  {
   "cell_type": "code",
   "execution_count": 8,
   "metadata": {},
   "outputs": [],
   "source": [
    "import numpy as np\n",
    "\n",
    "def test_exercise_28_4(x) -> bool:\n",
    "    return x == (np.genfromtxt('../stock.csv', delimiter=',', names=True) **5)"
   ]
  }
 ],
 "metadata": {
  "kernelspec": {
   "display_name": "Python 3",
   "language": "python",
   "name": "python3"
  },
  "language_info": {
   "codemirror_mode": {
    "name": "ipython",
    "version": 3
   },
   "file_extension": ".py",
   "mimetype": "text/x-python",
   "name": "python",
   "nbconvert_exporter": "python",
   "pygments_lexer": "ipython3",
   "version": "3.7.3"
  }
 },
 "nbformat": 4,
 "nbformat_minor": 2
}
