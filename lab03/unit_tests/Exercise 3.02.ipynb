{
 "cells": [
  {
   "cell_type": "code",
   "execution_count": 2,
   "metadata": {},
   "outputs": [],
   "source": [
    "import numpy as np\n",
    "\n",
    "def test_exercise_27_2(x) -> bool:\n",
    "    list_1 = [1,2,3] \n",
    "    return x == np.array(list_1) "
   ]
  },
  {
   "cell_type": "code",
   "execution_count": 3,
   "metadata": {},
   "outputs": [],
   "source": [
    "def test_exercise_27_2(x) -> bool:\n",
    "    list_1 = [1,2,3] \n",
    "    return x == list_1 + list_1"
   ]
  },
  {
   "cell_type": "code",
   "execution_count": 4,
   "metadata": {},
   "outputs": [],
   "source": [
    "def test_exercise_27_3(x) -> bool:\n",
    "    list_1 = [1,2,3] \n",
    "    array_1 =  np.array(list_1)\n",
    "    return x == array_1 + array_1"
   ]
  },
  {
   "cell_type": "code",
   "execution_count": 7,
   "metadata": {},
   "outputs": [],
   "source": [
    "def test_exercise_27_4(x) -> bool:\n",
    "    data = np.genfromtxt('../numbers.csv', delimiter=',', names=True)\n",
    "    data = data.astype('float64')\n",
    "    return x == data + data\n"
   ]
  }
 ],
 "metadata": {
  "kernelspec": {
   "display_name": "Python 3",
   "language": "python",
   "name": "python3"
  },
  "language_info": {
   "codemirror_mode": {
    "name": "ipython",
    "version": 3
   },
   "file_extension": ".py",
   "mimetype": "text/x-python",
   "name": "python",
   "nbconvert_exporter": "python",
   "pygments_lexer": "ipython3",
   "version": "3.7.3"
  }
 },
 "nbformat": 4,
 "nbformat_minor": 2
}
