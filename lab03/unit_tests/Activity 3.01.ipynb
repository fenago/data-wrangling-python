{
 "cells": [
  {
   "cell_type": "code",
   "execution_count": null,
   "metadata": {},
   "outputs": [],
   "source": [
    "def test_exercise_1(x) -> bool:\n",
    "    import sys\n",
    "    if \"numpy\" in sys.modules:\n",
    "        return False\n",
    "    else:\n",
    "        return True"
   ]
  },
  {
   "cell_type": "code",
   "execution_count": null,
   "metadata": {},
   "outputs": [],
   "source": [
    "def test_exercise_1(x) -> bool:\n",
    "    import sys\n",
    "    if \"pandas\" in sys.modules:\n",
    "        return False\n",
    "    else:\n",
    "        return True"
   ]
  },
  {
   "cell_type": "code",
   "execution_count": null,
   "metadata": {},
   "outputs": [],
   "source": [
    "def test_exercise_1(x) -> bool:\n",
    "    import sys\n",
    "    if \"matplotlib\" in sys.modules:\n",
    "        return False\n",
    "    else:\n",
    "        return True"
   ]
  },
  {
   "cell_type": "code",
   "execution_count": 2,
   "metadata": {},
   "outputs": [],
   "source": [
    "def test_exercise_2(x) -> bool:\n",
    "    import pandas as pd\n",
    "    df=pd.read_csv(\"Boston_housing.csv\") \n",
    "    return df.equals(x)"
   ]
  },
  {
   "cell_type": "code",
   "execution_count": null,
   "metadata": {},
   "outputs": [],
   "source": [
    "def test_exercise_3(x) -> bool:\n",
    "    import pandas as pd\n",
    "    df=pd.read_csv(\"Boston_housing.csv\") \n",
    "    return df.head().equals(x)"
   ]
  },
  {
   "cell_type": "code",
   "execution_count": null,
   "metadata": {},
   "outputs": [],
   "source": [
    "def test_exercise_4(x) -> bool:\n",
    "    import pandas as pd\n",
    "    df=pd.read_csv(\"Boston_housing.csv\") \n",
    "    return df.shape == x"
   ]
  },
  {
   "cell_type": "code",
   "execution_count": null,
   "metadata": {},
   "outputs": [],
   "source": [
    "def test_exercise_5(x) -> bool:\n",
    "    import pandas as pd\n",
    "    df=pd.read_csv(\"Boston_housing.csv\")\n",
    "    df1=df[['CRIM','ZN','INDUS','RM','AGE','DIS', \n",
    "'RAD','TAX','PTRATIO','PRICE']]  \n",
    "    return df1.equals(x)"
   ]
  },
  {
   "cell_type": "code",
   "execution_count": null,
   "metadata": {},
   "outputs": [],
   "source": [
    "def test_exercise_5(x) -> bool:\n",
    "    import pandas as pd\n",
    "    df1=df[['CRIM','ZN','INDUS','RM','AGE','DIS', \n",
    "'RAD','TAX','PTRATIO','PRICE']]  \n",
    "    return df1.tails == x"
   ]
  },
  {
   "cell_type": "code",
   "execution_count": null,
   "metadata": {},
   "outputs": [],
   "source": [
    "def test_exercise_10(x) -> bool:\n",
    "    import pandas as pd\n",
    "    df1=df[['CRIM','ZN','INDUS','RM','AGE','DIS', \n",
    "'RAD','TAX','PTRATIO','PRICE']]  \n",
    "    return df1['RM'].mean()  == x"
   ]
  },
  {
   "cell_type": "code",
   "execution_count": null,
   "metadata": {},
   "outputs": [],
   "source": [
    "def test_exercise_11(x) -> bool:\n",
    "    import pandas as pd\n",
    "    df1=df[['CRIM','ZN','INDUS','RM','AGE','DIS', \n",
    "'RAD','TAX','PTRATIO','PRICE']]  \n",
    "    return df1['AGE'].median()  == x"
   ]
  },
  {
   "cell_type": "code",
   "execution_count": null,
   "metadata": {},
   "outputs": [],
   "source": [
    "def test_exercise_12(x) -> bool:\n",
    "    import pandas as pd\n",
    "    df1=df[['CRIM','ZN','INDUS','RM','AGE','DIS', \n",
    "'RAD','TAX','PTRATIO','PRICE']]  \n",
    "    return df1['DIS'].mean()   == x"
   ]
  }
 ],
 "metadata": {
  "kernelspec": {
   "display_name": "Python 3",
   "language": "python",
   "name": "python3"
  },
  "language_info": {
   "codemirror_mode": {
    "name": "ipython",
    "version": 3
   },
   "file_extension": ".py",
   "mimetype": "text/x-python",
   "name": "python",
   "nbconvert_exporter": "python",
   "pygments_lexer": "ipython3",
   "version": "3.7.3"
  }
 },
 "nbformat": 4,
 "nbformat_minor": 2
}
