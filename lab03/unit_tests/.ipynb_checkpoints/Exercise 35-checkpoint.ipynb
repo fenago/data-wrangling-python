{
 "cells": [
  {
   "cell_type": "code",
   "execution_count": 1,
   "metadata": {},
   "outputs": [],
   "source": [
    "import numpy as np\n",
    "def test_exercise_35_1(x) -> bool:\n",
    "    return x == np.arange(0,11)"
   ]
  },
  {
   "cell_type": "code",
   "execution_count": null,
   "metadata": {},
   "outputs": [],
   "source": [
    "import numpy as np\n",
    "def test_exercise_35_2(x) -> bool:\n",
    "    array_1 = np.arange(0,11) \n",
    "    return x == array_1[7]"
   ]
  },
  {
   "cell_type": "code",
   "execution_count": 5,
   "metadata": {},
   "outputs": [],
   "source": [
    "import numpy as np\n",
    "def test_exercise_35_3(x) -> bool:\n",
    "    array_1 = np.arange(0,11) \n",
    "    return x == array_1[3:6]"
   ]
  },
  {
   "cell_type": "code",
   "execution_count": 6,
   "metadata": {},
   "outputs": [],
   "source": [
    "import numpy as np\n",
    "def test_exercise_35_4(x) -> bool:\n",
    "    array_1 = np.arange(0,11) \n",
    "    return x == array_1[:4]"
   ]
  },
  {
   "cell_type": "code",
   "execution_count": null,
   "metadata": {},
   "outputs": [],
   "source": [
    "import numpy as np\n",
    "def test_exercise_35_5(x) -> bool:\n",
    "    array_1 = np.arange(0,11) \n",
    "    return x == array_1[-1::-1]"
   ]
  },
  {
   "cell_type": "code",
   "execution_count": null,
   "metadata": {},
   "outputs": [],
   "source": [
    "import numpy as np\n",
    "def test_exercise_35_6(x) -> bool:\n",
    "    array_1 = np.arange(0,11) \n",
    "    return x == array_1[-1:-6:-2]"
   ]
  },
  {
   "cell_type": "code",
   "execution_count": null,
   "metadata": {},
   "outputs": [],
   "source": [
    "import numpy as np\n",
    "def test_exercise_35_7(x) -> bool:\n",
    "    array_2 = np.arange(0,21,2)\n",
    "    return x == array_2"
   ]
  },
  {
   "cell_type": "code",
   "execution_count": null,
   "metadata": {},
   "outputs": [],
   "source": [
    "import numpy as np\n",
    "def test_exercise_35_8(x) -> bool:\n",
    "    array_2 = np.arange(0,21,2)\n",
    "    return x == array_2[[2,4,9]]"
   ]
  },
  {
   "cell_type": "code",
   "execution_count": null,
   "metadata": {},
   "outputs": [],
   "source": [
    "import numpy as np\n",
    "def test_exercise_35_9(x) -> bool:\n",
    "    matrix_1 = np.random.randint(10,100,15).reshape(3,5)  \n",
    "    return x == matrix_1"
   ]
  },
  {
   "cell_type": "code",
   "execution_count": null,
   "metadata": {},
   "outputs": [],
   "source": [
    "import numpy as np\n",
    "def test_exercise_35_10(x) -> bool:\n",
    "    matrix_1 = np.random.randint(10,100,15).reshape(3,5)  \n",
    "    return x == matrix_1[1][2]"
   ]
  },
  {
   "cell_type": "code",
   "execution_count": null,
   "metadata": {},
   "outputs": [],
   "source": [
    "import numpy as np\n",
    "def test_exercise_35_11(x) -> bool:\n",
    "    matrix_1 = np.random.randint(10,100,15).reshape(3,5)  \n",
    "    return x == matrix_1[1,2]"
   ]
  },
  {
   "cell_type": "code",
   "execution_count": null,
   "metadata": {},
   "outputs": [],
   "source": [
    "import numpy as np\n",
    "def test_exercise_35_12(x) -> bool:\n",
    "    matrix_1 = np.random.randint(10,100,15).reshape(3,5)  \n",
    "    return x == matrix_1[2]"
   ]
  },
  {
   "cell_type": "code",
   "execution_count": null,
   "metadata": {},
   "outputs": [],
   "source": [
    "import numpy as np\n",
    "def test_exercise_35_12(x) -> bool:\n",
    "    matrix_1 = np.random.randint(10,100,15).reshape(3,5)  \n",
    "    return x == matrix_1[:,3]"
   ]
  },
  {
   "cell_type": "code",
   "execution_count": null,
   "metadata": {},
   "outputs": [],
   "source": [
    "import numpy as np\n",
    "def test_exercise_35_13(x) -> bool:\n",
    "    matrix_1 = np.random.randint(10,100,15).reshape(3,5)  \n",
    "    return x == matrix_1[1:3,3:5]"
   ]
  },
  {
   "cell_type": "code",
   "execution_count": null,
   "metadata": {},
   "outputs": [],
   "source": [
    "import numpy as np\n",
    "def test_exercise_35_14(x) -> bool:\n",
    "    matrix_1 = np.random.randint(10,100,15).reshape(3,5)  \n",
    "    return x == matrix_1[0:2,[1,3]]"
   ]
  }
 ],
 "metadata": {
  "kernelspec": {
   "display_name": "Python 3",
   "language": "python",
   "name": "python3"
  },
  "language_info": {
   "codemirror_mode": {
    "name": "ipython",
    "version": 3
   },
   "file_extension": ".py",
   "mimetype": "text/x-python",
   "name": "python",
   "nbconvert_exporter": "python",
   "pygments_lexer": "ipython3",
   "version": "3.7.3"
  }
 },
 "nbformat": 4,
 "nbformat_minor": 2
}
