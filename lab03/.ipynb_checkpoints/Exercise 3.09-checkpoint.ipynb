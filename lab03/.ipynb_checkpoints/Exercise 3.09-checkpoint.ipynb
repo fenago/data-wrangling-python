{
 "cells": [
  {
   "cell_type": "markdown",
   "metadata": {},
   "source": [
    "1. Create an array of 30 random integers"
   ]
  },
  {
   "cell_type": "code",
   "execution_count": 1,
   "metadata": {},
   "outputs": [],
   "source": [
    "import numpy as np\n",
    "a = np.random.randint(1,100,30) \n",
    "\n",
    "b = a.reshape(2,3,5) \n",
    "\n",
    "c = a.reshape(6,5) "
   ]
  },
  {
   "cell_type": "markdown",
   "metadata": {},
   "source": [
    "2. Print the shape using the shape"
   ]
  },
  {
   "cell_type": "code",
   "execution_count": 2,
   "metadata": {},
   "outputs": [
    {
     "name": "stdout",
     "output_type": "stream",
     "text": [
      "Shape of a: (30,)\n",
      "Shape of b: (2, 3, 5)\n",
      "Shape of c: (6, 5)\n"
     ]
    }
   ],
   "source": [
    "print (\"Shape of a:\", a.shape) \n",
    "\n",
    "print (\"Shape of b:\", b.shape) \n",
    "\n",
    "print (\"Shape of c:\", c.shape) "
   ]
  },
  {
   "cell_type": "markdown",
   "metadata": {},
   "source": [
    "3. Print the arrays a, b, and c "
   ]
  },
  {
   "cell_type": "code",
   "execution_count": 3,
   "metadata": {},
   "outputs": [
    {
     "name": "stdout",
     "output_type": "stream",
     "text": [
      "\n",
      "a looks like\n",
      " [37 15 49 26 42 77 68 89  2 29 19 44 24  9 27 76 82 57  9 67 22 32 11 28\n",
      "  3 26 51 77 39  9]\n",
      "\n",
      "b looks like\n",
      " [[[37 15 49 26 42]\n",
      "  [77 68 89  2 29]\n",
      "  [19 44 24  9 27]]\n",
      "\n",
      " [[76 82 57  9 67]\n",
      "  [22 32 11 28  3]\n",
      "  [26 51 77 39  9]]]\n",
      "\n",
      "c looks like\n",
      " [[37 15 49 26 42]\n",
      " [77 68 89  2 29]\n",
      " [19 44 24  9 27]\n",
      " [76 82 57  9 67]\n",
      " [22 32 11 28  3]\n",
      " [26 51 77 39  9]]\n"
     ]
    }
   ],
   "source": [
    "print(\"\\na looks like\\n\",a) \n",
    "\n",
    "print(\"\\nb looks like\\n\",b) \n",
    "\n",
    "print(\"\\nc looks like\\n\",c) "
   ]
  },
  {
   "cell_type": "code",
   "execution_count": 4,
   "metadata": {},
   "outputs": [
    {
     "name": "stdout",
     "output_type": "stream",
     "text": [
      "[37 15 49 26 42 77 68 89  2 29 19 44 24  9 27 76 82 57  9 67 22 32 11 28\n",
      "  3 26 51 77 39  9]\n"
     ]
    }
   ],
   "source": [
    "b_flat = b.ravel()\n",
    "print(b_flat)\n"
   ]
  },
  {
   "cell_type": "code",
   "execution_count": null,
   "metadata": {},
   "outputs": [],
   "source": []
  }
 ],
 "metadata": {
  "kernelspec": {
   "display_name": "Python 3",
   "language": "python",
   "name": "python3"
  },
  "language_info": {
   "codemirror_mode": {
    "name": "ipython",
    "version": 3
   },
   "file_extension": ".py",
   "mimetype": "text/x-python",
   "name": "python",
   "nbconvert_exporter": "python",
   "pygments_lexer": "ipython3",
   "version": "3.7.3"
  }
 },
 "nbformat": 4,
 "nbformat_minor": 2
}
