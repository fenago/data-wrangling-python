{
 "cells": [
  {
   "cell_type": "code",
   "execution_count": null,
   "metadata": {},
   "outputs": [],
   "source": [
    "import numpy as np\n",
    "matrix_1 = np.random.randint(1,10,9).reshape(3,3)\n",
    "matrix_2 = np.random.randint(1,10,9).reshape(3,3)\n",
    "print(\"\\n1st Matrix of random single-digit numbers\\n\",matrix_1)\n",
    "print(\"\\n2nd Matrix of random single-digit numbers\\n\",matrix_2)\n"
   ]
  },
  {
   "cell_type": "code",
   "execution_count": null,
   "metadata": {},
   "outputs": [],
   "source": [
    "print(\"\\nAddition\\n\", matrix_1+matrix_2)\n",
    "print(\"\\nMultiplication\\n\", matrix_1*matrix_2)\n",
    "print(\"\\nDivision\\n\", matrix_1/matrix_2)\n",
    "print(\"\\nLinear combination: 3*A - 2*B\\n\", 3*matrix_1-2*matrix_2)\n"
   ]
  },
  {
   "cell_type": "code",
   "execution_count": null,
   "metadata": {},
   "outputs": [],
   "source": [
    "print(\"\\nAddition of a scalar (100)\\n\", 100+matrix_1)\n",
    "\n",
    "print(\"\\nExponentiation, matrix cubed here\\n\", matrix_1**3)\n",
    "print(\"\\nExponentiation, square root using 'pow' function\\n\",pow(matrix_1,0.5))\n"
   ]
  },
  {
   "cell_type": "code",
   "execution_count": null,
   "metadata": {},
   "outputs": [],
   "source": []
  }
 ],
 "metadata": {
  "kernelspec": {
   "display_name": "Python 3",
   "language": "python",
   "name": "python3"
  },
  "language_info": {
   "codemirror_mode": {
    "name": "ipython",
    "version": 3
   },
   "file_extension": ".py",
   "mimetype": "text/x-python",
   "name": "python",
   "nbconvert_exporter": "python",
   "pygments_lexer": "ipython3",
   "version": "3.7.3"
  }
 },
 "nbformat": 4,
 "nbformat_minor": 2
}
