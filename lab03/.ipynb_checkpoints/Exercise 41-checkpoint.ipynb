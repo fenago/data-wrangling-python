{
 "cells": [
  {
   "cell_type": "markdown",
   "metadata": {},
   "source": [
    "1. Create a new colum"
   ]
  },
  {
   "cell_type": "code",
   "execution_count": 6,
   "metadata": {},
   "outputs": [],
   "source": [
    "import pandas as pd"
   ]
  },
  {
   "cell_type": "code",
   "execution_count": 11,
   "metadata": {},
   "outputs": [
    {
     "data": {
      "text/html": [
       "<div>\n",
       "<style scoped>\n",
       "    .dataframe tbody tr th:only-of-type {\n",
       "        vertical-align: middle;\n",
       "    }\n",
       "\n",
       "    .dataframe tbody tr th {\n",
       "        vertical-align: top;\n",
       "    }\n",
       "\n",
       "    .dataframe thead th {\n",
       "        text-align: right;\n",
       "    }\n",
       "</style>\n",
       "<table border=\"1\" class=\"dataframe\">\n",
       "  <thead>\n",
       "    <tr style=\"text-align: right;\">\n",
       "      <th></th>\n",
       "      <th>Symbol</th>\n",
       "      <th>Price</th>\n",
       "    </tr>\n",
       "  </thead>\n",
       "  <tbody>\n",
       "    <tr>\n",
       "      <th>0</th>\n",
       "      <td>MMM</td>\n",
       "      <td>100</td>\n",
       "    </tr>\n",
       "    <tr>\n",
       "      <th>1</th>\n",
       "      <td>AOS</td>\n",
       "      <td>101</td>\n",
       "    </tr>\n",
       "    <tr>\n",
       "      <th>2</th>\n",
       "      <td>ABT</td>\n",
       "      <td>102</td>\n",
       "    </tr>\n",
       "    <tr>\n",
       "      <th>3</th>\n",
       "      <td>ABBV</td>\n",
       "      <td>103</td>\n",
       "    </tr>\n",
       "    <tr>\n",
       "      <th>4</th>\n",
       "      <td>ACN</td>\n",
       "      <td>104</td>\n",
       "    </tr>\n",
       "  </tbody>\n",
       "</table>\n",
       "</div>"
      ],
      "text/plain": [
       "  Symbol  Price\n",
       "0    MMM    100\n",
       "1    AOS    101\n",
       "2    ABT    102\n",
       "3   ABBV    103\n",
       "4    ACN    104"
      ]
     },
     "execution_count": 11,
     "metadata": {},
     "output_type": "execute_result"
    }
   ],
   "source": [
    "df = pd.read_csv(\"stock.csv\")\n",
    "df.head()"
   ]
  },
  {
   "cell_type": "code",
   "execution_count": 17,
   "metadata": {},
   "outputs": [
    {
     "name": "stdout",
     "output_type": "stream",
     "text": [
      "\n",
      "A column is created by assigning it in relation\n",
      "---------------------------------------------------------------------------\n",
      "   Symbol  Price  New  New (Sum of X and Z)\n",
      "0     MMM    100  200                   300\n",
      "1     AOS    101  202                   303\n",
      "2     ABT    102  204                   306\n",
      "3    ABBV    103  206                   309\n",
      "4     ACN    104  208                   312\n",
      "5    ATVI    105  210                   315\n",
      "6     AYI    106  212                   318\n",
      "7    ADBE    107  214                   321\n",
      "8     AAP    108  216                   324\n",
      "9     AMD    109  218                   327\n",
      "10    AES    110  220                   330\n",
      "11    AET    111  222                   333\n",
      "12    AMG    112  224                   336\n",
      "13    AFL    113  226                   339\n",
      "14      A    114  228                   342\n",
      "15    APD    115  230                   345\n",
      "16   AKAM    116  232                   348\n",
      "17    ALK    117  234                   351\n",
      "18    ALB    118  236                   354\n",
      "19    ARE    119  238                   357\n",
      "20   ALXN    120  240                   360\n",
      "21   ALGN    121  242                   363\n",
      "22   ALLE    122  244                   366\n",
      "23    AGN    123  246                   369\n",
      "24    ADS    124  248                   372\n",
      "25    LNT    125  250                   375\n",
      "26    ALL    126  252                   378\n",
      "27  GOOGL    127  254                   381\n",
      "28   GOOG    128  256                   384\n",
      "29     MO    129  258                   387\n",
      "30   AMZN    130  260                   390\n",
      "31    AEE    131  262                   393\n",
      "32    AAL    132  264                   396\n",
      "33    AEP    133  266                   399\n",
      "34    AXP    134  268                   402\n",
      "35    AIG    135  270                   405\n",
      "36    AMT    136  272                   408\n",
      "37    AWK    137  274                   411\n",
      "38    AMP    138  276                   414\n",
      "39    ABC    139  278                   417\n",
      "40    AME    140  280                   420\n",
      "41   AMGN    141  282                   423\n",
      "42    APH    142  284                   426\n",
      "43    APC    143  286                   429\n",
      "44    ADI    144  288                   432\n",
      "45   ANDV    145  290                   435\n",
      "46   ANSS    146  292                   438\n",
      "47   ANTM    147  294                   441\n",
      "48    AON    148  296                   444\n"
     ]
    }
   ],
   "source": [
    "print(\"\\nA column is created by assigning it in relation\\n\",'-'*75, sep='') \n",
    "\n",
    "df['New'] = df['Price'] + df['Price'] \n",
    "\n",
    "df['New (Sum of X and Z)'] = df['New'] + df['Price']\n",
    "\n",
    "print(df) "
   ]
  }
 ],
 "metadata": {
  "kernelspec": {
   "display_name": "Python 3",
   "language": "python",
   "name": "python3"
  },
  "language_info": {
   "codemirror_mode": {
    "name": "ipython",
    "version": 3
   },
   "file_extension": ".py",
   "mimetype": "text/x-python",
   "name": "python",
   "nbconvert_exporter": "python",
   "pygments_lexer": "ipython3",
   "version": "3.7.3"
  }
 },
 "nbformat": 4,
 "nbformat_minor": 2
}
