{
 "cells": [
  {
   "cell_type": "code",
   "execution_count": null,
   "metadata": {},
   "outputs": [],
   "source": [
    "import matplotlib.pyplot as plt\n",
    "import pandas as pd\n"
   ]
  },
  {
   "cell_type": "code",
   "execution_count": null,
   "metadata": {},
   "outputs": [],
   "source": [
    "people = ['Ann','Brandon','Chen','David','Emily','Farook',\n",
    "          'Gagan','Hamish','Imran','Joseph','Katherine','Lily']\n",
    "age = [21,12,32,45,37,18,28,52,5,40,48,15]\n",
    "weight = [55,35,77,68,70,60,72,69,18,65,82,48]\n",
    "height = [160,135,170,165,173,168,175,159,105,171,155,158]\n",
    "people_dict={'People':people,'Age':age,'Weight':weight,'Height':height}\n",
    "people_df=pd.DataFrame(data=people_dict)\n"
   ]
  },
  {
   "cell_type": "code",
   "execution_count": null,
   "metadata": {},
   "outputs": [],
   "source": [
    "people_df['Weight'].hist()\n",
    "plt.show()\n"
   ]
  },
  {
   "cell_type": "code",
   "execution_count": null,
   "metadata": {},
   "outputs": [],
   "source": [
    "people_df.plot.scatter('Weight','Height',s=150,\n",
    "c='orange',edgecolor='k')\n",
    "plt.grid(True)\n",
    "plt.title(\"Weight vs. Height scatter plot\",fontsize=18)\n",
    "plt.xlabel(\"Weight (in kg)\",fontsize=15)\n",
    "plt.ylabel(\"Height (in cm)\",fontsize=15)\n",
    "plt.show()\n"
   ]
  },
  {
   "cell_type": "code",
   "execution_count": null,
   "metadata": {},
   "outputs": [],
   "source": []
  }
 ],
 "metadata": {
  "kernelspec": {
   "display_name": "Python 3",
   "language": "python",
   "name": "python3"
  },
  "language_info": {
   "codemirror_mode": {
    "name": "ipython",
    "version": 3
   },
   "file_extension": ".py",
   "mimetype": "text/x-python",
   "name": "python",
   "nbconvert_exporter": "python",
   "pygments_lexer": "ipython3",
   "version": "3.7.3"
  }
 },
 "nbformat": 4,
 "nbformat_minor": 2
}
