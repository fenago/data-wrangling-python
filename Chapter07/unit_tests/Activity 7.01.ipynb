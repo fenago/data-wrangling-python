{
 "cells": [
  {
   "cell_type": "code",
   "execution_count": 1,
   "metadata": {},
   "outputs": [],
   "source": [
    "import urllib.request, urllib.parse, urllib.error\n",
    "import requests\n",
    "from bs4 import BeautifulSoup\n",
    "import ssl\n",
    "import re\n"
   ]
  },
  {
   "cell_type": "code",
   "execution_count": 2,
   "metadata": {},
   "outputs": [],
   "source": [
    "# Read the HTML from the URL and pass on to BeautifulSoup\n",
    "top100url = 'https://www.gutenberg.org/browse/scores/top'\n",
    "response = requests.get(top100url)\n"
   ]
  },
  {
   "cell_type": "code",
   "execution_count": 3,
   "metadata": {},
   "outputs": [],
   "source": [
    "def status_check(r):\n",
    "    if r.status_code==200:\n",
    "        print(\"Success!\")\n",
    "        return 1\n",
    "    else:\n",
    "        print(\"Failed!\")\n",
    "        return -1\n"
   ]
  },
  {
   "cell_type": "code",
   "execution_count": 4,
   "metadata": {},
   "outputs": [
    {
     "name": "stdout",
     "output_type": "stream",
     "text": [
      "Success!\n"
     ]
    },
    {
     "data": {
      "text/plain": [
       "1"
      ]
     },
     "execution_count": 4,
     "metadata": {},
     "output_type": "execute_result"
    }
   ],
   "source": [
    "status_check(response)"
   ]
  },
  {
   "cell_type": "code",
   "execution_count": 5,
   "metadata": {},
   "outputs": [],
   "source": [
    "contents = response.content.decode(response.encoding)\n",
    "soup = BeautifulSoup(contents, 'html.parser')\n"
   ]
  },
  {
   "cell_type": "code",
   "execution_count": 6,
   "metadata": {},
   "outputs": [],
   "source": [
    "# Empty list to hold all the http links in the HTML page\n",
    "lst_links=[]\n",
    "# Find all the href tags and store them in the list of links\n",
    "for link in soup.find_all('a'):\n",
    "    #print(link.get('href'))\n",
    "    lst_links.append(link.get('href'))\n"
   ]
  },
  {
   "cell_type": "code",
   "execution_count": 7,
   "metadata": {},
   "outputs": [
    {
     "data": {
      "text/plain": [
       "['/wiki/Main_Page',\n",
       " '/catalog/',\n",
       " '/ebooks/',\n",
       " '/browse/recent/last1',\n",
       " '/browse/scores/top',\n",
       " '/wiki/Gutenberg:Offline_Catalogs',\n",
       " '/catalog/world/mybookmarks',\n",
       " '/wiki/Main_Page',\n",
       " 'https://www.paypal.com/xclick/business=donate%40gutenberg.org&item_name=Donation+to+Project+Gutenberg',\n",
       " '/wiki/Gutenberg:Project_Gutenberg_Needs_Your_Donation',\n",
       " 'http://www.ibiblio.org',\n",
       " 'http://www.pgdp.net/',\n",
       " 'pretty-pictures',\n",
       " '#books-last1',\n",
       " '#authors-last1',\n",
       " '#books-last7',\n",
       " '#authors-last7',\n",
       " '#books-last30',\n",
       " '#authors-last30',\n",
       " '/ebooks/376',\n",
       " '/ebooks/1342',\n",
       " '/ebooks/1064',\n",
       " '/ebooks/23700',\n",
       " '/ebooks/1635',\n",
       " '/ebooks/11',\n",
       " '/ebooks/25525',\n",
       " '/ebooks/514',\n",
       " '/ebooks/84',\n",
       " '/ebooks/1661',\n",
       " '/ebooks/2701']"
      ]
     },
     "execution_count": 7,
     "metadata": {},
     "output_type": "execute_result"
    }
   ],
   "source": [
    "lst_links[:30]"
   ]
  },
  {
   "cell_type": "code",
   "execution_count": 9,
   "metadata": {},
   "outputs": [],
   "source": [
    "booknum = []"
   ]
  },
  {
   "cell_type": "code",
   "execution_count": 10,
   "metadata": {},
   "outputs": [],
   "source": [
    "for i in range(19,119):\n",
    "    link=lst_links[i]\n",
    "    link=link.strip()\n",
    "    # Regular expression to find the numeric digits in the link (href) string\n",
    "    n=re.findall('[0-9]+',link)\n",
    "    if len(n)==1:\n",
    "        # Append the filenumber casted as integer\n",
    "        booknum.append(int(n[0]))\n"
   ]
  },
  {
   "cell_type": "code",
   "execution_count": 11,
   "metadata": {},
   "outputs": [
    {
     "name": "stdout",
     "output_type": "stream",
     "text": [
      "\n",
      "The file numbers for the top 100 ebooks on Gutenberg are shown below\n",
      "----------------------------------------------------------------------\n",
      "[376, 1342, 1064, 23700, 1635, 11, 25525, 514, 84, 1661, 2701, 158, 1080, 98, 1228, 844, 58975, 2542, 219, 4300, 215, 345, 174, 43, 205, 2600, 16, 61609, 5200, 120, 36, 76, 57490, 16328, 1184, 2591, 1952, 61620, 1400, 46, 74, 61607, 1232, 28860, 5740, 27827, 28054, 18247, 1260, 160, 2852, 45, 2554, 2814, 135, 1497, 61614, 768, 61611, 996, 61603, 61616, 2500, 25344, 203, 1998, 61612, 161, 4363, 244, 113, 61605, 61619, 408, 3600, 1399, 61600, 3825, 3207, 58585, 61608, 863, 829, 147, 55, 1250, 236, 20239, 2680, 730, 6130, 44082, 8800, 100, 21970, 521, 41, 27816, 42962, 35]\n"
     ]
    }
   ],
   "source": [
    "print (\"\\nThe file numbers for the top 100 ebooks on Gutenberg are shown below\\n\"+\"-\"*70)\n",
    "print(booknum)\n"
   ]
  },
  {
   "cell_type": "code",
   "execution_count": 12,
   "metadata": {},
   "outputs": [
    {
     "name": "stdout",
     "output_type": "stream",
     "text": [
      "\n",
      "\n",
      "\n",
      "\n",
      "\n",
      "\n",
      "\n",
      "\n",
      "\n",
      "      if (top != self) {\n",
      "        top.location.replace ('http://www.gutenberg.org');\n",
      "        alert ('Project Gutenberg is a FREE service with NO membership required. If you paid somebody else to get here, make them give you your money back!');\n",
      "      }\n",
      "    \n",
      " \n",
      "Top 100 - Project Gutenberg\n",
      "\n",
      "\n",
      "\n",
      "\n",
      "\n",
      "\n",
      "\n",
      "\n",
      "Online Book Catalog\n",
      "=> \n",
      "\n",
      "\n",
      "\n",
      " Book  Search\n",
      "-- Recent  Books\n",
      "-- Top  100\n",
      "-- Offline Catalogs\n",
      "-- My Bookmarks\n",
      "\n",
      "\n",
      "Main Page\n",
      "\n",
      "\n",
      "\n",
      "\n",
      "Project Gutenberg needs your donation! \n",
      "        More Info\n",
      "\n",
      "\n",
      "\n",
      "\n",
      "\n",
      "\n",
      "\n",
      "\n",
      "Did you know that you can help us produce ebooks\n",
      "by proof-reading just one page a day?\n",
      "Go to: Distributed Proofreaders\n",
      "\n",
      "\n",
      "\n",
      "Top 100\n",
      "\n",
      "\n",
      "To determine the ranking we count the times each file gets downloaded.\n",
      "Both HTTP and FTP transfers are counted.\n",
      "Only transfers from ibiblio.org are counted as we have no access to our mirrors log files.\n",
      "Multiple downloads from the same IP address on the same day count as one download.\n",
      "IP addresses that download more than 100 files a day are considered\n",
      "robots and are not considered.\n",
      "Books made out of multiple files like most audio books are counted\n",
      "if any file is downloaded.\n",
      "\n",
      "Downloaded Books\n",
      "2020-03-14163369\n",
      "last 7 days1273956\n",
      "last 30 days5633127\n",
      "\n",
      "Pretty Pictures\n",
      "\n",
      "Top 100 EBooks yesterday —\n",
      "  Top 100 Authors yesterday —\n",
      "  Top 100 EBooks last 7 days —\n",
      "  Top 100 Authors last 7 days —\n",
      "  Top 100 EBooks last 30 days —\n",
      "  Top 100 Authors last 30 days\n",
      "\n",
      "Top 100 EBooks yesterday\n",
      "\n",
      "A Journal of the Plague Year by Daniel Defoe (1887)\n",
      "Pride and Prejudice by Jane Austen (1526)\n",
      "The Masque of the Red Death by Edgar Allan Poe (1466)\n",
      "The Decameron of Giovanni Boccaccio by Giovanni Boccaccio (883)\n",
      "Ion by Plato (823)\n",
      "Alice's Adventures in Wonderland by Lewis Carroll (776)\n",
      "The Works of Edgar Allan Poe, The Raven Edition by Edgar Allan Poe (672)\n",
      "Little Women by Louisa May Alcott (586)\n",
      "Frankenstein; Or, The Modern Prometheus by Mary Wollstonecraft Shelley (565)\n",
      "The Adventures of Sherlock Holmes by Arthur Conan Doyle (560)\n",
      "Moby Dick; Or, The Whale by Herman Melville (547)\n",
      "Emma by\n"
     ]
    }
   ],
   "source": [
    "print(soup.text[:2000])\n",
    "\n"
   ]
  },
  {
   "cell_type": "code",
   "execution_count": 13,
   "metadata": {},
   "outputs": [],
   "source": [
    "# Temp empty list of Ebook names\n",
    "lst_titles_temp=[]\n"
   ]
  },
  {
   "cell_type": "code",
   "execution_count": 14,
   "metadata": {},
   "outputs": [],
   "source": [
    "start_idx=soup.text.splitlines().index('Top 100 EBooks yesterday')"
   ]
  },
  {
   "cell_type": "code",
   "execution_count": 15,
   "metadata": {},
   "outputs": [],
   "source": [
    "for i in range(100):\n",
    "    lst_titles_temp.append(soup.text.splitlines()[start_idx+2+i])\n"
   ]
  },
  {
   "cell_type": "code",
   "execution_count": 16,
   "metadata": {},
   "outputs": [],
   "source": [
    "lst_titles=[]\n",
    "for i in range(100):\n",
    "    id1,id2=re.match('^[a-zA-Z ]*',lst_titles_temp[i]).span()\n",
    "    lst_titles.append(lst_titles_temp[i][id1:id2])\n"
   ]
  },
  {
   "cell_type": "code",
   "execution_count": 17,
   "metadata": {},
   "outputs": [
    {
     "name": "stdout",
     "output_type": "stream",
     "text": [
      "Pride and Prejudice by Jane Austen \n",
      "The Works of Edgar Allan Poe\n",
      "Ion by Plato \n",
      "Frankenstein\n",
      "A Modest Proposal by Jonathan Swift \n",
      "Alice\n",
      "Et dukkehjem\n",
      "A Tale of Two Cities by Charles Dickens \n",
      "The Importance of Being Earnest\n",
      "Emma by Jane Austen \n",
      "Little Women by Louisa May Alcott \n",
      "The History of Modern Painting\n",
      "Moby Dick\n",
      "Peter Pan by J\n",
      "The Adventures of Sherlock Holmes by Arthur Conan Doyle \n",
      "The Yellow Wallpaper by Charlotte Perkins Gilman \n",
      "Index of Project Gutenberg Works on Black History by Various \n",
      "The Call of the Wild by Jack London \n",
      "Beowulf\n",
      "Walden\n",
      "Adventures of Huckleberry Finn by Mark Twain \n",
      "Heart of Darkness by Joseph Conrad \n",
      "Metamorphosis by Franz Kafka \n",
      "The Strange Case of Dr\n",
      "Jane Eyre\n",
      "Il Principe\n",
      "Dracula by Bram Stoker \n",
      "Great Expectations by Charles Dickens \n",
      "A Journal of the Plague Year by Daniel Defoe \n",
      "The Picture of Dorian Gray by Oscar Wilde \n",
      "Ulysses by James Joyce \n",
      "The Awakening\n",
      "General History Of Civilisation In Europe\n",
      "Grimms\n",
      "War and Peace by graf Leo Tolstoy \n",
      "A Christmas Carol in Prose\n",
      "The Count of Monte Cristo\n",
      "The Scarlet Letter by Nathaniel Hawthorne \n",
      "The Adventures of Tom Sawyer by Mark Twain \n",
      "When They Were Girls by Rebecca Deming Moore \n",
      "The Souls of Black Folk by W\n",
      "Tractatus Logico\n",
      "Noli Me Tangere by Jos\n",
      "Second Treatise of Government by John Locke \n",
      "The Republic by Plato \n",
      "The Hound of the Baskervilles by Arthur Conan Doyle \n",
      "The Brothers Karamazov by Fyodor Dostoyevsky \n",
      "Wuthering Heights by Emily Bront\n",
      "The War of the Worlds by H\n",
      "Treasure Island by Robert Louis Stevenson \n",
      "Leviathan by Thomas Hobbes \n",
      "The Kama Sutra of Vatsyayana by Vatsyayana \n",
      "Pygmalion by Bernard Shaw \n",
      "Anne of Green Gables by L\n",
      "Les Mis\n",
      "Anthem by Ayn Rand \n",
      "La perfecta casada by Fray Luis de Le\n",
      "Essays of Michel de Montaigne \n",
      "Selenium cells by Thomas William Benson \n",
      "Index of the Project Gutenberg Works of H\n",
      "Dubliners by James Joyce \n",
      "Prestuplenie i nakazanie\n",
      "Uncle Tom\n",
      "Don Quixote by Miguel de Cervantes Saavedra \n",
      "The Wonderful Wizard of Oz by L\n",
      "A Study in Scarlet by Arthur Conan Doyle \n",
      "The Memoirs\n",
      "Narrative of the Life of Frederick Douglass\n",
      "Beyond Good and Evil by Friedrich Wilhelm Nietzsche \n",
      "Also sprach Zarathustra\n",
      "The Prophet by Kahlil Gibran \n",
      "Siddhartha by Hermann Hesse \n",
      "The Iliad by Homer \n",
      "The Legend of Sleepy Hollow by Washington Irving \n",
      "Stonehenge\n",
      "Songs of Innocence\n",
      "The Jungle by Upton Sinclair \n",
      "The Decameron of Giovanni Boccaccio by Giovanni Boccaccio \n",
      "Gulliver\n",
      "David Copperfield by Charles Dickens \n",
      "Oliver Twist by Charles Dickens \n",
      "Incidents in the Life of a Slave Girl\n",
      "Divine Comedy\n",
      "Candide by Voltaire \n",
      "Meditations by Emperor of Rome Marcus Aurelius \n",
      "The Secret Garden by Frances Hodgson Burnett \n",
      "The Masque of the Red Death by Edgar Allan Poe \n",
      "An Index of The Divine Comedy by Dante by Dante Alighieri \n",
      "The Problems of Philosophy by Bertrand Russell \n",
      "Ang \n",
      "The Slang Dictionary\n",
      "Autobiography of Benjamin Franklin by Benjamin Franklin \n",
      "El Filibusterismo\n",
      "The Life and Adventures of Robinson Crusoe by Daniel Defoe \n",
      "Sense and Sensibility by Jane Austen \n",
      "The Sins of the Cities of the Plain\n",
      "The Jungle Book by Rudyard Kipling \n",
      "The Complete Works of William Shakespeare by William Shakespeare \n",
      "An Occurrence at Owl Creek Bridge by Ambrose Bierce \n",
      "Common Sense by Thomas Paine \n"
     ]
    }
   ],
   "source": [
    "for l in lst_titles:\n",
    "    print(l)\n"
   ]
  },
  {
   "cell_type": "code",
   "execution_count": null,
   "metadata": {},
   "outputs": [],
   "source": []
  }
 ],
 "metadata": {
  "kernelspec": {
   "display_name": "Python 3",
   "language": "python",
   "name": "python3"
  },
  "language_info": {
   "codemirror_mode": {
    "name": "ipython",
    "version": 3
   },
   "file_extension": ".py",
   "mimetype": "text/x-python",
   "name": "python",
   "nbconvert_exporter": "python",
   "pygments_lexer": "ipython3",
   "version": "3.7.3"
  }
 },
 "nbformat": 4,
 "nbformat_minor": 2
}
