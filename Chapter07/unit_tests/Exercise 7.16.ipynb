{
 "cells": [
  {
   "cell_type": "code",
   "execution_count": null,
   "metadata": {},
   "outputs": [],
   "source": [
    "def test_exercise_100_1a(x) -> bool:\n",
    "    prog = re.compile(r'py.') \n",
    "    return prog.search('pygmy').group() == x"
   ]
  },
  {
   "cell_type": "code",
   "execution_count": null,
   "metadata": {},
   "outputs": [],
   "source": [
    "def test_exercise_100_1b(x) -> bool:\n",
    "    prog = re.compile(r'py.') \n",
    "    return prog.search('Jupyter').group() == x"
   ]
  },
  {
   "cell_type": "code",
   "execution_count": null,
   "metadata": {},
   "outputs": [],
   "source": [
    "def test_exercise_100_2a(x) -> bool:\n",
    "    prog = re.compile(r'c\\wm') \n",
    "    return prog.search('comedy').group() == x"
   ]
  },
  {
   "cell_type": "code",
   "execution_count": null,
   "metadata": {},
   "outputs": [],
   "source": [
    "def test_exercise_100_2b(x) -> bool:\n",
    "    prog = re.compile(r'c\\wm') \n",
    "    return prog.search('camera').group() == x"
   ]
  },
  {
   "cell_type": "code",
   "execution_count": null,
   "metadata": {},
   "outputs": [],
   "source": [
    "def test_exercise_100_2c(x) -> bool:\n",
    "    prog = re.compile(r'c\\wm') \n",
    "    return prog.search('pac_man').group() == x"
   ]
  },
  {
   "cell_type": "code",
   "execution_count": null,
   "metadata": {},
   "outputs": [],
   "source": [
    "def test_exercise_100_2d(x) -> bool:\n",
    "    prog = re.compile(r'c\\wm') \n",
    "    return prog.search('pac2man').group() == x"
   ]
  },
  {
   "cell_type": "code",
   "execution_count": null,
   "metadata": {},
   "outputs": [],
   "source": [
    "def test_exercise_100_2e(x) -> bool:\n",
    "    prog = re.compile(r'c\\wm') \n",
    "    return prog.search('pac2man').group() == x"
   ]
  },
  {
   "cell_type": "code",
   "execution_count": null,
   "metadata": {},
   "outputs": [],
   "source": [
    "def test_exercise_100_3a(x) -> bool:\n",
    "    prog = re.compile(r'4\\W1')  \n",
    "    return prog.search('4/1 was a wonderful day!').group() == x"
   ]
  },
  {
   "cell_type": "code",
   "execution_count": null,
   "metadata": {},
   "outputs": [],
   "source": [
    "def test_exercise_100_3b(x) -> bool:\n",
    "    prog = re.compile(r'4\\W1')  \n",
    "    return prog.search('4-1 was a wonderful day!').group() == x"
   ]
  },
  {
   "cell_type": "code",
   "execution_count": null,
   "metadata": {},
   "outputs": [],
   "source": [
    "def test_exercise_100_3c(x) -> bool:\n",
    "    prog = re.compile(r'4\\W1')  \n",
    "    return prog.search('4.1 was a wonderful day!').group() == x"
   ]
  },
  {
   "cell_type": "code",
   "execution_count": null,
   "metadata": {},
   "outputs": [],
   "source": [
    "def test_exercise_100_3d(x) -> bool:\n",
    "    prog = re.compile(r'4\\W1')  \n",
    "    return prog.search('Remember the wonderful day 04/1?').group() == x"
   ]
  },
  {
   "cell_type": "code",
   "execution_count": null,
   "metadata": {},
   "outputs": [],
   "source": [
    "def test_exercise_100_3d(x) -> bool:\n",
    "    prog = re.compile(r'4\\W1')  \n",
    "    return prog.search('Remember the wonderful day 04/1?').group() == x"
   ]
  },
  {
   "cell_type": "code",
   "execution_count": null,
   "metadata": {},
   "outputs": [],
   "source": [
    "def test_exercise_100_4(x) -> bool:\n",
    "    prog = re.compile(r'Data\\swrangling') \n",
    "    return prog.search(\"Data wrangling is cool\").group() == x"
   ]
  },
  {
   "cell_type": "code",
   "execution_count": null,
   "metadata": {},
   "outputs": [],
   "source": [
    "def test_exercise_100_5a(x) -> bool:\n",
    "    prog = re.compile(r\"score was \\d\\d\") \n",
    "    return prog.search(\"My score was 67\").group() == x"
   ]
  },
  {
   "cell_type": "code",
   "execution_count": null,
   "metadata": {},
   "outputs": [],
   "source": [
    "def test_exercise_100_5b(x) -> bool:\n",
    "    prog = re.compile(r\"score was \\d\\d\") \n",
    "    return prog.search(\"Your score was 73\").group() == x"
   ]
  }
 ],
 "metadata": {
  "kernelspec": {
   "display_name": "Python 3",
   "language": "python",
   "name": "python3"
  },
  "language_info": {
   "codemirror_mode": {
    "name": "ipython",
    "version": 3
   },
   "file_extension": ".py",
   "mimetype": "text/x-python",
   "name": "python",
   "nbconvert_exporter": "python",
   "pygments_lexer": "ipython3",
   "version": "3.7.3"
  }
 },
 "nbformat": 4,
 "nbformat_minor": 2
}
