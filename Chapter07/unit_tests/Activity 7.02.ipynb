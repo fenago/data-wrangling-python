{
 "cells": [
  {
   "cell_type": "code",
   "execution_count": null,
   "metadata": {},
   "outputs": [],
   "source": [
    "def test_exercise_1(x) -> bool:\n",
    "    import sys\n",
    "    if \"json\" in sys.modules:\n",
    "        return False\n",
    "    else:\n",
    "        return True"
   ]
  },
  {
   "cell_type": "code",
   "execution_count": null,
   "metadata": {},
   "outputs": [],
   "source": [
    "def test_exercise_2(x) -> bool:\n",
    "    import urllib.request, urllib.parse, urllib.error \n",
    "    import json \n",
    "    with open('APIkeys.json') as f: \n",
    "        keys = json.load(f) \n",
    "        omdbapi = keys['OMDBapi'] \n",
    "        serviceurl = 'http://www.omdbapi.com/?'\n",
    "        apikey = '&apikey='+omdbapi \n",
    "    return ctx == x"
   ]
  }
 ],
 "metadata": {
  "kernelspec": {
   "display_name": "Python 3",
   "language": "python",
   "name": "python3"
  },
  "language_info": {
   "codemirror_mode": {
    "name": "ipython",
    "version": 3
   },
   "file_extension": ".py",
   "mimetype": "text/x-python",
   "name": "python",
   "nbconvert_exporter": "python",
   "pygments_lexer": "ipython3",
   "version": "3.7.3"
  }
 },
 "nbformat": 4,
 "nbformat_minor": 2
}
