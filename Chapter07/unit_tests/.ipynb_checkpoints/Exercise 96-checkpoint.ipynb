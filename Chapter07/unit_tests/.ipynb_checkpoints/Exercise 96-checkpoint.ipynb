{
 "cells": [
  {
   "cell_type": "code",
   "execution_count": null,
   "metadata": {},
   "outputs": [],
   "source": [
    "def test_exercise_96_2(x) -> bool:\n",
    "    import re\n",
    "    string1 = 'Python' \n",
    "    string2 = 'python'\n",
    "    pattern = r\"Python\"\n",
    "    prog = re.compile(pattern)\n",
    "    return prog.match(string1) == x"
   ]
  },
  {
   "cell_type": "code",
   "execution_count": null,
   "metadata": {},
   "outputs": [],
   "source": [
    "def test_exercise_96_3(x) -> bool:\n",
    "    import re\n",
    "    string1 = 'Python' \n",
    "    string2 = 'python'\n",
    "    pattern = r\"Python\"\n",
    "    prog = re.compile(pattern)\n",
    "    return prog.match(string1) == x"
   ]
  }
 ],
 "metadata": {
  "kernelspec": {
   "display_name": "Python 3",
   "language": "python",
   "name": "python3"
  },
  "language_info": {
   "codemirror_mode": {
    "name": "ipython",
    "version": 3
   },
   "file_extension": ".py",
   "mimetype": "text/x-python",
   "name": "python",
   "nbconvert_exporter": "python",
   "pygments_lexer": "ipython3",
   "version": "3.7.3"
  }
 },
 "nbformat": 4,
 "nbformat_minor": 2
}
