{
 "cells": [
  {
   "cell_type": "code",
   "execution_count": null,
   "metadata": {},
   "outputs": [],
   "source": [
    "def test_exercise_85_1(x) -> bool:\n",
    "    import requests \n",
    "    from bs4 import BeautifulSoup \n",
    "    wiki_home = \"https://en.wikipedia.org/wiki/Main_Page\"\n",
    "    response = requests.get(wiki_home)\n",
    "    def decode_content(r,encoding): \n",
    "        return (r.content.decode(encoding)) \n",
    "    contents = decode_content(response,encoding_check(response)) \n",
    "    soup = BeautifulSoup(contents, 'html.parser')\n",
    "    txt_dump=soup.text\n",
    "    text_list=[] #Empty list \n",
    "        for d in soup.find_all('div'): \n",
    "            if (d.get('id')=='mp-otd'): \n",
    "                for i in d.find_all('ul'): \n",
    "                    text_list.append(i.text) \n",
    "    return text_list == x"
   ]
  }
 ],
 "metadata": {
  "kernelspec": {
   "display_name": "Python 3",
   "language": "python",
   "name": "python3"
  },
  "language_info": {
   "codemirror_mode": {
    "name": "ipython",
    "version": 3
   },
   "file_extension": ".py",
   "mimetype": "text/x-python",
   "name": "python",
   "nbconvert_exporter": "python",
   "pygments_lexer": "ipython3",
   "version": "3.7.3"
  }
 },
 "nbformat": 4,
 "nbformat_minor": 2
}
