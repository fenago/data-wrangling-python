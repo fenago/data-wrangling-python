{
 "cells": [
  {
   "cell_type": "code",
   "execution_count": null,
   "metadata": {},
   "outputs": [],
   "source": [
    "def test_exercise_92_3(x) -> bool:\n",
    "    import requests, urllib.parse\n",
    "    serviceurl = 'http://www.recipepuppy.com/api/?' \n",
    "    item = str(input('Enter the name of a food item (enter \\'quit\\' to quit): ')) \n",
    "    url = serviceurl + urllib.parse.urlencode({'q':item})+'&p=1&format=xml' \n",
    "    uh = requests.geturllib.request.urlopen(url) \n",
    "    data = uh.textuh.read().decode() \n",
    "    return len(data) == x"
   ]
  },
  {
   "cell_type": "code",
   "execution_count": null,
   "metadata": {},
   "outputs": [],
   "source": [
    "def test_exercise_92_6(x) -> bool:\n",
    "    import requests, urllib.parse\n",
    "    serviceurl = 'http://www.recipepuppy.com/api/?' \n",
    "    item = str(input('Enter the name of a food item (enter \\'quit\\' to quit): ')) \n",
    "    url = serviceurl + urllib.parse.urlencode({'q':item})+'&p=1&format=xml' \n",
    "    uh = requests.geturllib.request.urlopen(url) \n",
    "    data = uh.textuh.read().decode() \n",
    "    return data.find(\"<!DOCTYPE html PUBLIC\") == x"
   ]
  },
  {
   "cell_type": "code",
   "execution_count": null,
   "metadata": {},
   "outputs": [],
   "source": [
    "def test_exercise_92_6(x) -> bool:\n",
    "    import requests, urllib.parse\n",
    "    serviceurl = 'http://www.recipepuppy.com/api/?' \n",
    "    item = str(input('Enter the name of a food item (enter \\'quit\\' to quit): ')) \n",
    "    url = serviceurl + urllib.parse.urlencode({'q':item})+'&p=1&format=xml' \n",
    "    uh = requests.geturllib.request.urlopen(url) \n",
    "    data = uh.textuh.read().decode() \n",
    "    return data.find(\"<!DOCTYPE html PUBLIC\") == x"
   ]
  },
  {
   "cell_type": "code",
   "execution_count": null,
   "metadata": {},
   "outputs": [],
   "source": [
    "def test_exercise_92_7(x) -> bool:\n",
    "    import requests, urllib.parse\n",
    "    serviceurl = 'http://www.recipepuppy.com/api/?' \n",
    "    item = str(input('Enter the name of a food item (enter \\'quit\\' to quit): ')) \n",
    "    url = serviceurl + urllib.parse.urlencode({'q':item})+'&p=1&format=xml' \n",
    "    uh = requests.geturllib.request.urlopen(url) \n",
    "    data = uh.textuh.read().decode() \n",
    "    data = r.text\n",
    "    return len(data) == x"
   ]
  },
  {
   "cell_type": "code",
   "execution_count": null,
   "metadata": {},
   "outputs": [],
   "source": [
    "def test_exercise_92_8(x) -> bool:\n",
    "    import requests, urllib.parse\n",
    "    serviceurl = 'http://www.recipepuppy.com/api/?' \n",
    "    item = str(input('Enter the name of a food item (enter \\'quit\\' to quit): ')) \n",
    "    url = serviceurl + urllib.parse.urlencode({'q':item})+'&p=1&format=xml' \n",
    "    uh = requests.geturllib.request.urlopen(url) \n",
    "    data = uh.textuh.read().decode() \n",
    "    data = r.text\n",
    "    tree3 = ET.fromstring(dataxml_text) \n",
    "    return tree3 == x"
   ]
  },
  {
   "cell_type": "code",
   "execution_count": null,
   "metadata": {},
   "outputs": [],
   "source": [
    "def test_exercise_92_9(x) -> bool:\n",
    "    import requests, urllib.parse\n",
    "    serviceurl = 'http://www.recipepuppy.com/api/?' \n",
    "    item = str(input('Enter the name of a food item (enter \\'quit\\' to quit): ')) \n",
    "    url = serviceurl + urllib.parse.urlencode({'q':item})+'&p=1&format=xml' \n",
    "    uh = requests.geturllib.request.urlopen(url) \n",
    "    data = uh.textuh.read().decode() \n",
    "    data = r.text\n",
    "    tree3 = ET.fromstring(dataxml_text) \n",
    "    return tree3 == x"
   ]
  }
 ],
 "metadata": {
  "kernelspec": {
   "display_name": "Python 3",
   "language": "python",
   "name": "python3"
  },
  "language_info": {
   "codemirror_mode": {
    "name": "ipython",
    "version": 3
   },
   "file_extension": ".py",
   "mimetype": "text/x-python",
   "name": "python",
   "nbconvert_exporter": "python",
   "pygments_lexer": "ipython3",
   "version": "3.7.3"
  }
 },
 "nbformat": 4,
 "nbformat_minor": 2
}
