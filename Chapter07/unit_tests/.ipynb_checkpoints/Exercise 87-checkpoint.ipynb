{
 "cells": [
  {
   "cell_type": "code",
   "execution_count": null,
   "metadata": {},
   "outputs": [],
   "source": [
    "def test_exercise_87_1(x) -> bool:\n",
    "   data = \"\"\"\n",
    "<person> \n",
    "  <name>Dave</name> \n",
    "  <surname>Piccardo</surname> \n",
    "  <phone type=\"intl\"> \n",
    "     +1 742 101 4456 \n",
    "   </phone> \n",
    "   <email hide=\"yes\"> \n",
    "   dave.p@gmail.com</email> \n",
    "</person>\"\"\" \n",
    "    return data == x"
   ]
  },
  {
   "cell_type": "code",
   "execution_count": null,
   "metadata": {},
   "outputs": [],
   "source": [
    "def test_exercise_87_2(x) -> bool:\n",
    "    return \"ml.etree.ElementTree.Element\" == x"
   ]
  }
 ],
 "metadata": {
  "kernelspec": {
   "display_name": "Python 3",
   "language": "python",
   "name": "python3"
  },
  "language_info": {
   "codemirror_mode": {
    "name": "ipython",
    "version": 3
   },
   "file_extension": ".py",
   "mimetype": "text/x-python",
   "name": "python",
   "nbconvert_exporter": "python",
   "pygments_lexer": "ipython3",
   "version": "3.7.3"
  }
 },
 "nbformat": 4,
 "nbformat_minor": 2
}
