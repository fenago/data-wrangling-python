{
 "cells": [
  {
   "cell_type": "code",
   "execution_count": 3,
   "metadata": {},
   "outputs": [
    {
     "ename": "SyntaxError",
     "evalue": "'return' outside function (<ipython-input-3-cf1deb4799ab>, line 48)",
     "output_type": "error",
     "traceback": [
      "\u001b[1;36m  File \u001b[1;32m\"<ipython-input-3-cf1deb4799ab>\"\u001b[1;36m, line \u001b[1;32m48\u001b[0m\n\u001b[1;33m    return pd.DataFrame(country_dict)\u001b[0m\n\u001b[1;37m    ^\u001b[0m\n\u001b[1;31mSyntaxError\u001b[0m\u001b[1;31m:\u001b[0m 'return' outside function\n"
     ]
    }
   ],
   "source": [
    "import pandas as pd\n",
    "import json\n",
    "def build_country_database(list_country):\n",
    "    \"\"\"\n",
    "    Takes a list of country names.\n",
    "    Output a DataFrame with key information about those countries.\n",
    "    \"\"\"\n",
    "    # Define an empty dictionary with keys\n",
    "    country_dict={'Country':[],'Capital':[],'Region':[],'Sub-region':[],'Population':[],\n",
    "                  'Lattitude':[],'Longitude':[],'Area':[],'Gini':[],'Timezones':[],\n",
    "                  'Currencies':[],'Languages':[]}\n",
    "for c in list_country:\n",
    "    data = get_country_data(c)\n",
    "    if data!=None:\n",
    "        x = json.loads(data)\n",
    "        y=x[0]\n",
    "        country_dict['Country'].append(y['name'])\n",
    "        country_dict['Capital'].append(y['capital'])\n",
    "        country_dict['Region'].append(y['region'])\n",
    "        country_dict['Sub-region'].append(y['subregion'])\n",
    "        country_dict['Population'].append(y['population'])\n",
    "        country_dict['Lattitude'].append(y['latlng'][0])\n",
    "        country_dict['Longitude'].append(y['latlng'][1])\n",
    "        country_dict['Area'].append(y['area'])\n",
    "        country_dict['Gini'].append(y['gini'])\n",
    "# Note the code to handle possibility of multiple timezones as a list\n",
    "            if len(y['timezones'])>1:\n",
    "                country_dict['Timezones'].append(','.join(y['timezones']))\n",
    "            else:\n",
    "                country_dict['Timezones'].append(y['timezones'][0])\n",
    "            # Note the code to handle possibility of multiple currencies as dictionaries\n",
    "            if len(y['currencies'])>1:\n",
    "                lst_currencies = []\n",
    "                for i in y['currencies']:\n",
    "                    lst_currencies.append(i['name'])\n",
    "                country_dict['Currencies'].append(','.join(lst_currencies))\n",
    "            else:\n",
    "                country_dict['Currencies'].append(y['currencies'][0]['name'])\n",
    "            # Note the code to handle possibility of multiple languages as dictionaries\n",
    "            if len(y['languages'])>1:\n",
    "                lst_languages = []\n",
    "                for i in y['languages']:\n",
    "                    lst_languages.append(i['name'])\n",
    "                country_dict['Languages'].append(','.join(lst_languages))\n",
    "            else:\n",
    "                country_dict['Languages'].append(y['languages'][0]['name'])\n",
    "    \n",
    "            return pd.DataFrame(country_dict) \n"
   ]
  },
  {
   "cell_type": "code",
   "execution_count": null,
   "metadata": {},
   "outputs": [],
   "source": []
  }
 ],
 "metadata": {
  "kernelspec": {
   "display_name": "Python 3",
   "language": "python",
   "name": "python3"
  },
  "language_info": {
   "codemirror_mode": {
    "name": "ipython",
    "version": 3
   },
   "file_extension": ".py",
   "mimetype": "text/x-python",
   "name": "python",
   "nbconvert_exporter": "python",
   "pygments_lexer": "ipython3",
   "version": "3.7.3"
  }
 },
 "nbformat": 4,
 "nbformat_minor": 2
}
