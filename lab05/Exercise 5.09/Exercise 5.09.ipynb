{
 "cells": [
  {
   "cell_type": "code",
   "execution_count": null,
   "metadata": {},
   "outputs": [],
   "source": [
    "from tabula import read_pdf"
   ]
  },
  {
   "cell_type": "code",
   "execution_count": null,
   "metadata": {},
   "outputs": [],
   "source": [
    "import pandas as pd\n",
    "df18_1 = read_pdf('../datasets/Housing_data.pdf',pages=[1],pandas_options={'header':None})\n",
    "df18_1 "
   ]
  },
  {
   "cell_type": "code",
   "execution_count": null,
   "metadata": {},
   "outputs": [],
   "source": [
    "df18_2 = read_pdf('../datasets/Housing_data.pdf',pages=[2],pandas_options={'header':None})\n",
    "df18_2\n"
   ]
  },
  {
   "cell_type": "code",
   "execution_count": null,
   "metadata": {},
   "outputs": [],
   "source": [
    "import pandas as pd\n",
    "df1 = pd.DataFrame(df18_1)\n",
    "df2 = pd.DataFrame(df18_2)\n"
   ]
  },
  {
   "cell_type": "code",
   "execution_count": null,
   "metadata": {},
   "outputs": [],
   "source": [
    "df18=pd.concat([df1,df2],axis=1)\n",
    "df18.values.tolist()\n"
   ]
  },
  {
   "cell_type": "code",
   "execution_count": null,
   "metadata": {},
   "outputs": [],
   "source": [
    "names=['CRIM','ZN','INDUS','CHAS','NOX','RM',\n",
    "'AGE','DIS','RAD','TAX','PTRATIO','B','LSTAT','PRICE']\n",
    "df18_1 = read_pdf('../datasets/Housing_data.pdf',pages=[1],pandas_options={'header':None,'names':names[:10]})\n",
    "df18_2 = read_pdf('../datasets/Housing_data.pdf',pages=[2],pandas_options={'header':None,'names':names[10:]})\n",
    "df1 = pd.DataFrame(df18_1)\n",
    "df2 = pd.DataFrame(df18_2)\n",
    "df18=pd.concat([df1,df2],axis=1)\n",
    "df18.values.tolist()"
   ]
  }
 ],
 "metadata": {
  "kernelspec": {
   "display_name": "Python 3",
   "language": "python",
   "name": "python3"
  },
  "language_info": {
   "codemirror_mode": {
    "name": "ipython",
    "version": 3
   },
   "file_extension": ".py",
   "mimetype": "text/x-python",
   "name": "python",
   "nbconvert_exporter": "python",
   "pygments_lexer": "ipython3",
   "version": "3.8.6"
  }
 },
 "nbformat": 4,
 "nbformat_minor": 2
}
