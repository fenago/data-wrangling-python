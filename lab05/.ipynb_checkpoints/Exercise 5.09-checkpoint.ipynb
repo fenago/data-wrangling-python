{
 "cells": [
  {
   "cell_type": "code",
   "execution_count": 1,
   "metadata": {},
   "outputs": [],
   "source": [
    "from tabula import read_pdf"
   ]
  },
  {
   "cell_type": "code",
   "execution_count": 2,
   "metadata": {},
   "outputs": [
    {
     "name": "stderr",
     "output_type": "stream",
     "text": [
      "Got stderr: Feb 05, 2020 2:39:27 PM org.apache.pdfbox.rendering.PDFRenderer suggestKCMS\r\n",
      "INFO: Your current java version is: 1.8.0_131\r\n",
      "Feb 05, 2020 2:39:28 PM org.apache.pdfbox.rendering.PDFRenderer suggestKCMS\r\n",
      "INFO: To get higher rendering speed on old java 1.8 or 9 versions,\r\n",
      "Feb 05, 2020 2:39:28 PM org.apache.pdfbox.rendering.PDFRenderer suggestKCMS\r\n",
      "INFO:   update to the latest 1.8 or 9 version (>= 1.8.0_191 or >= 9.0.4),\r\n",
      "Feb 05, 2020 2:39:28 PM org.apache.pdfbox.rendering.PDFRenderer suggestKCMS\r\n",
      "INFO:   or\r\n",
      "Feb 05, 2020 2:39:28 PM org.apache.pdfbox.rendering.PDFRenderer suggestKCMS\r\n",
      "INFO:   use the option -Dsun.java2d.cmm=sun.java2d.cmm.kcms.KcmsServiceProvider\r\n",
      "Feb 05, 2020 2:39:28 PM org.apache.pdfbox.rendering.PDFRenderer suggestKCMS\r\n",
      "INFO:   or call System.setProperty(\"sun.java2d.cmm\", \"sun.java2d.cmm.kcms.KcmsServiceProvider\")\r\n",
      "\n"
     ]
    },
    {
     "data": {
      "text/plain": [
       "[         0     1     2  3      4      5     6       7  8    9\n",
       " 0  0.17004  12.5  7.87  0  0.524  6.004  85.9  6.5921  5  311\n",
       " 1  0.22489  12.5  7.87  0  0.524  6.377  94.3  6.3467  5  311\n",
       " 2  0.11747  12.5  7.87  0  0.524  6.009  82.9  6.2267  5  311\n",
       " 3  0.09378  12.5  7.87  0  0.524  5.889  39.0  5.4509  5  311]"
      ]
     },
     "execution_count": 2,
     "metadata": {},
     "output_type": "execute_result"
    }
   ],
   "source": [
    "df18_1 = read_pdf('Housing_data.pdf',pages=[1],pandas_options={'header':None})\n",
    "df18_1"
   ]
  },
  {
   "cell_type": "code",
   "execution_count": 3,
   "metadata": {},
   "outputs": [
    {
     "name": "stderr",
     "output_type": "stream",
     "text": [
      "Got stderr: Feb 05, 2020 2:42:06 PM org.apache.pdfbox.rendering.PDFRenderer suggestKCMS\r\n",
      "INFO: Your current java version is: 1.8.0_131\r\n",
      "Feb 05, 2020 2:42:06 PM org.apache.pdfbox.rendering.PDFRenderer suggestKCMS\r\n",
      "INFO: To get higher rendering speed on old java 1.8 or 9 versions,\r\n",
      "Feb 05, 2020 2:42:06 PM org.apache.pdfbox.rendering.PDFRenderer suggestKCMS\r\n",
      "INFO:   update to the latest 1.8 or 9 version (>= 1.8.0_191 or >= 9.0.4),\r\n",
      "Feb 05, 2020 2:42:06 PM org.apache.pdfbox.rendering.PDFRenderer suggestKCMS\r\n",
      "INFO:   or\r\n",
      "Feb 05, 2020 2:42:06 PM org.apache.pdfbox.rendering.PDFRenderer suggestKCMS\r\n",
      "INFO:   use the option -Dsun.java2d.cmm=sun.java2d.cmm.kcms.KcmsServiceProvider\r\n",
      "Feb 05, 2020 2:42:06 PM org.apache.pdfbox.rendering.PDFRenderer suggestKCMS\r\n",
      "INFO:   or call System.setProperty(\"sun.java2d.cmm\", \"sun.java2d.cmm.kcms.KcmsServiceProvider\")\r\n",
      "\n"
     ]
    },
    {
     "data": {
      "text/plain": [
       "[      0       1      2     3\n",
       " 0  15.2  386.71  17.10  18.9\n",
       " 1  15.2  392.52  20.45  15.0\n",
       " 2  15.2  396.90  13.27  18.9\n",
       " 3  15.2  390.50  15.71  21.7]"
      ]
     },
     "execution_count": 3,
     "metadata": {},
     "output_type": "execute_result"
    }
   ],
   "source": [
    "df18_2 = read_pdf('Housing_data.pdf',pages=[2],pandas_options={'header':None})\n",
    "df18_2\n"
   ]
  },
  {
   "cell_type": "code",
   "execution_count": null,
   "metadata": {},
   "outputs": [],
   "source": [
    "df18=pd.concat([df18_1,df18_2],axis=1)\n",
    "df18\n"
   ]
  },
  {
   "cell_type": "code",
   "execution_count": null,
   "metadata": {},
   "outputs": [],
   "source": [
    "names=['CRIM','ZN','INDUS','CHAS','NOX','RM',\n",
    "'AGE','DIS','RAD','TAX','PTRATIO','B','LSTAT','PRICE']\n",
    "df18_1 = read_pdf('Housing_data.pdf',pages=[1],pandas_options={'header':None,'names':names[:10]})\n",
    "df18_2 = read_pdf('Housing_data.pdf',pages=[2],pandas_options={'header':None,'names':names[10:]})\n",
    "df18=pd.concat([df18_1,df18_2],axis=1)\n",
    "df18\n"
   ]
  },
  {
   "cell_type": "code",
   "execution_count": null,
   "metadata": {},
   "outputs": [],
   "source": []
  }
 ],
 "metadata": {
  "kernelspec": {
   "display_name": "Python 3",
   "language": "python",
   "name": "python3"
  },
  "language_info": {
   "codemirror_mode": {
    "name": "ipython",
    "version": 3
   },
   "file_extension": ".py",
   "mimetype": "text/x-python",
   "name": "python",
   "nbconvert_exporter": "python",
   "pygments_lexer": "ipython3",
   "version": "3.7.3"
  }
 },
 "nbformat": 4,
 "nbformat_minor": 2
}
