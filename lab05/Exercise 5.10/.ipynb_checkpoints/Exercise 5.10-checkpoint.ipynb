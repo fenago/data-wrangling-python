{
 "cells": [
  {
   "cell_type": "code",
   "execution_count": null,
   "metadata": {},
   "outputs": [],
   "source": [
    "from bs4 import BeautifulSoup"
   ]
  },
  {
   "cell_type": "code",
   "execution_count": null,
   "metadata": {},
   "outputs": [],
   "source": [
    "with open(\"../datasets/test.html\", \"r\") as fd:\n",
    "    soup = BeautifulSoup(fd)\n",
    "    print(type(soup))\n"
   ]
  },
  {
   "cell_type": "code",
   "execution_count": null,
   "metadata": {},
   "outputs": [],
   "source": [
    "print(soup.prettify())"
   ]
  },
  {
   "cell_type": "code",
   "execution_count": null,
   "metadata": {},
   "outputs": [],
   "source": [
    "with open(\"../datasets/test.html\", \"r\") as fd:\n",
    "    soup = BeautifulSoup(fd)\n",
    "    print(soup.p)\n"
   ]
  },
  {
   "cell_type": "code",
   "execution_count": null,
   "metadata": {},
   "outputs": [],
   "source": [
    "with open(\"../datasets/test.html\", \"r\") as fd:\n",
    "    soup = BeautifulSoup(fd)\n",
    "    all_ps = soup.find_all('p')\n",
    "    print(\"Total number of <p>  --- {}\".format(len(all_ps)))\n"
   ]
  },
  {
   "cell_type": "code",
   "execution_count": null,
   "metadata": {},
   "outputs": [],
   "source": [
    "with open(\"../datasets/test.html\", \"r\") as fd:\n",
    "    soup = BeautifulSoup(fd)\n",
    "    table = soup.table\n",
    "    print(table.contents)\n"
   ]
  },
  {
   "cell_type": "code",
   "execution_count": null,
   "metadata": {
    "scrolled": true
   },
   "outputs": [],
   "source": [
    "with open(\"../datasets/test.html\", \"r\") as fd:\n",
    "    soup = BeautifulSoup(fd)\n",
    "    table = soup.table\n",
    "    for child in table.children:\n",
    "        print(child)\n",
    "        print(\"*****\")\n"
   ]
  },
  {
   "cell_type": "code",
   "execution_count": null,
   "metadata": {},
   "outputs": [],
   "source": [
    "with open(\"../datasets/test.html\", \"r\") as fd:\n",
    "    soup = BeautifulSoup(fd)\n",
    "    table = soup.table\n",
    "    children = table.children\n",
    "    des = table.descendants\n",
    "    print(len(list(children)), len(list(des)))\n"
   ]
  }
 ],
 "metadata": {
  "kernelspec": {
   "display_name": "Python 3",
   "language": "python",
   "name": "python3"
  },
  "language_info": {
   "codemirror_mode": {
    "name": "ipython",
    "version": 3
   },
   "file_extension": ".py",
   "mimetype": "text/x-python",
   "name": "python",
   "nbconvert_exporter": "python",
   "pygments_lexer": "ipython3",
   "version": "3.8.6"
  }
 },
 "nbformat": 4,
 "nbformat_minor": 2
}
