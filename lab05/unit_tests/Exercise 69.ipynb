{
 "cells": [
  {
   "cell_type": "code",
   "execution_count": null,
   "metadata": {},
   "outputs": [],
   "source": [
    "def test_exercise_69_1(x) -> bool:\n",
    "    import sys\n",
    "    if \"bs4\" in sys.modules:\n",
    "        return False\n",
    "    else:\n",
    "        return True"
   ]
  },
  {
   "cell_type": "code",
   "execution_count": 5,
   "metadata": {},
   "outputs": [
    {
     "data": {
      "text/plain": [
       "True"
      ]
     },
     "execution_count": 5,
     "metadata": {},
     "output_type": "execute_result"
    }
   ],
   "source": [
    "def test_exercise_69_2(x) -> bool:\n",
    "    return \"bs4.BeautifulSoup\" == x "
   ]
  },
  {
   "cell_type": "code",
   "execution_count": null,
   "metadata": {},
   "outputs": [],
   "source": [
    "def test_exercise_69_3(x) -> bool:\n",
    "    from bs4 import BeautifulSoup \n",
    "    with open(\"../test.html\", \"r\") as fd: \n",
    "        soup = BeautifulSoup(fd)\n",
    "    return soup.prettify() == x"
   ]
  },
  {
   "cell_type": "code",
   "execution_count": null,
   "metadata": {},
   "outputs": [],
   "source": [
    "def test_exercise_69_4(x) -> bool:\n",
    "    from bs4 import BeautifulSoup \n",
    "    with open(\"../test.html\", \"r\") as fd: \n",
    "        soup = BeautifulSoup(fd) \n",
    "    return soup.prettify() == x"
   ]
  },
  {
   "cell_type": "code",
   "execution_count": null,
   "metadata": {},
   "outputs": [],
   "source": [
    "def test_exercise_69_5(x) -> bool:\n",
    "    from bs4 import BeautifulSoup \n",
    "    with open(\"../test.html\", \"r\") as fd: \n",
    "        soup = BeautifulSoup(fd) \n",
    "        all_ps = soup.find_all('p') \n",
    "    return len(all_ps) == x"
   ]
  },
  {
   "cell_type": "code",
   "execution_count": null,
   "metadata": {},
   "outputs": [],
   "source": [
    "def test_exercise_69_6(x) -> bool:\n",
    "    from bs4 import BeautifulSoup \n",
    "    with open(\"../test.html\", \"r\") as fd: \n",
    "        soup = BeautifulSoup(fd) \n",
    "        table = soup.table \n",
    "    return table == x"
   ]
  },
  {
   "cell_type": "code",
   "execution_count": null,
   "metadata": {},
   "outputs": [],
   "source": [
    "def test_exercise_69_8(x) -> bool:\n",
    "    from bs4 import BeautifulSoup \n",
    "    with open(\"../test.html\", \"r\") as fd: \n",
    "        soup = BeautifulSoup(fd) \n",
    "        table = soup.table \n",
    "        children = table.children \n",
    "        des = table.descendant\n",
    "    return table == x"
   ]
  },
  {
   "cell_type": "code",
   "execution_count": null,
   "metadata": {},
   "outputs": [],
   "source": []
  }
 ],
 "metadata": {
  "kernelspec": {
   "display_name": "Python 3",
   "language": "python",
   "name": "python3"
  },
  "language_info": {
   "codemirror_mode": {
    "name": "ipython",
    "version": 3
   },
   "file_extension": ".py",
   "mimetype": "text/x-python",
   "name": "python",
   "nbconvert_exporter": "python",
   "pygments_lexer": "ipython3",
   "version": "3.7.3"
  }
 },
 "nbformat": 4,
 "nbformat_minor": 2
}
