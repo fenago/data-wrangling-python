{
 "cells": [
  {
   "cell_type": "code",
   "execution_count": 1,
   "metadata": {},
   "outputs": [],
   "source": [
    "def test_exercise_60_1(x) -> bool:\n",
    "    import pandas as pd \n",
    "    df = pd.read_csv(\"../CSV_EX_1.csv\") \n",
    "    return df.equals(x)"
   ]
  },
  {
   "cell_type": "code",
   "execution_count": 2,
   "metadata": {},
   "outputs": [],
   "source": [
    "def test_exercise_60_2(x) -> bool:\n",
    "    import pandas as pd \n",
    "    df = pd.read_csv(\"../CSV_EX_2.csv\") \n",
    "    return df.equals(x)"
   ]
  },
  {
   "cell_type": "code",
   "execution_count": 4,
   "metadata": {},
   "outputs": [],
   "source": [
    "def test_exercise_60_3(x) -> bool:\n",
    "    import pandas as pd \n",
    "    df = pd.read_csv(\"../CSV_EX_2.csv\",header=None) \n",
    "    return df.equals(x)"
   ]
  },
  {
   "cell_type": "code",
   "execution_count": 7,
   "metadata": {},
   "outputs": [],
   "source": [
    "def test_exercise_60_4(x) -> bool:\n",
    "    import pandas as pd \n",
    "    df = pd.read_csv(\"../CSV_EX_2.csv\", \n",
    "                     header=None, names=['Bedroom','Sq.ft','Locality','Price($)']) \n",
    "    return df.equals(x)"
   ]
  }
 ],
 "metadata": {
  "kernelspec": {
   "display_name": "Python 3",
   "language": "python",
   "name": "python3"
  },
  "language_info": {
   "codemirror_mode": {
    "name": "ipython",
    "version": 3
   },
   "file_extension": ".py",
   "mimetype": "text/x-python",
   "name": "python",
   "nbconvert_exporter": "python",
   "pygments_lexer": "ipython3",
   "version": "3.7.3"
  }
 },
 "nbformat": 4,
 "nbformat_minor": 2
}
