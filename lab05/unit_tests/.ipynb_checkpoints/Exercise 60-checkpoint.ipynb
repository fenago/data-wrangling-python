{
 "cells": [
  {
   "cell_type": "code",
   "execution_count": null,
   "metadata": {},
   "outputs": [],
   "source": [
    "def test_exercise_60_1(x) -> bool:\n",
    "    import pandas as pd \n",
    "    df = pd.read_csv(\"../CSV_EX_1.csv\") \n",
    "    return df.equals(x)"
   ]
  },
  {
   "cell_type": "code",
   "execution_count": null,
   "metadata": {},
   "outputs": [],
   "source": [
    "def test_exercise_60_2(x) -> bool:\n",
    "    import pandas as pd \n",
    "    df = pd.read_csv(\"../CSV_EX_2.csv\") \n",
    "    return df.equals(x)"
   ]
  },
  {
   "cell_type": "code",
   "execution_count": null,
   "metadata": {},
   "outputs": [],
   "source": [
    "def test_exercise_60_3x) -> bool:\n",
    "    import pandas as pd \n",
    "    df = pd.read_csv(\"../CSV_EX_2.csv\",header=None) \n",
    "    return df.equals(x)"
   ]
  },
  {
   "cell_type": "code",
   "execution_count": null,
   "metadata": {},
   "outputs": [],
   "source": [
    "def test_exercise_60_4x) -> bool:\n",
    "    import pandas as pd \n",
    "    df = pd.read_csv(\"../CSV_EX_2.csv\", \n",
    "                     header=None, names=['Bedroom','Sq.ft','Locality','Price($)']) ) \n",
    "    return df.equals(x)"
   ]
  }
 ],
 "metadata": {
  "kernelspec": {
   "display_name": "Python 3",
   "language": "python",
   "name": "python3"
  },
  "language_info": {
   "codemirror_mode": {
    "name": "ipython",
    "version": 3
   },
   "file_extension": ".py",
   "mimetype": "text/x-python",
   "name": "python",
   "nbconvert_exporter": "python",
   "pygments_lexer": "ipython3",
   "version": "3.7.3"
  }
 },
 "nbformat": 4,
 "nbformat_minor": 2
}
