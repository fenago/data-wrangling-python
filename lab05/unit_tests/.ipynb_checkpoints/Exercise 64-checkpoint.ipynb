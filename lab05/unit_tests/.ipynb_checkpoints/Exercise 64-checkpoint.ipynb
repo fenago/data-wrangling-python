{
 "cells": [
  {
   "cell_type": "code",
   "execution_count": null,
   "metadata": {},
   "outputs": [],
   "source": [
    "def test_exercise_64_1(x) -> bool:\n",
    "    import pandas as pd \n",
    "    l =  list_of_dataframe = []   \n",
    "    return l == x"
   ]
  },
  {
   "cell_type": "code",
   "execution_count": null,
   "metadata": {},
   "outputs": [],
   "source": [
    "def test_exercise_64_2(x) -> bool:\n",
    "    import pandas as pd \n",
    "    rows_in_a_chunk = 10   \n",
    "    return rows_in_a_chunk == x"
   ]
  },
  {
   "cell_type": "code",
   "execution_count": null,
   "metadata": {},
   "outputs": [],
   "source": [
    "def test_exercise_64_3(x) -> bool:\n",
    "    import pandas as pd \n",
    "    num_chunks = 5  \n",
    "    return num_chunks == x"
   ]
  }
 ],
 "metadata": {
  "kernelspec": {
   "display_name": "Python 3",
   "language": "python",
   "name": "python3"
  },
  "language_info": {
   "codemirror_mode": {
    "name": "ipython",
    "version": 3
   },
   "file_extension": ".py",
   "mimetype": "text/x-python",
   "name": "python",
   "nbconvert_exporter": "python",
   "pygments_lexer": "ipython3",
   "version": "3.7.3"
  }
 },
 "nbformat": 4,
 "nbformat_minor": 2
}
