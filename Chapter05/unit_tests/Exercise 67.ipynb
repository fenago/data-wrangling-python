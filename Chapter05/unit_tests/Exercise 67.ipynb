{
 "cells": [
  {
   "cell_type": "code",
   "execution_count": null,
   "metadata": {},
   "outputs": [],
   "source": [
    "def test_exercise_67_1(x) -> bool:\n",
    "    import pandas as pd \n",
    "    df = pd.read_json(\"../movies.json\")\n",
    "    return df.equals(x)"
   ]
  },
  {
   "cell_type": "code",
   "execution_count": null,
   "metadata": {},
   "outputs": [],
   "source": [
    "def test_exercise_67_2(x) -> bool:\n",
    "    import pandas as pd \n",
    "    df16 = pd.read_json(\"../movies.json\")\n",
    "    cast_of_avengers=df16[(df16['title']==\"The Avengers\") & (df16['year']==2012)]['cast'] \n",
    "    return cast_of_avengers == x"
   ]
  }
 ],
 "metadata": {
  "kernelspec": {
   "display_name": "Python 3",
   "language": "python",
   "name": "python3"
  },
  "language_info": {
   "codemirror_mode": {
    "name": "ipython",
    "version": 3
   },
   "file_extension": ".py",
   "mimetype": "text/x-python",
   "name": "python",
   "nbconvert_exporter": "python",
   "pygments_lexer": "ipython3",
   "version": "3.7.3"
  }
 },
 "nbformat": 4,
 "nbformat_minor": 2
}
