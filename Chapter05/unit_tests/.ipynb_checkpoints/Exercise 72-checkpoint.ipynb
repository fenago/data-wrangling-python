{
 "cells": [
  {
   "cell_type": "code",
   "execution_count": null,
   "metadata": {},
   "outputs": [],
   "source": [
    "def test_exercise_71_1(x) -> bool:\n",
    "    from bs4 import BeautifulSoup \n",
    "    import pandas as pd \n",
    "    d = open(\"test.html\", \"r\") \n",
    "    soup = BeautifulSoup(fd) \n",
    "    lis = soup.find('ul').findAll('li') \n",
    "    stack = [] \n",
    "    for li in lis: \n",
    "        a = li.find('a', href=True) \n",
    "    return a == x"
   ]
  },
  {
   "cell_type": "code",
   "execution_count": null,
   "metadata": {},
   "outputs": [],
   "source": [
    "def test_exercise_71_1(x) -> bool:\n",
    "    from bs4 import BeautifulSoup \n",
    "    import pandas as pd \n",
    "    d = open(\"test.html\", \"r\") \n",
    "    soup = BeautifulSoup(fd) \n",
    "    lis = soup.find('ul').findAll('li') \n",
    "    stack = [] \n",
    "    for li in lis: \n",
    "        a = li.find('a', href=True) \n",
    "    stack.append(a['href']) \n",
    "    return stack == x"
   ]
  }
 ],
 "metadata": {
  "kernelspec": {
   "display_name": "Python 3",
   "language": "python",
   "name": "python3"
  },
  "language_info": {
   "codemirror_mode": {
    "name": "ipython",
    "version": 3
   },
   "file_extension": ".py",
   "mimetype": "text/x-python",
   "name": "python",
   "nbconvert_exporter": "python",
   "pygments_lexer": "ipython3",
   "version": "3.7.3"
  }
 },
 "nbformat": 4,
 "nbformat_minor": 2
}
