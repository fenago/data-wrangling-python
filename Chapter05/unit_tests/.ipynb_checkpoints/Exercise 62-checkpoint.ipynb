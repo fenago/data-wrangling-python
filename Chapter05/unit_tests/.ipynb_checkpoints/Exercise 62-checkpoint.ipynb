{
 "cells": [
  {
   "cell_type": "code",
   "execution_count": null,
   "metadata": {},
   "outputs": [],
   "source": [
    "def test_exercise_62_1(x) -> bool:\n",
    "    import pandas as pd \n",
    "    df =  pd.read_csv(\"../CSV_EX_1.csv\",names=['A','B','C','D']) \n",
    "    return df.equals(x)"
   ]
  },
  {
   "cell_type": "code",
   "execution_count": null,
   "metadata": {},
   "outputs": [],
   "source": [
    "def test_exercise_62_2(x) -> bool:\n",
    "    import pandas as pd \n",
    "    df =  pd.read_csv(\"../CSV_EX_1.csv\",header=0,names=['A','B','C','D']) \n",
    "    return df.equals(x)"
   ]
  }
 ],
 "metadata": {
  "kernelspec": {
   "display_name": "Python 3",
   "language": "python",
   "name": "python3"
  },
  "language_info": {
   "codemirror_mode": {
    "name": "ipython",
    "version": 3
   },
   "file_extension": ".py",
   "mimetype": "text/x-python",
   "name": "python",
   "nbconvert_exporter": "python",
   "pygments_lexer": "ipython3",
   "version": "3.7.3"
  }
 },
 "nbformat": 4,
 "nbformat_minor": 2
}
