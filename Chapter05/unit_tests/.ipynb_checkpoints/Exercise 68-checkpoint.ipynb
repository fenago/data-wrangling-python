{
 "cells": [
  {
   "cell_type": "code",
   "execution_count": null,
   "metadata": {},
   "outputs": [],
   "source": [
    "def test_exercise_68_1(x) -> bool:\n",
    "    from tabula import read_pdf \n",
    "    df18_1 = read_pdf('../Housing_data.pdf',pages=[1],pandas_options={'header':None}) \n",
    "    return df18_1.equals(x)"
   ]
  },
  {
   "cell_type": "code",
   "execution_count": null,
   "metadata": {},
   "outputs": [],
   "source": [
    "def test_exercise_68_2(x) -> bool:\n",
    "    from tabula import read_pdf \n",
    "    df18_2 = read_pdf('../Housing_data.pdf',pages=[2],pandas_options={'header':None})     \n",
    "    return df18_2.equals(x)"
   ]
  },
  {
   "cell_type": "code",
   "execution_count": null,
   "metadata": {},
   "outputs": [],
   "source": [
    "def test_exercise_68_3(x) -> bool:\n",
    "    from tabula import read_pdf\n",
    "    df18_1 = read_pdf('../Housing_data.pdf',pages=[1],pandas_options={'header':None}) \n",
    "    df18_2 = read_pdf('../Housing_data.pdf',pages=[2],pandas_options={'header':None})     \n",
    "    df18=pd.concat([df18_1,df18_2],axis=1)\n",
    "    return df18.equals(x)"
   ]
  },
  {
   "cell_type": "code",
   "execution_count": null,
   "metadata": {},
   "outputs": [],
   "source": [
    "def test_exercise_68_3(x) -> bool:\n",
    "    from tabula import read_pdf\n",
    "    names=['CRIM','ZN','INDUS','CHAS','NOX','RM', \n",
    "           'AGE','DIS','RAD','TAX','PTRATIO','B','LSTAT','PRICE'] \n",
    "    df18_1 = read_pdf('Housing_data.pdf',pages=[1],pandas_options={'header':None,'names':names[:10]}) \n",
    "    df18_2 = read_pdf('Housing_data.pdf',pages=[2],pandas_options={'header':None,'names':names[10:]}) \n",
    "    df18=pd.concat([df18_1,df18_2],axis=1) \n",
    "    return df18.equals(x)"
   ]
  }
 ],
 "metadata": {
  "kernelspec": {
   "display_name": "Python 3",
   "language": "python",
   "name": "python3"
  },
  "language_info": {
   "codemirror_mode": {
    "name": "ipython",
    "version": 3
   },
   "file_extension": ".py",
   "mimetype": "text/x-python",
   "name": "python",
   "nbconvert_exporter": "python",
   "pygments_lexer": "ipython3",
   "version": "3.7.3"
  }
 },
 "nbformat": 4,
 "nbformat_minor": 2
}
